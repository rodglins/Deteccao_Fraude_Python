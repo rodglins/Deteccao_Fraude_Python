{
  "nbformat": 4,
  "nbformat_minor": 0,
  "metadata": {
    "colab": {
      "name": "ProjetoDeteccaoFraudeDIO.ipynb",
      "provenance": [],
      "collapsed_sections": [
        "F0w2FlOUyaNQ",
        "oq0AmN_4zw6Y",
        "-Rp928AssJrm",
        "AKVWM1OotJaD",
        "ZPOsrk0h0FdK",
        "HxnerEBm3J-G",
        "3U4d7OysUgtv",
        "LgidjwCNGIf7",
        "FKF9yc-upKtv"
      ]
    },
    "kernelspec": {
      "name": "python3",
      "display_name": "Python 3"
    }
  },
  "cells": [
    {
      "cell_type": "markdown",
      "metadata": {
        "id": "F0w2FlOUyaNQ"
      },
      "source": [
        "### **Deploy: Detecção de fraude em cartão de crédito**\n",
        "\n",
        "\n",
        "---\n",
        "\n",
        "\n",
        "Tradução e adaptação do código: Rodrigo da Costa Aglinskas\n",
        "\n",
        "Projeto: Detecção de fraude em cartão de crédito\n",
        "\n",
        "Desafio de projeto: Análise em Python com uso da biblioteca Pandas - DIO\n",
        "\n",
        "Iniciado em 11/09/2021\n",
        "Concluído em 14/09/2021\n",
        "\n",
        "\n",
        "![fraude.png](data:image/png;base64,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)"
      ]
    },
    {
      "cell_type": "markdown",
      "metadata": {
        "id": "oq0AmN_4zw6Y"
      },
      "source": [
        "### **Importando arquivos e bibliotecas**"
      ]
    },
    {
      "cell_type": "code",
      "metadata": {
        "id": "G5HpRApza9UR",
        "colab": {
          "base_uri": "https://localhost:8080/"
        },
        "outputId": "837e24fa-de06-40f5-d41e-46c3d162b5ef"
      },
      "source": [
        "# Importando as bibliotecas:\n",
        "\n",
        "import pandas as pd\n",
        "import matplotlib.pyplot as plt\n",
        "plt.style.use(\"seaborn\")\n",
        "%matplotlib inline\n",
        "\n",
        "from matplotlib.patches import Rectangle\n",
        "import numpy as np\n",
        "from pprint import pprint as pp\n",
        "import csv\n",
        "from pathlib import Path\n",
        "import seaborn as sns\n",
        "from itertools import product\n",
        "import string\n",
        "\n",
        "import six\n",
        "import sys\n",
        "sys.modules['sklearn.externals.six'] = six\n",
        "\n",
        "import nltk\n",
        "from nltk.corpus import stopwords\n",
        "from nltk.stem.wordnet import WordNetLemmatizer\n",
        "\n",
        "from imblearn.over_sampling import SMOTE\n",
        "from imblearn.over_sampling import BorderlineSMOTE\n",
        "from imblearn.pipeline import Pipeline \n",
        "\n",
        "from sklearn.linear_model import LinearRegression, LogisticRegression\n",
        "from sklearn.model_selection import train_test_split, GridSearchCV\n",
        "from sklearn.tree import DecisionTreeClassifier\n",
        "from sklearn.metrics import r2_score, classification_report, confusion_matrix, accuracy_score, roc_auc_score, roc_curve, precision_recall_curve, average_precision_score\n",
        "from sklearn.metrics import homogeneity_score, silhouette_score\n",
        "from sklearn.ensemble import RandomForestClassifier, VotingClassifier\n",
        "from sklearn.preprocessing import MinMaxScaler\n",
        "from sklearn.cluster import MiniBatchKMeans, DBSCAN\n",
        "\n",
        "import gensim\n",
        "from gensim import corpora\n",
        "\n",
        "import warnings\n",
        "warnings.filterwarnings('ignore')\n",
        "warnings.simplefilter('ignore')"
      ],
      "execution_count": 1,
      "outputs": [
        {
          "output_type": "stream",
          "name": "stderr",
          "text": [
            "/usr/local/lib/python3.7/dist-packages/sklearn/utils/deprecation.py:144: FutureWarning: The sklearn.neighbors.base module is  deprecated in version 0.22 and will be removed in version 0.24. The corresponding classes / functions should instead be imported from sklearn.neighbors. Anything that cannot be imported from sklearn.neighbors is now part of the private API.\n",
            "  warnings.warn(message, FutureWarning)\n"
          ]
        }
      ]
    },
    {
      "cell_type": "code",
      "metadata": {
        "id": "DsbyjIe7goB6"
      },
      "source": [
        "# Configuração Pandas:\n",
        "\n",
        "pd.set_option('display.max_columns', 700)\n",
        "pd.set_option('display.max_rows', 400)\n",
        "pd.set_option('display.min_rows', 10)\n",
        "pd.set_option('display.expand_frame_repr', True)"
      ],
      "execution_count": 2,
      "outputs": []
    },
    {
      "cell_type": "code",
      "metadata": {
        "id": "3qLVp0Z_bUXq"
      },
      "source": [
        "# Leitura de arquivos:\n",
        "\n",
        "#cc1_file = 'creditcard_sampledata.csv'\n",
        "\n",
        "# arquivo original df com 147 MB\n",
        "df = pd.read_csv('creditcard_fraud2.csv', error_bad_lines=False)\n",
        "# Executando a amostra df3\n",
        "df3 = pd.read_csv('amostraFraude.csv', error_bad_lines=False)\n",
        "\n",
        "# dados não rotulados\n",
        "#banksim_file = 'banksim.csv'\n",
        "banksim_file = 'bankSim2.csv'\n",
        "banksim_adj_file = 'banksim_adj.csv'\n",
        "# arquivos pickle:\n",
        "db_full_file = 'XGB-BankSim.pkl'\n",
        "labels_file = 'labels.pickle'\n",
        "labels_full_file = 'labels_full.pickle'\n",
        "x_scaled_file = 'x_scaled.pickle'\n",
        "x_scaled_full_file = 'x_scaled_full.pickle'\n",
        "\n",
        "# Detecção de fraude em textos\n",
        "enron_emails_clean_file = 'enron_emails_clean.csv'\n",
        "cleantext_file = 'cleantext.pickle'\n",
        "corpus_file = 'corpus.pickle'\n",
        "dict_file = 'dict.pickle'\n",
        "ldamodel_file = 'ldamodel.pickle'\n"
      ],
      "execution_count": 3,
      "outputs": []
    },
    {
      "cell_type": "markdown",
      "metadata": {
        "id": "-Rp928AssJrm"
      },
      "source": [
        "### **Tratando os dados**"
      ]
    },
    {
      "cell_type": "code",
      "metadata": {
        "id": "BAkhPJUbsHzU"
      },
      "source": [
        "# Criando uma amostra de 10% do df original\n",
        "# df2 = df.sample(frac=0.10)"
      ],
      "execution_count": 96,
      "outputs": []
    },
    {
      "cell_type": "code",
      "metadata": {
        "id": "kqtEtqYJvFAo"
      },
      "source": [
        "# Baixando a amostra\n",
        "# df2.to_csv('amostraFraude.csv', encoding='utf-8', index=False)"
      ],
      "execution_count": 97,
      "outputs": []
    },
    {
      "cell_type": "code",
      "metadata": {
        "colab": {
          "base_uri": "https://localhost:8080/"
        },
        "id": "T01puCbCtRda",
        "outputId": "85b5bbd2-c7e0-4ef5-8626-b71404a10f74"
      },
      "source": [
        "# Verificando a estrutura do dataframe\n",
        "df3.info()"
      ],
      "execution_count": 98,
      "outputs": [
        {
          "output_type": "stream",
          "name": "stdout",
          "text": [
            "<class 'pandas.core.frame.DataFrame'>\n",
            "RangeIndex: 28679 entries, 0 to 28678\n",
            "Data columns (total 31 columns):\n",
            " #   Column      Non-Null Count  Dtype  \n",
            "---  ------      --------------  -----  \n",
            " 0   Unnamed: 0  28679 non-null  int64  \n",
            " 1   V1          28679 non-null  float64\n",
            " 2   V2          28679 non-null  float64\n",
            " 3   V3          28679 non-null  float64\n",
            " 4   V4          28679 non-null  float64\n",
            " 5   V5          28679 non-null  float64\n",
            " 6   V6          28679 non-null  float64\n",
            " 7   V7          28679 non-null  float64\n",
            " 8   V8          28679 non-null  float64\n",
            " 9   V9          28679 non-null  float64\n",
            " 10  V10         28679 non-null  float64\n",
            " 11  V11         28679 non-null  float64\n",
            " 12  V12         28679 non-null  float64\n",
            " 13  V13         28679 non-null  float64\n",
            " 14  V14         28679 non-null  float64\n",
            " 15  V15         28679 non-null  float64\n",
            " 16  V16         28679 non-null  float64\n",
            " 17  V17         28679 non-null  float64\n",
            " 18  V18         28679 non-null  float64\n",
            " 19  V19         28679 non-null  float64\n",
            " 20  V20         28679 non-null  float64\n",
            " 21  V21         28679 non-null  float64\n",
            " 22  V22         28679 non-null  float64\n",
            " 23  V23         28679 non-null  float64\n",
            " 24  V24         28679 non-null  float64\n",
            " 25  V25         28679 non-null  float64\n",
            " 26  V26         28679 non-null  float64\n",
            " 27  V27         28679 non-null  float64\n",
            " 28  V28         28679 non-null  float64\n",
            " 29  Amount      28679 non-null  float64\n",
            " 30  Class       28679 non-null  object \n",
            "dtypes: float64(29), int64(1), object(1)\n",
            "memory usage: 6.8+ MB\n"
          ]
        }
      ]
    },
    {
      "cell_type": "code",
      "metadata": {
        "colab": {
          "base_uri": "https://localhost:8080/"
        },
        "id": "S3RG1toqV6Uh",
        "outputId": "b5cc5985-c698-4c26-8120-f2b9b403a556"
      },
      "source": [
        "df3.dtypes"
      ],
      "execution_count": 99,
      "outputs": [
        {
          "output_type": "execute_result",
          "data": {
            "text/plain": [
              "Unnamed: 0      int64\n",
              "V1            float64\n",
              "V2            float64\n",
              "V3            float64\n",
              "V4            float64\n",
              "V5            float64\n",
              "V6            float64\n",
              "V7            float64\n",
              "V8            float64\n",
              "V9            float64\n",
              "V10           float64\n",
              "V11           float64\n",
              "V12           float64\n",
              "V13           float64\n",
              "V14           float64\n",
              "V15           float64\n",
              "V16           float64\n",
              "V17           float64\n",
              "V18           float64\n",
              "V19           float64\n",
              "V20           float64\n",
              "V21           float64\n",
              "V22           float64\n",
              "V23           float64\n",
              "V24           float64\n",
              "V25           float64\n",
              "V26           float64\n",
              "V27           float64\n",
              "V28           float64\n",
              "Amount        float64\n",
              "Class          object\n",
              "dtype: object"
            ]
          },
          "metadata": {},
          "execution_count": 99
        }
      ]
    },
    {
      "cell_type": "code",
      "metadata": {
        "id": "LlPHePtj2oBP"
      },
      "source": [
        "#df[\"V4\"] = pd.to_numeric(df[\"V4\"], downcast=\"float\")\n",
        "# Convertendo coluna Class de object para int\n",
        "\n",
        "# df3['Class'] = pd.to_numeric(df3['Class'])\n",
        "\n",
        "# ERRO: ValueError: Unable to parse string \"1'\" at position 201"
      ],
      "execution_count": 100,
      "outputs": []
    },
    {
      "cell_type": "code",
      "metadata": {
        "colab": {
          "base_uri": "https://localhost:8080/",
          "height": 1000
        },
        "id": "x2tkMjNV2dAj",
        "outputId": "48470977-75b9-455c-871a-5140f5f4b398"
      },
      "source": [
        "# Localizando os valores com problema:\n",
        "\n",
        "df3.loc[df3['Class']==\"1'\"]"
      ],
      "execution_count": 101,
      "outputs": [
        {
          "output_type": "execute_result",
          "data": {
            "text/html": [
              "<div>\n",
              "<style scoped>\n",
              "    .dataframe tbody tr th:only-of-type {\n",
              "        vertical-align: middle;\n",
              "    }\n",
              "\n",
              "    .dataframe tbody tr th {\n",
              "        vertical-align: top;\n",
              "    }\n",
              "\n",
              "    .dataframe thead th {\n",
              "        text-align: right;\n",
              "    }\n",
              "</style>\n",
              "<table border=\"1\" class=\"dataframe\">\n",
              "  <thead>\n",
              "    <tr style=\"text-align: right;\">\n",
              "      <th></th>\n",
              "      <th>Unnamed: 0</th>\n",
              "      <th>V1</th>\n",
              "      <th>V2</th>\n",
              "      <th>V3</th>\n",
              "      <th>V4</th>\n",
              "      <th>V5</th>\n",
              "      <th>V6</th>\n",
              "      <th>V7</th>\n",
              "      <th>V8</th>\n",
              "      <th>V9</th>\n",
              "      <th>V10</th>\n",
              "      <th>V11</th>\n",
              "      <th>V12</th>\n",
              "      <th>V13</th>\n",
              "      <th>V14</th>\n",
              "      <th>V15</th>\n",
              "      <th>V16</th>\n",
              "      <th>V17</th>\n",
              "      <th>V18</th>\n",
              "      <th>V19</th>\n",
              "      <th>V20</th>\n",
              "      <th>V21</th>\n",
              "      <th>V22</th>\n",
              "      <th>V23</th>\n",
              "      <th>V24</th>\n",
              "      <th>V25</th>\n",
              "      <th>V26</th>\n",
              "      <th>V27</th>\n",
              "      <th>V28</th>\n",
              "      <th>Amount</th>\n",
              "      <th>Class</th>\n",
              "    </tr>\n",
              "  </thead>\n",
              "  <tbody>\n",
              "    <tr>\n",
              "      <th>201</th>\n",
              "      <td>28143</td>\n",
              "      <td>-27.143678</td>\n",
              "      <td>15.365804</td>\n",
              "      <td>-28.407424</td>\n",
              "      <td>6.370895</td>\n",
              "      <td>-20.087878</td>\n",
              "      <td>-4.666313</td>\n",
              "      <td>-18.709479</td>\n",
              "      <td>17.903574</td>\n",
              "      <td>-3.722279</td>\n",
              "      <td>-8.120962</td>\n",
              "      <td>4.419943</td>\n",
              "      <td>-6.210941</td>\n",
              "      <td>1.063837</td>\n",
              "      <td>-5.843528</td>\n",
              "      <td>-0.108836</td>\n",
              "      <td>-5.606597</td>\n",
              "      <td>-11.756256</td>\n",
              "      <td>-4.714947</td>\n",
              "      <td>0.783578</td>\n",
              "      <td>1.703888</td>\n",
              "      <td>1.796826</td>\n",
              "      <td>-1.960974</td>\n",
              "      <td>-0.902247</td>\n",
              "      <td>0.144011</td>\n",
              "      <td>2.024388</td>\n",
              "      <td>-0.204214</td>\n",
              "      <td>1.332153</td>\n",
              "      <td>0.385891</td>\n",
              "      <td>99.99</td>\n",
              "      <td>1'</td>\n",
              "    </tr>\n",
              "    <tr>\n",
              "      <th>323</th>\n",
              "      <td>152058</td>\n",
              "      <td>-3.576362</td>\n",
              "      <td>3.299436</td>\n",
              "      <td>-7.460433</td>\n",
              "      <td>7.783634</td>\n",
              "      <td>-0.398549</td>\n",
              "      <td>-1.968441</td>\n",
              "      <td>-3.110476</td>\n",
              "      <td>-0.328404</td>\n",
              "      <td>-1.574363</td>\n",
              "      <td>-2.497561</td>\n",
              "      <td>4.604170</td>\n",
              "      <td>-9.001915</td>\n",
              "      <td>-1.276324</td>\n",
              "      <td>-13.969471</td>\n",
              "      <td>1.256945</td>\n",
              "      <td>-4.491629</td>\n",
              "      <td>-5.969987</td>\n",
              "      <td>-1.274666</td>\n",
              "      <td>1.147784</td>\n",
              "      <td>-0.181455</td>\n",
              "      <td>0.540731</td>\n",
              "      <td>0.719526</td>\n",
              "      <td>0.379249</td>\n",
              "      <td>-0.616962</td>\n",
              "      <td>-0.442811</td>\n",
              "      <td>0.359841</td>\n",
              "      <td>-2.651825</td>\n",
              "      <td>0.422184</td>\n",
              "      <td>1.00</td>\n",
              "      <td>1'</td>\n",
              "    </tr>\n",
              "    <tr>\n",
              "      <th>861</th>\n",
              "      <td>110087</td>\n",
              "      <td>1.934946</td>\n",
              "      <td>0.650678</td>\n",
              "      <td>-0.286957</td>\n",
              "      <td>3.987828</td>\n",
              "      <td>0.316052</td>\n",
              "      <td>-0.099449</td>\n",
              "      <td>-0.021483</td>\n",
              "      <td>-0.172327</td>\n",
              "      <td>0.508730</td>\n",
              "      <td>1.072955</td>\n",
              "      <td>-0.427567</td>\n",
              "      <td>-2.777649</td>\n",
              "      <td>1.637140</td>\n",
              "      <td>1.571080</td>\n",
              "      <td>-1.445367</td>\n",
              "      <td>0.908650</td>\n",
              "      <td>-0.122016</td>\n",
              "      <td>-0.104110</td>\n",
              "      <td>-1.684022</td>\n",
              "      <td>-0.344452</td>\n",
              "      <td>-0.173602</td>\n",
              "      <td>-0.190974</td>\n",
              "      <td>0.219976</td>\n",
              "      <td>-0.216597</td>\n",
              "      <td>-0.136692</td>\n",
              "      <td>-0.129954</td>\n",
              "      <td>-0.050077</td>\n",
              "      <td>-0.051082</td>\n",
              "      <td>1.00</td>\n",
              "      <td>1'</td>\n",
              "    </tr>\n",
              "    <tr>\n",
              "      <th>1250</th>\n",
              "      <td>102676</td>\n",
              "      <td>-5.552122</td>\n",
              "      <td>5.678134</td>\n",
              "      <td>-9.775528</td>\n",
              "      <td>8.416295</td>\n",
              "      <td>-4.409844</td>\n",
              "      <td>-1.506235</td>\n",
              "      <td>-6.899839</td>\n",
              "      <td>3.750443</td>\n",
              "      <td>-3.879793</td>\n",
              "      <td>-6.864164</td>\n",
              "      <td>7.051065</td>\n",
              "      <td>-10.137529</td>\n",
              "      <td>2.815440</td>\n",
              "      <td>-9.909168</td>\n",
              "      <td>-0.262230</td>\n",
              "      <td>-5.022557</td>\n",
              "      <td>-8.522975</td>\n",
              "      <td>-2.012939</td>\n",
              "      <td>1.525732</td>\n",
              "      <td>-0.064780</td>\n",
              "      <td>1.128472</td>\n",
              "      <td>0.228484</td>\n",
              "      <td>0.286258</td>\n",
              "      <td>-0.536294</td>\n",
              "      <td>-0.104925</td>\n",
              "      <td>0.420919</td>\n",
              "      <td>-0.297557</td>\n",
              "      <td>-0.946184</td>\n",
              "      <td>119.74</td>\n",
              "      <td>1'</td>\n",
              "    </tr>\n",
              "    <tr>\n",
              "      <th>1627</th>\n",
              "      <td>143434</td>\n",
              "      <td>-2.729482</td>\n",
              "      <td>3.312495</td>\n",
              "      <td>-4.242710</td>\n",
              "      <td>5.036985</td>\n",
              "      <td>-0.376561</td>\n",
              "      <td>-1.532462</td>\n",
              "      <td>-3.449159</td>\n",
              "      <td>1.856839</td>\n",
              "      <td>-3.623334</td>\n",
              "      <td>-5.653638</td>\n",
              "      <td>3.942316</td>\n",
              "      <td>-5.883724</td>\n",
              "      <td>-1.347814</td>\n",
              "      <td>-9.266120</td>\n",
              "      <td>-2.459556</td>\n",
              "      <td>-2.205644</td>\n",
              "      <td>-5.709087</td>\n",
              "      <td>-1.113937</td>\n",
              "      <td>-1.556530</td>\n",
              "      <td>0.164288</td>\n",
              "      <td>0.727415</td>\n",
              "      <td>-0.301432</td>\n",
              "      <td>-0.502433</td>\n",
              "      <td>-0.462309</td>\n",
              "      <td>0.510683</td>\n",
              "      <td>0.046665</td>\n",
              "      <td>0.514646</td>\n",
              "      <td>0.140999</td>\n",
              "      <td>1.00</td>\n",
              "      <td>1'</td>\n",
              "    </tr>\n",
              "    <tr>\n",
              "      <th>1963</th>\n",
              "      <td>102480</td>\n",
              "      <td>-1.929597</td>\n",
              "      <td>4.066413</td>\n",
              "      <td>-4.865184</td>\n",
              "      <td>5.898602</td>\n",
              "      <td>-0.552493</td>\n",
              "      <td>-1.555962</td>\n",
              "      <td>-3.833623</td>\n",
              "      <td>0.679512</td>\n",
              "      <td>-3.463765</td>\n",
              "      <td>-6.683689</td>\n",
              "      <td>7.021278</td>\n",
              "      <td>-11.102493</td>\n",
              "      <td>1.711755</td>\n",
              "      <td>-10.447633</td>\n",
              "      <td>-2.799076</td>\n",
              "      <td>-6.261741</td>\n",
              "      <td>-11.647158</td>\n",
              "      <td>-3.451436</td>\n",
              "      <td>-0.507537</td>\n",
              "      <td>0.942489</td>\n",
              "      <td>1.137212</td>\n",
              "      <td>0.674245</td>\n",
              "      <td>-0.531765</td>\n",
              "      <td>-0.433409</td>\n",
              "      <td>0.378659</td>\n",
              "      <td>0.198107</td>\n",
              "      <td>0.869694</td>\n",
              "      <td>0.228048</td>\n",
              "      <td>0.00</td>\n",
              "      <td>1'</td>\n",
              "    </tr>\n",
              "    <tr>\n",
              "      <th>2271</th>\n",
              "      <td>148479</td>\n",
              "      <td>-1.541678</td>\n",
              "      <td>3.846800</td>\n",
              "      <td>-7.604114</td>\n",
              "      <td>3.121459</td>\n",
              "      <td>-1.254924</td>\n",
              "      <td>-2.084875</td>\n",
              "      <td>-2.385027</td>\n",
              "      <td>1.471140</td>\n",
              "      <td>-2.530507</td>\n",
              "      <td>-5.175660</td>\n",
              "      <td>1.927186</td>\n",
              "      <td>-6.011155</td>\n",
              "      <td>-1.195601</td>\n",
              "      <td>-6.745561</td>\n",
              "      <td>-0.058091</td>\n",
              "      <td>-4.325132</td>\n",
              "      <td>-5.558067</td>\n",
              "      <td>-1.580531</td>\n",
              "      <td>0.971906</td>\n",
              "      <td>0.114760</td>\n",
              "      <td>1.096405</td>\n",
              "      <td>1.064222</td>\n",
              "      <td>0.065370</td>\n",
              "      <td>0.257209</td>\n",
              "      <td>-0.693654</td>\n",
              "      <td>-0.335702</td>\n",
              "      <td>0.577052</td>\n",
              "      <td>0.398348</td>\n",
              "      <td>122.68</td>\n",
              "      <td>1'</td>\n",
              "    </tr>\n",
              "    <tr>\n",
              "      <th>2353</th>\n",
              "      <td>133184</td>\n",
              "      <td>-1.212682</td>\n",
              "      <td>-2.484824</td>\n",
              "      <td>-6.397186</td>\n",
              "      <td>3.670562</td>\n",
              "      <td>-0.863375</td>\n",
              "      <td>-1.855855</td>\n",
              "      <td>1.017732</td>\n",
              "      <td>-0.544704</td>\n",
              "      <td>-1.703378</td>\n",
              "      <td>-3.739659</td>\n",
              "      <td>1.738124</td>\n",
              "      <td>-2.844449</td>\n",
              "      <td>0.765864</td>\n",
              "      <td>-4.799737</td>\n",
              "      <td>-0.011335</td>\n",
              "      <td>-2.693168</td>\n",
              "      <td>-3.166955</td>\n",
              "      <td>-1.067800</td>\n",
              "      <td>-0.559132</td>\n",
              "      <td>2.908374</td>\n",
              "      <td>1.396872</td>\n",
              "      <td>0.092073</td>\n",
              "      <td>-1.492882</td>\n",
              "      <td>-0.204227</td>\n",
              "      <td>0.532511</td>\n",
              "      <td>-0.293871</td>\n",
              "      <td>0.212663</td>\n",
              "      <td>0.431095</td>\n",
              "      <td>1335.00</td>\n",
              "      <td>1'</td>\n",
              "    </tr>\n",
              "    <tr>\n",
              "      <th>2562</th>\n",
              "      <td>153653</td>\n",
              "      <td>-5.192496</td>\n",
              "      <td>3.164721</td>\n",
              "      <td>-5.047679</td>\n",
              "      <td>2.246597</td>\n",
              "      <td>-4.011781</td>\n",
              "      <td>-0.638908</td>\n",
              "      <td>-2.873463</td>\n",
              "      <td>1.576318</td>\n",
              "      <td>-2.861986</td>\n",
              "      <td>-2.120458</td>\n",
              "      <td>1.863596</td>\n",
              "      <td>-3.620252</td>\n",
              "      <td>-1.480714</td>\n",
              "      <td>-1.583343</td>\n",
              "      <td>-1.230469</td>\n",
              "      <td>-1.202298</td>\n",
              "      <td>-6.167637</td>\n",
              "      <td>-2.651539</td>\n",
              "      <td>0.013588</td>\n",
              "      <td>-1.850470</td>\n",
              "      <td>1.167244</td>\n",
              "      <td>-1.006617</td>\n",
              "      <td>0.774562</td>\n",
              "      <td>0.063397</td>\n",
              "      <td>-0.390658</td>\n",
              "      <td>1.884741</td>\n",
              "      <td>-1.742558</td>\n",
              "      <td>-0.082216</td>\n",
              "      <td>247.86</td>\n",
              "      <td>1'</td>\n",
              "    </tr>\n",
              "    <tr>\n",
              "      <th>2659</th>\n",
              "      <td>41397</td>\n",
              "      <td>-14.970346</td>\n",
              "      <td>8.401421</td>\n",
              "      <td>-16.867238</td>\n",
              "      <td>8.252334</td>\n",
              "      <td>-13.565130</td>\n",
              "      <td>-2.782438</td>\n",
              "      <td>-14.263735</td>\n",
              "      <td>9.643419</td>\n",
              "      <td>-7.701499</td>\n",
              "      <td>-14.226698</td>\n",
              "      <td>5.610999</td>\n",
              "      <td>-11.793979</td>\n",
              "      <td>1.598387</td>\n",
              "      <td>-11.606970</td>\n",
              "      <td>-0.044180</td>\n",
              "      <td>-9.286955</td>\n",
              "      <td>-19.899726</td>\n",
              "      <td>-7.518051</td>\n",
              "      <td>1.243517</td>\n",
              "      <td>-1.614660</td>\n",
              "      <td>2.714045</td>\n",
              "      <td>-0.101355</td>\n",
              "      <td>-0.439666</td>\n",
              "      <td>0.519514</td>\n",
              "      <td>0.789328</td>\n",
              "      <td>0.064357</td>\n",
              "      <td>-1.621386</td>\n",
              "      <td>-1.104819</td>\n",
              "      <td>273.01</td>\n",
              "      <td>1'</td>\n",
              "    </tr>\n",
              "    <tr>\n",
              "      <th>3430</th>\n",
              "      <td>72327</td>\n",
              "      <td>-4.198735</td>\n",
              "      <td>0.194121</td>\n",
              "      <td>-3.917586</td>\n",
              "      <td>3.920748</td>\n",
              "      <td>-1.875486</td>\n",
              "      <td>-2.118933</td>\n",
              "      <td>-3.614445</td>\n",
              "      <td>1.687884</td>\n",
              "      <td>-2.189871</td>\n",
              "      <td>-4.684233</td>\n",
              "      <td>4.376907</td>\n",
              "      <td>-5.007441</td>\n",
              "      <td>-1.304745</td>\n",
              "      <td>-6.192475</td>\n",
              "      <td>1.002404</td>\n",
              "      <td>-3.316934</td>\n",
              "      <td>-6.188834</td>\n",
              "      <td>-1.040413</td>\n",
              "      <td>1.233044</td>\n",
              "      <td>1.003350</td>\n",
              "      <td>0.801312</td>\n",
              "      <td>-0.183001</td>\n",
              "      <td>-0.440387</td>\n",
              "      <td>0.292539</td>\n",
              "      <td>-0.144967</td>\n",
              "      <td>-0.251744</td>\n",
              "      <td>1.249414</td>\n",
              "      <td>-0.131525</td>\n",
              "      <td>238.90</td>\n",
              "      <td>1'</td>\n",
              "    </tr>\n",
              "    <tr>\n",
              "      <th>3600</th>\n",
              "      <td>149582</td>\n",
              "      <td>-4.280584</td>\n",
              "      <td>1.421100</td>\n",
              "      <td>-3.908229</td>\n",
              "      <td>2.942946</td>\n",
              "      <td>-0.076205</td>\n",
              "      <td>-2.002526</td>\n",
              "      <td>-2.874155</td>\n",
              "      <td>-0.856005</td>\n",
              "      <td>0.963674</td>\n",
              "      <td>-3.235439</td>\n",
              "      <td>3.341802</td>\n",
              "      <td>-7.562860</td>\n",
              "      <td>-1.847443</td>\n",
              "      <td>-11.571423</td>\n",
              "      <td>-1.481556</td>\n",
              "      <td>-6.180919</td>\n",
              "      <td>-9.285186</td>\n",
              "      <td>-3.921722</td>\n",
              "      <td>0.685511</td>\n",
              "      <td>-0.198963</td>\n",
              "      <td>-0.140062</td>\n",
              "      <td>-0.907720</td>\n",
              "      <td>-0.680108</td>\n",
              "      <td>-0.349170</td>\n",
              "      <td>0.056276</td>\n",
              "      <td>-1.149923</td>\n",
              "      <td>-1.809886</td>\n",
              "      <td>0.723051</td>\n",
              "      <td>1.10</td>\n",
              "      <td>1'</td>\n",
              "    </tr>\n",
              "    <tr>\n",
              "      <th>3947</th>\n",
              "      <td>128595</td>\n",
              "      <td>-5.313774</td>\n",
              "      <td>2.664274</td>\n",
              "      <td>-4.250707</td>\n",
              "      <td>0.394707</td>\n",
              "      <td>-0.391383</td>\n",
              "      <td>0.683526</td>\n",
              "      <td>-5.133671</td>\n",
              "      <td>-7.907790</td>\n",
              "      <td>0.215475</td>\n",
              "      <td>-2.297734</td>\n",
              "      <td>1.961481</td>\n",
              "      <td>-1.944441</td>\n",
              "      <td>-0.692559</td>\n",
              "      <td>-4.346348</td>\n",
              "      <td>-1.726929</td>\n",
              "      <td>-1.820405</td>\n",
              "      <td>-3.746490</td>\n",
              "      <td>-0.880399</td>\n",
              "      <td>0.267915</td>\n",
              "      <td>-2.642902</td>\n",
              "      <td>8.664662</td>\n",
              "      <td>-2.716383</td>\n",
              "      <td>0.483559</td>\n",
              "      <td>0.079235</td>\n",
              "      <td>0.311065</td>\n",
              "      <td>0.555544</td>\n",
              "      <td>0.176740</td>\n",
              "      <td>0.362907</td>\n",
              "      <td>1.00</td>\n",
              "      <td>1'</td>\n",
              "    </tr>\n",
              "    <tr>\n",
              "      <th>4046</th>\n",
              "      <td>25231</td>\n",
              "      <td>-16.598665</td>\n",
              "      <td>10.541751</td>\n",
              "      <td>-19.818982</td>\n",
              "      <td>6.017295</td>\n",
              "      <td>-13.025901</td>\n",
              "      <td>-4.128779</td>\n",
              "      <td>-14.118865</td>\n",
              "      <td>11.161144</td>\n",
              "      <td>-4.099551</td>\n",
              "      <td>-9.222826</td>\n",
              "      <td>6.329365</td>\n",
              "      <td>-8.952191</td>\n",
              "      <td>-0.138364</td>\n",
              "      <td>-9.825054</td>\n",
              "      <td>0.057224</td>\n",
              "      <td>-7.541687</td>\n",
              "      <td>-14.259599</td>\n",
              "      <td>-5.035052</td>\n",
              "      <td>1.432268</td>\n",
              "      <td>1.534920</td>\n",
              "      <td>1.725853</td>\n",
              "      <td>-1.151606</td>\n",
              "      <td>-0.680052</td>\n",
              "      <td>0.108176</td>\n",
              "      <td>1.066878</td>\n",
              "      <td>-0.233720</td>\n",
              "      <td>1.707521</td>\n",
              "      <td>0.511423</td>\n",
              "      <td>99.99</td>\n",
              "      <td>1'</td>\n",
              "    </tr>\n",
              "    <tr>\n",
              "      <th>4279</th>\n",
              "      <td>17520</td>\n",
              "      <td>-5.268053</td>\n",
              "      <td>9.067613</td>\n",
              "      <td>-15.960728</td>\n",
              "      <td>10.296603</td>\n",
              "      <td>-4.708241</td>\n",
              "      <td>-3.395375</td>\n",
              "      <td>-11.161057</td>\n",
              "      <td>5.499963</td>\n",
              "      <td>-5.667376</td>\n",
              "      <td>-11.627194</td>\n",
              "      <td>11.027059</td>\n",
              "      <td>-16.388054</td>\n",
              "      <td>0.363921</td>\n",
              "      <td>-17.230202</td>\n",
              "      <td>-0.437488</td>\n",
              "      <td>-10.122392</td>\n",
              "      <td>-13.639209</td>\n",
              "      <td>-4.986457</td>\n",
              "      <td>1.126784</td>\n",
              "      <td>1.455878</td>\n",
              "      <td>2.004110</td>\n",
              "      <td>0.191058</td>\n",
              "      <td>0.622928</td>\n",
              "      <td>-1.209264</td>\n",
              "      <td>-0.374799</td>\n",
              "      <td>0.648798</td>\n",
              "      <td>1.584697</td>\n",
              "      <td>0.720056</td>\n",
              "      <td>1.00</td>\n",
              "      <td>1'</td>\n",
              "    </tr>\n",
              "    <tr>\n",
              "      <th>4898</th>\n",
              "      <td>58067</td>\n",
              "      <td>-0.264869</td>\n",
              "      <td>3.386140</td>\n",
              "      <td>-3.454997</td>\n",
              "      <td>4.367629</td>\n",
              "      <td>3.336060</td>\n",
              "      <td>-2.053918</td>\n",
              "      <td>0.256890</td>\n",
              "      <td>-2.957235</td>\n",
              "      <td>-2.855797</td>\n",
              "      <td>-2.808456</td>\n",
              "      <td>1.847504</td>\n",
              "      <td>-2.414822</td>\n",
              "      <td>-2.573225</td>\n",
              "      <td>-6.599126</td>\n",
              "      <td>0.123470</td>\n",
              "      <td>2.572372</td>\n",
              "      <td>6.609366</td>\n",
              "      <td>2.530670</td>\n",
              "      <td>-3.602657</td>\n",
              "      <td>0.482513</td>\n",
              "      <td>-1.394504</td>\n",
              "      <td>-0.166029</td>\n",
              "      <td>-1.452081</td>\n",
              "      <td>-0.251815</td>\n",
              "      <td>1.243461</td>\n",
              "      <td>0.452787</td>\n",
              "      <td>0.132218</td>\n",
              "      <td>0.424599</td>\n",
              "      <td>1.00</td>\n",
              "      <td>1'</td>\n",
              "    </tr>\n",
              "    <tr>\n",
              "      <th>5190</th>\n",
              "      <td>47545</td>\n",
              "      <td>1.176716</td>\n",
              "      <td>0.557091</td>\n",
              "      <td>-0.490800</td>\n",
              "      <td>0.756424</td>\n",
              "      <td>0.249192</td>\n",
              "      <td>-0.781871</td>\n",
              "      <td>0.228750</td>\n",
              "      <td>-0.040840</td>\n",
              "      <td>-0.432111</td>\n",
              "      <td>-0.585778</td>\n",
              "      <td>2.281939</td>\n",
              "      <td>0.654567</td>\n",
              "      <td>-0.310379</td>\n",
              "      <td>-1.043705</td>\n",
              "      <td>0.513750</td>\n",
              "      <td>0.399178</td>\n",
              "      <td>1.143130</td>\n",
              "      <td>0.256014</td>\n",
              "      <td>-0.511210</td>\n",
              "      <td>-0.102772</td>\n",
              "      <td>-0.062166</td>\n",
              "      <td>-0.128168</td>\n",
              "      <td>-0.040176</td>\n",
              "      <td>0.110040</td>\n",
              "      <td>0.437891</td>\n",
              "      <td>0.368809</td>\n",
              "      <td>-0.018287</td>\n",
              "      <td>0.031173</td>\n",
              "      <td>0.76</td>\n",
              "      <td>1'</td>\n",
              "    </tr>\n",
              "    <tr>\n",
              "      <th>6621</th>\n",
              "      <td>160791</td>\n",
              "      <td>2.132386</td>\n",
              "      <td>0.705608</td>\n",
              "      <td>-3.530759</td>\n",
              "      <td>0.514779</td>\n",
              "      <td>1.527175</td>\n",
              "      <td>-1.716268</td>\n",
              "      <td>1.132791</td>\n",
              "      <td>-0.574214</td>\n",
              "      <td>0.128904</td>\n",
              "      <td>-1.000805</td>\n",
              "      <td>-0.191191</td>\n",
              "      <td>-0.323794</td>\n",
              "      <td>-0.572456</td>\n",
              "      <td>-1.422064</td>\n",
              "      <td>0.314684</td>\n",
              "      <td>-0.387162</td>\n",
              "      <td>1.734742</td>\n",
              "      <td>0.610976</td>\n",
              "      <td>-0.221267</td>\n",
              "      <td>-0.211167</td>\n",
              "      <td>0.163739</td>\n",
              "      <td>0.703910</td>\n",
              "      <td>-0.245076</td>\n",
              "      <td>0.460049</td>\n",
              "      <td>0.920281</td>\n",
              "      <td>-0.216586</td>\n",
              "      <td>-0.026219</td>\n",
              "      <td>-0.025001</td>\n",
              "      <td>1.00</td>\n",
              "      <td>1'</td>\n",
              "    </tr>\n",
              "    <tr>\n",
              "      <th>6816</th>\n",
              "      <td>83934</td>\n",
              "      <td>-0.433222</td>\n",
              "      <td>2.428379</td>\n",
              "      <td>-3.996454</td>\n",
              "      <td>4.871299</td>\n",
              "      <td>-1.796308</td>\n",
              "      <td>-0.586868</td>\n",
              "      <td>-4.654543</td>\n",
              "      <td>1.285230</td>\n",
              "      <td>-2.743539</td>\n",
              "      <td>-5.638941</td>\n",
              "      <td>4.343743</td>\n",
              "      <td>-6.655734</td>\n",
              "      <td>-0.293109</td>\n",
              "      <td>-9.505141</td>\n",
              "      <td>-1.396149</td>\n",
              "      <td>-4.850323</td>\n",
              "      <td>-10.006253</td>\n",
              "      <td>-2.789598</td>\n",
              "      <td>0.982584</td>\n",
              "      <td>0.745029</td>\n",
              "      <td>0.713559</td>\n",
              "      <td>-0.408954</td>\n",
              "      <td>-0.320890</td>\n",
              "      <td>-0.804230</td>\n",
              "      <td>0.962852</td>\n",
              "      <td>0.199558</td>\n",
              "      <td>1.094533</td>\n",
              "      <td>0.541148</td>\n",
              "      <td>1.00</td>\n",
              "      <td>1'</td>\n",
              "    </tr>\n",
              "    <tr>\n",
              "      <th>7374</th>\n",
              "      <td>41607</td>\n",
              "      <td>-18.247513</td>\n",
              "      <td>8.713250</td>\n",
              "      <td>-17.880127</td>\n",
              "      <td>9.249459</td>\n",
              "      <td>-14.541213</td>\n",
              "      <td>-1.911564</td>\n",
              "      <td>-18.014660</td>\n",
              "      <td>5.522162</td>\n",
              "      <td>-9.283925</td>\n",
              "      <td>-14.557159</td>\n",
              "      <td>4.392436</td>\n",
              "      <td>-10.380073</td>\n",
              "      <td>1.611821</td>\n",
              "      <td>-6.917640</td>\n",
              "      <td>0.158841</td>\n",
              "      <td>-10.328242</td>\n",
              "      <td>-20.254556</td>\n",
              "      <td>-8.534523</td>\n",
              "      <td>3.256534</td>\n",
              "      <td>-0.526368</td>\n",
              "      <td>0.598843</td>\n",
              "      <td>0.615319</td>\n",
              "      <td>-0.486499</td>\n",
              "      <td>0.739268</td>\n",
              "      <td>-0.236845</td>\n",
              "      <td>-0.046082</td>\n",
              "      <td>-3.011473</td>\n",
              "      <td>-1.022147</td>\n",
              "      <td>53.95</td>\n",
              "      <td>1'</td>\n",
              "    </tr>\n",
              "    <tr>\n",
              "      <th>9591</th>\n",
              "      <td>7526</td>\n",
              "      <td>0.008430</td>\n",
              "      <td>4.137837</td>\n",
              "      <td>-6.240697</td>\n",
              "      <td>6.675732</td>\n",
              "      <td>0.768307</td>\n",
              "      <td>-3.353060</td>\n",
              "      <td>-1.631735</td>\n",
              "      <td>0.154612</td>\n",
              "      <td>-2.795892</td>\n",
              "      <td>-6.187891</td>\n",
              "      <td>5.664395</td>\n",
              "      <td>-9.854485</td>\n",
              "      <td>-0.306167</td>\n",
              "      <td>-10.691196</td>\n",
              "      <td>-0.638498</td>\n",
              "      <td>-2.041974</td>\n",
              "      <td>-1.129056</td>\n",
              "      <td>0.116453</td>\n",
              "      <td>-1.934666</td>\n",
              "      <td>0.488378</td>\n",
              "      <td>0.364514</td>\n",
              "      <td>-0.608057</td>\n",
              "      <td>-0.539528</td>\n",
              "      <td>0.128940</td>\n",
              "      <td>1.488481</td>\n",
              "      <td>0.507963</td>\n",
              "      <td>0.735822</td>\n",
              "      <td>0.513574</td>\n",
              "      <td>1.00</td>\n",
              "      <td>1'</td>\n",
              "    </tr>\n",
              "    <tr>\n",
              "      <th>9927</th>\n",
              "      <td>85285</td>\n",
              "      <td>-7.030308</td>\n",
              "      <td>3.421991</td>\n",
              "      <td>-9.525072</td>\n",
              "      <td>5.270891</td>\n",
              "      <td>-4.024630</td>\n",
              "      <td>-2.865682</td>\n",
              "      <td>-6.989195</td>\n",
              "      <td>3.791551</td>\n",
              "      <td>-4.622730</td>\n",
              "      <td>-8.409665</td>\n",
              "      <td>6.309044</td>\n",
              "      <td>-8.576761</td>\n",
              "      <td>0.246747</td>\n",
              "      <td>-11.534046</td>\n",
              "      <td>-0.364265</td>\n",
              "      <td>-5.452495</td>\n",
              "      <td>-11.887570</td>\n",
              "      <td>-3.563585</td>\n",
              "      <td>0.876019</td>\n",
              "      <td>0.545698</td>\n",
              "      <td>1.103398</td>\n",
              "      <td>-0.541855</td>\n",
              "      <td>0.036943</td>\n",
              "      <td>-0.355519</td>\n",
              "      <td>0.353634</td>\n",
              "      <td>1.042458</td>\n",
              "      <td>1.359516</td>\n",
              "      <td>-0.272188</td>\n",
              "      <td>0.00</td>\n",
              "      <td>1'</td>\n",
              "    </tr>\n",
              "    <tr>\n",
              "      <th>10046</th>\n",
              "      <td>94362</td>\n",
              "      <td>-26.457745</td>\n",
              "      <td>16.497472</td>\n",
              "      <td>-30.177317</td>\n",
              "      <td>8.904157</td>\n",
              "      <td>-17.892600</td>\n",
              "      <td>-1.227904</td>\n",
              "      <td>-31.197329</td>\n",
              "      <td>-11.438920</td>\n",
              "      <td>-9.462573</td>\n",
              "      <td>-22.187089</td>\n",
              "      <td>4.419997</td>\n",
              "      <td>-10.592305</td>\n",
              "      <td>-0.703796</td>\n",
              "      <td>-3.926207</td>\n",
              "      <td>-2.400246</td>\n",
              "      <td>-6.809890</td>\n",
              "      <td>-12.462315</td>\n",
              "      <td>-5.501051</td>\n",
              "      <td>-0.567940</td>\n",
              "      <td>2.812241</td>\n",
              "      <td>-8.755698</td>\n",
              "      <td>3.460893</td>\n",
              "      <td>0.896538</td>\n",
              "      <td>0.254836</td>\n",
              "      <td>-0.738097</td>\n",
              "      <td>-0.966564</td>\n",
              "      <td>-7.263482</td>\n",
              "      <td>-1.324884</td>\n",
              "      <td>1.00</td>\n",
              "      <td>1'</td>\n",
              "    </tr>\n",
              "    <tr>\n",
              "      <th>10076</th>\n",
              "      <td>65385</td>\n",
              "      <td>-2.923827</td>\n",
              "      <td>1.524837</td>\n",
              "      <td>-3.018758</td>\n",
              "      <td>3.289291</td>\n",
              "      <td>-5.755542</td>\n",
              "      <td>2.218276</td>\n",
              "      <td>-0.509995</td>\n",
              "      <td>-3.569444</td>\n",
              "      <td>-1.016592</td>\n",
              "      <td>-4.320536</td>\n",
              "      <td>1.277202</td>\n",
              "      <td>-3.701750</td>\n",
              "      <td>-0.971870</td>\n",
              "      <td>-4.857777</td>\n",
              "      <td>0.090606</td>\n",
              "      <td>-2.801502</td>\n",
              "      <td>-4.186808</td>\n",
              "      <td>-1.648406</td>\n",
              "      <td>1.176446</td>\n",
              "      <td>-0.447039</td>\n",
              "      <td>-0.511657</td>\n",
              "      <td>-0.122724</td>\n",
              "      <td>-4.288639</td>\n",
              "      <td>0.563797</td>\n",
              "      <td>-0.949451</td>\n",
              "      <td>-0.204532</td>\n",
              "      <td>1.510206</td>\n",
              "      <td>-0.324706</td>\n",
              "      <td>1354.25</td>\n",
              "      <td>1'</td>\n",
              "    </tr>\n",
              "    <tr>\n",
              "      <th>11740</th>\n",
              "      <td>48884</td>\n",
              "      <td>-2.139051</td>\n",
              "      <td>1.394368</td>\n",
              "      <td>-0.612035</td>\n",
              "      <td>1.049327</td>\n",
              "      <td>-1.162102</td>\n",
              "      <td>-0.768219</td>\n",
              "      <td>-1.997237</td>\n",
              "      <td>0.574997</td>\n",
              "      <td>-0.980832</td>\n",
              "      <td>-2.495619</td>\n",
              "      <td>2.555589</td>\n",
              "      <td>-3.530436</td>\n",
              "      <td>-1.016234</td>\n",
              "      <td>-3.455197</td>\n",
              "      <td>-0.056363</td>\n",
              "      <td>-2.467737</td>\n",
              "      <td>-7.140326</td>\n",
              "      <td>-1.271280</td>\n",
              "      <td>-0.001722</td>\n",
              "      <td>0.025427</td>\n",
              "      <td>0.696955</td>\n",
              "      <td>0.740003</td>\n",
              "      <td>-0.155115</td>\n",
              "      <td>-0.050607</td>\n",
              "      <td>0.268368</td>\n",
              "      <td>-0.469433</td>\n",
              "      <td>-0.405814</td>\n",
              "      <td>-0.152171</td>\n",
              "      <td>19.73</td>\n",
              "      <td>1'</td>\n",
              "    </tr>\n",
              "    <tr>\n",
              "      <th>11794</th>\n",
              "      <td>146022</td>\n",
              "      <td>0.908637</td>\n",
              "      <td>2.849024</td>\n",
              "      <td>-5.647343</td>\n",
              "      <td>6.009415</td>\n",
              "      <td>0.216656</td>\n",
              "      <td>-2.397014</td>\n",
              "      <td>-1.819308</td>\n",
              "      <td>0.338527</td>\n",
              "      <td>-2.819883</td>\n",
              "      <td>-4.063098</td>\n",
              "      <td>2.941190</td>\n",
              "      <td>-6.151362</td>\n",
              "      <td>-1.989529</td>\n",
              "      <td>-9.150951</td>\n",
              "      <td>-0.604290</td>\n",
              "      <td>-1.952290</td>\n",
              "      <td>-2.892555</td>\n",
              "      <td>-0.912058</td>\n",
              "      <td>-1.563740</td>\n",
              "      <td>0.241921</td>\n",
              "      <td>0.407260</td>\n",
              "      <td>-0.397435</td>\n",
              "      <td>-0.080006</td>\n",
              "      <td>-0.168597</td>\n",
              "      <td>0.465058</td>\n",
              "      <td>0.210510</td>\n",
              "      <td>0.648705</td>\n",
              "      <td>0.360224</td>\n",
              "      <td>1.18</td>\n",
              "      <td>1'</td>\n",
              "    </tr>\n",
              "    <tr>\n",
              "      <th>12281</th>\n",
              "      <td>61108</td>\n",
              "      <td>-2.756007</td>\n",
              "      <td>0.683821</td>\n",
              "      <td>-1.390169</td>\n",
              "      <td>1.501887</td>\n",
              "      <td>-1.165614</td>\n",
              "      <td>-0.131207</td>\n",
              "      <td>-1.478741</td>\n",
              "      <td>-0.246922</td>\n",
              "      <td>-0.100523</td>\n",
              "      <td>-2.301110</td>\n",
              "      <td>1.914454</td>\n",
              "      <td>-3.830998</td>\n",
              "      <td>0.719489</td>\n",
              "      <td>-6.353020</td>\n",
              "      <td>1.438716</td>\n",
              "      <td>-3.297239</td>\n",
              "      <td>-4.862971</td>\n",
              "      <td>-2.002354</td>\n",
              "      <td>1.545233</td>\n",
              "      <td>-0.106945</td>\n",
              "      <td>0.320474</td>\n",
              "      <td>0.611027</td>\n",
              "      <td>0.174864</td>\n",
              "      <td>-0.502151</td>\n",
              "      <td>-0.174713</td>\n",
              "      <td>1.179242</td>\n",
              "      <td>-1.166315</td>\n",
              "      <td>0.821215</td>\n",
              "      <td>101.50</td>\n",
              "      <td>1'</td>\n",
              "    </tr>\n",
              "    <tr>\n",
              "      <th>12349</th>\n",
              "      <td>131024</td>\n",
              "      <td>0.469750</td>\n",
              "      <td>-1.237555</td>\n",
              "      <td>-1.767341</td>\n",
              "      <td>4.833490</td>\n",
              "      <td>-0.268715</td>\n",
              "      <td>-0.512760</td>\n",
              "      <td>1.140149</td>\n",
              "      <td>-0.341273</td>\n",
              "      <td>-1.046351</td>\n",
              "      <td>0.085662</td>\n",
              "      <td>-0.000121</td>\n",
              "      <td>-0.054381</td>\n",
              "      <td>0.736192</td>\n",
              "      <td>-2.306645</td>\n",
              "      <td>-0.464003</td>\n",
              "      <td>1.672723</td>\n",
              "      <td>1.165737</td>\n",
              "      <td>0.561323</td>\n",
              "      <td>-2.300798</td>\n",
              "      <td>1.277315</td>\n",
              "      <td>0.303905</td>\n",
              "      <td>-0.647075</td>\n",
              "      <td>-0.373014</td>\n",
              "      <td>0.260801</td>\n",
              "      <td>-0.496566</td>\n",
              "      <td>-0.245973</td>\n",
              "      <td>-0.117858</td>\n",
              "      <td>0.144774</td>\n",
              "      <td>723.21</td>\n",
              "      <td>1'</td>\n",
              "    </tr>\n",
              "    <tr>\n",
              "      <th>13002</th>\n",
              "      <td>7672</td>\n",
              "      <td>0.702710</td>\n",
              "      <td>2.426433</td>\n",
              "      <td>-5.234513</td>\n",
              "      <td>4.416661</td>\n",
              "      <td>-2.170806</td>\n",
              "      <td>-2.667554</td>\n",
              "      <td>-3.878088</td>\n",
              "      <td>0.911337</td>\n",
              "      <td>-0.166199</td>\n",
              "      <td>-5.009249</td>\n",
              "      <td>4.675729</td>\n",
              "      <td>-8.167188</td>\n",
              "      <td>0.638559</td>\n",
              "      <td>-6.763334</td>\n",
              "      <td>1.296860</td>\n",
              "      <td>-3.811758</td>\n",
              "      <td>-3.754128</td>\n",
              "      <td>-1.049177</td>\n",
              "      <td>1.554197</td>\n",
              "      <td>0.422743</td>\n",
              "      <td>0.551180</td>\n",
              "      <td>-0.009802</td>\n",
              "      <td>0.721698</td>\n",
              "      <td>0.473246</td>\n",
              "      <td>-1.959304</td>\n",
              "      <td>0.319476</td>\n",
              "      <td>0.600485</td>\n",
              "      <td>0.129305</td>\n",
              "      <td>1.00</td>\n",
              "      <td>1'</td>\n",
              "    </tr>\n",
              "    <tr>\n",
              "      <th>13318</th>\n",
              "      <td>75851</td>\n",
              "      <td>-4.793667</td>\n",
              "      <td>3.418911</td>\n",
              "      <td>-5.074445</td>\n",
              "      <td>4.035987</td>\n",
              "      <td>-3.527875</td>\n",
              "      <td>-1.923242</td>\n",
              "      <td>-5.065981</td>\n",
              "      <td>1.996885</td>\n",
              "      <td>-3.097379</td>\n",
              "      <td>-6.447202</td>\n",
              "      <td>3.775578</td>\n",
              "      <td>-7.498783</td>\n",
              "      <td>0.231307</td>\n",
              "      <td>-8.658268</td>\n",
              "      <td>1.343308</td>\n",
              "      <td>-6.173331</td>\n",
              "      <td>-10.708018</td>\n",
              "      <td>-3.504894</td>\n",
              "      <td>1.884044</td>\n",
              "      <td>0.342122</td>\n",
              "      <td>1.168618</td>\n",
              "      <td>0.289531</td>\n",
              "      <td>-0.371888</td>\n",
              "      <td>0.144761</td>\n",
              "      <td>0.084735</td>\n",
              "      <td>-0.197431</td>\n",
              "      <td>0.328672</td>\n",
              "      <td>0.835395</td>\n",
              "      <td>99.85</td>\n",
              "      <td>1'</td>\n",
              "    </tr>\n",
              "    <tr>\n",
              "      <th>13435</th>\n",
              "      <td>141925</td>\n",
              "      <td>0.120301</td>\n",
              "      <td>1.974141</td>\n",
              "      <td>-0.434087</td>\n",
              "      <td>5.390793</td>\n",
              "      <td>1.289684</td>\n",
              "      <td>0.280590</td>\n",
              "      <td>0.221963</td>\n",
              "      <td>0.067827</td>\n",
              "      <td>-1.387054</td>\n",
              "      <td>-0.045125</td>\n",
              "      <td>0.195839</td>\n",
              "      <td>-0.629086</td>\n",
              "      <td>0.681222</td>\n",
              "      <td>-4.715521</td>\n",
              "      <td>-0.287876</td>\n",
              "      <td>0.497434</td>\n",
              "      <td>3.871618</td>\n",
              "      <td>1.492394</td>\n",
              "      <td>0.506040</td>\n",
              "      <td>0.205691</td>\n",
              "      <td>-0.038690</td>\n",
              "      <td>0.204554</td>\n",
              "      <td>-0.167313</td>\n",
              "      <td>0.791547</td>\n",
              "      <td>-0.223675</td>\n",
              "      <td>0.473223</td>\n",
              "      <td>-0.160202</td>\n",
              "      <td>0.065039</td>\n",
              "      <td>0.76</td>\n",
              "      <td>1'</td>\n",
              "    </tr>\n",
              "    <tr>\n",
              "      <th>14682</th>\n",
              "      <td>58060</td>\n",
              "      <td>-2.630598</td>\n",
              "      <td>5.125759</td>\n",
              "      <td>-6.092255</td>\n",
              "      <td>5.527393</td>\n",
              "      <td>1.605145</td>\n",
              "      <td>-2.319884</td>\n",
              "      <td>-3.207076</td>\n",
              "      <td>-1.482583</td>\n",
              "      <td>-5.074871</td>\n",
              "      <td>-6.778331</td>\n",
              "      <td>5.725255</td>\n",
              "      <td>-6.949172</td>\n",
              "      <td>-3.127795</td>\n",
              "      <td>-11.090425</td>\n",
              "      <td>-0.800273</td>\n",
              "      <td>-1.707501</td>\n",
              "      <td>-1.685473</td>\n",
              "      <td>0.274891</td>\n",
              "      <td>-2.028885</td>\n",
              "      <td>0.948864</td>\n",
              "      <td>-0.527474</td>\n",
              "      <td>0.220546</td>\n",
              "      <td>-1.371110</td>\n",
              "      <td>-0.504899</td>\n",
              "      <td>0.382307</td>\n",
              "      <td>0.395528</td>\n",
              "      <td>0.782036</td>\n",
              "      <td>0.628528</td>\n",
              "      <td>1.00</td>\n",
              "      <td>1'</td>\n",
              "    </tr>\n",
              "    <tr>\n",
              "      <th>15851</th>\n",
              "      <td>110547</td>\n",
              "      <td>-1.532810</td>\n",
              "      <td>2.232752</td>\n",
              "      <td>-5.923100</td>\n",
              "      <td>3.386708</td>\n",
              "      <td>-0.153443</td>\n",
              "      <td>-1.419748</td>\n",
              "      <td>-3.878576</td>\n",
              "      <td>1.444656</td>\n",
              "      <td>-1.465542</td>\n",
              "      <td>-5.208335</td>\n",
              "      <td>4.546301</td>\n",
              "      <td>-7.761194</td>\n",
              "      <td>1.159540</td>\n",
              "      <td>-5.231611</td>\n",
              "      <td>-0.171642</td>\n",
              "      <td>-4.719829</td>\n",
              "      <td>-4.847992</td>\n",
              "      <td>-1.134329</td>\n",
              "      <td>3.527738</td>\n",
              "      <td>0.520840</td>\n",
              "      <td>0.632505</td>\n",
              "      <td>-0.070838</td>\n",
              "      <td>-0.490291</td>\n",
              "      <td>-0.359983</td>\n",
              "      <td>0.050678</td>\n",
              "      <td>1.095671</td>\n",
              "      <td>0.471741</td>\n",
              "      <td>-0.106667</td>\n",
              "      <td>0.76</td>\n",
              "      <td>1'</td>\n",
              "    </tr>\n",
              "    <tr>\n",
              "      <th>15903</th>\n",
              "      <td>53658</td>\n",
              "      <td>-1.739341</td>\n",
              "      <td>1.344521</td>\n",
              "      <td>-0.534379</td>\n",
              "      <td>3.195291</td>\n",
              "      <td>-0.416196</td>\n",
              "      <td>-1.261961</td>\n",
              "      <td>-2.340991</td>\n",
              "      <td>0.713004</td>\n",
              "      <td>-1.416265</td>\n",
              "      <td>-2.996669</td>\n",
              "      <td>0.747478</td>\n",
              "      <td>-4.596612</td>\n",
              "      <td>-1.927760</td>\n",
              "      <td>-4.757074</td>\n",
              "      <td>-1.247815</td>\n",
              "      <td>-2.535494</td>\n",
              "      <td>-5.356465</td>\n",
              "      <td>-1.974749</td>\n",
              "      <td>-0.603726</td>\n",
              "      <td>0.002749</td>\n",
              "      <td>0.383180</td>\n",
              "      <td>-0.213952</td>\n",
              "      <td>-0.336640</td>\n",
              "      <td>0.237076</td>\n",
              "      <td>0.246003</td>\n",
              "      <td>-0.044228</td>\n",
              "      <td>0.510729</td>\n",
              "      <td>0.220952</td>\n",
              "      <td>0.00</td>\n",
              "      <td>1'</td>\n",
              "    </tr>\n",
              "    <tr>\n",
              "      <th>15929</th>\n",
              "      <td>77202</td>\n",
              "      <td>-0.356326</td>\n",
              "      <td>1.435305</td>\n",
              "      <td>-0.813564</td>\n",
              "      <td>1.993117</td>\n",
              "      <td>2.055878</td>\n",
              "      <td>-0.543579</td>\n",
              "      <td>0.487691</td>\n",
              "      <td>0.085449</td>\n",
              "      <td>-0.536352</td>\n",
              "      <td>-2.231209</td>\n",
              "      <td>0.273984</td>\n",
              "      <td>-0.535839</td>\n",
              "      <td>0.595677</td>\n",
              "      <td>-5.141823</td>\n",
              "      <td>0.732367</td>\n",
              "      <td>0.623913</td>\n",
              "      <td>4.090983</td>\n",
              "      <td>1.634084</td>\n",
              "      <td>0.260847</td>\n",
              "      <td>0.303262</td>\n",
              "      <td>-0.312863</td>\n",
              "      <td>-0.687874</td>\n",
              "      <td>-0.267003</td>\n",
              "      <td>-1.158480</td>\n",
              "      <td>0.271460</td>\n",
              "      <td>-0.155397</td>\n",
              "      <td>0.114328</td>\n",
              "      <td>0.101526</td>\n",
              "      <td>1.00</td>\n",
              "      <td>1'</td>\n",
              "    </tr>\n",
              "    <tr>\n",
              "      <th>17739</th>\n",
              "      <td>71033</td>\n",
              "      <td>-3.170818</td>\n",
              "      <td>0.185735</td>\n",
              "      <td>-3.399852</td>\n",
              "      <td>3.761155</td>\n",
              "      <td>-2.148047</td>\n",
              "      <td>-1.598944</td>\n",
              "      <td>-2.519565</td>\n",
              "      <td>1.316215</td>\n",
              "      <td>-2.400106</td>\n",
              "      <td>-4.993417</td>\n",
              "      <td>4.447192</td>\n",
              "      <td>-5.293760</td>\n",
              "      <td>-1.419578</td>\n",
              "      <td>-6.425276</td>\n",
              "      <td>0.914083</td>\n",
              "      <td>-3.515197</td>\n",
              "      <td>-6.347453</td>\n",
              "      <td>-0.903512</td>\n",
              "      <td>1.191606</td>\n",
              "      <td>1.932254</td>\n",
              "      <td>1.092051</td>\n",
              "      <td>-0.041080</td>\n",
              "      <td>0.904395</td>\n",
              "      <td>0.180016</td>\n",
              "      <td>0.049970</td>\n",
              "      <td>-0.257100</td>\n",
              "      <td>0.859282</td>\n",
              "      <td>0.225924</td>\n",
              "      <td>426.40</td>\n",
              "      <td>1'</td>\n",
              "    </tr>\n",
              "    <tr>\n",
              "      <th>18201</th>\n",
              "      <td>45463</td>\n",
              "      <td>-1.476893</td>\n",
              "      <td>2.122314</td>\n",
              "      <td>-1.229470</td>\n",
              "      <td>1.201849</td>\n",
              "      <td>-0.343264</td>\n",
              "      <td>-1.317704</td>\n",
              "      <td>-1.528142</td>\n",
              "      <td>-0.620953</td>\n",
              "      <td>-1.213040</td>\n",
              "      <td>-2.975267</td>\n",
              "      <td>3.532220</td>\n",
              "      <td>-3.682640</td>\n",
              "      <td>-1.154777</td>\n",
              "      <td>-5.165229</td>\n",
              "      <td>-0.240091</td>\n",
              "      <td>-2.404927</td>\n",
              "      <td>-5.671739</td>\n",
              "      <td>-0.994294</td>\n",
              "      <td>-0.289936</td>\n",
              "      <td>0.276893</td>\n",
              "      <td>1.186036</td>\n",
              "      <td>-0.040215</td>\n",
              "      <td>-0.238930</td>\n",
              "      <td>0.110144</td>\n",
              "      <td>0.045418</td>\n",
              "      <td>-0.569232</td>\n",
              "      <td>0.481019</td>\n",
              "      <td>-0.047555</td>\n",
              "      <td>1.00</td>\n",
              "      <td>1'</td>\n",
              "    </tr>\n",
              "    <tr>\n",
              "      <th>18369</th>\n",
              "      <td>169142</td>\n",
              "      <td>-1.927883</td>\n",
              "      <td>1.125653</td>\n",
              "      <td>-4.518331</td>\n",
              "      <td>1.749293</td>\n",
              "      <td>-1.566487</td>\n",
              "      <td>-2.010494</td>\n",
              "      <td>-0.882850</td>\n",
              "      <td>0.697211</td>\n",
              "      <td>-2.064945</td>\n",
              "      <td>-5.587794</td>\n",
              "      <td>2.115795</td>\n",
              "      <td>-5.417424</td>\n",
              "      <td>-1.235123</td>\n",
              "      <td>-6.665177</td>\n",
              "      <td>0.401701</td>\n",
              "      <td>-2.897825</td>\n",
              "      <td>-4.570529</td>\n",
              "      <td>-1.315147</td>\n",
              "      <td>0.391167</td>\n",
              "      <td>1.252967</td>\n",
              "      <td>0.778584</td>\n",
              "      <td>-0.319189</td>\n",
              "      <td>0.639419</td>\n",
              "      <td>-0.294885</td>\n",
              "      <td>0.537503</td>\n",
              "      <td>0.788395</td>\n",
              "      <td>0.292680</td>\n",
              "      <td>0.147968</td>\n",
              "      <td>390.00</td>\n",
              "      <td>1'</td>\n",
              "    </tr>\n",
              "    <tr>\n",
              "      <th>18530</th>\n",
              "      <td>159844</td>\n",
              "      <td>-0.408111</td>\n",
              "      <td>3.132944</td>\n",
              "      <td>-3.098030</td>\n",
              "      <td>5.803893</td>\n",
              "      <td>0.890609</td>\n",
              "      <td>-0.501474</td>\n",
              "      <td>-0.440054</td>\n",
              "      <td>0.591828</td>\n",
              "      <td>-3.267693</td>\n",
              "      <td>-2.223070</td>\n",
              "      <td>0.757063</td>\n",
              "      <td>-3.501804</td>\n",
              "      <td>0.246742</td>\n",
              "      <td>-6.065622</td>\n",
              "      <td>0.339583</td>\n",
              "      <td>-1.005723</td>\n",
              "      <td>0.334316</td>\n",
              "      <td>0.421261</td>\n",
              "      <td>1.247143</td>\n",
              "      <td>0.499568</td>\n",
              "      <td>0.098482</td>\n",
              "      <td>-0.538375</td>\n",
              "      <td>-0.217989</td>\n",
              "      <td>-1.042657</td>\n",
              "      <td>0.314389</td>\n",
              "      <td>0.543244</td>\n",
              "      <td>0.233851</td>\n",
              "      <td>0.119603</td>\n",
              "      <td>45.51</td>\n",
              "      <td>1'</td>\n",
              "    </tr>\n",
              "    <tr>\n",
              "      <th>18591</th>\n",
              "      <td>72824</td>\n",
              "      <td>-1.111495</td>\n",
              "      <td>-0.257575</td>\n",
              "      <td>2.250210</td>\n",
              "      <td>1.152671</td>\n",
              "      <td>0.432904</td>\n",
              "      <td>1.254126</td>\n",
              "      <td>-0.584163</td>\n",
              "      <td>-0.609682</td>\n",
              "      <td>1.014602</td>\n",
              "      <td>0.334533</td>\n",
              "      <td>0.826375</td>\n",
              "      <td>0.196887</td>\n",
              "      <td>-1.885993</td>\n",
              "      <td>-0.472026</td>\n",
              "      <td>-0.578141</td>\n",
              "      <td>-1.243007</td>\n",
              "      <td>0.570460</td>\n",
              "      <td>-0.159057</td>\n",
              "      <td>0.407188</td>\n",
              "      <td>-0.510614</td>\n",
              "      <td>0.862913</td>\n",
              "      <td>0.927825</td>\n",
              "      <td>-0.343058</td>\n",
              "      <td>-0.256268</td>\n",
              "      <td>-0.600742</td>\n",
              "      <td>-0.180331</td>\n",
              "      <td>0.026762</td>\n",
              "      <td>-0.358335</td>\n",
              "      <td>45.03</td>\n",
              "      <td>1'</td>\n",
              "    </tr>\n",
              "    <tr>\n",
              "      <th>19249</th>\n",
              "      <td>101051</td>\n",
              "      <td>-1.465316</td>\n",
              "      <td>-1.093377</td>\n",
              "      <td>-0.059768</td>\n",
              "      <td>1.064785</td>\n",
              "      <td>11.095089</td>\n",
              "      <td>-5.430971</td>\n",
              "      <td>-9.378025</td>\n",
              "      <td>-0.446456</td>\n",
              "      <td>1.992110</td>\n",
              "      <td>1.785922</td>\n",
              "      <td>1.368585</td>\n",
              "      <td>-1.471697</td>\n",
              "      <td>-0.724759</td>\n",
              "      <td>3.442422</td>\n",
              "      <td>-0.957403</td>\n",
              "      <td>-1.626129</td>\n",
              "      <td>1.418215</td>\n",
              "      <td>-1.417917</td>\n",
              "      <td>-1.651766</td>\n",
              "      <td>-1.457610</td>\n",
              "      <td>1.160623</td>\n",
              "      <td>-1.259697</td>\n",
              "      <td>-15.981649</td>\n",
              "      <td>-0.883670</td>\n",
              "      <td>-3.536716</td>\n",
              "      <td>-0.592965</td>\n",
              "      <td>0.675525</td>\n",
              "      <td>0.424849</td>\n",
              "      <td>0.92</td>\n",
              "      <td>1'</td>\n",
              "    </tr>\n",
              "    <tr>\n",
              "      <th>19441</th>\n",
              "      <td>67857</td>\n",
              "      <td>-1.739334</td>\n",
              "      <td>-1.304655</td>\n",
              "      <td>0.314103</td>\n",
              "      <td>0.053740</td>\n",
              "      <td>-0.058696</td>\n",
              "      <td>0.071260</td>\n",
              "      <td>0.694862</td>\n",
              "      <td>-0.313270</td>\n",
              "      <td>-0.649377</td>\n",
              "      <td>0.517568</td>\n",
              "      <td>-1.356558</td>\n",
              "      <td>-0.238383</td>\n",
              "      <td>0.069579</td>\n",
              "      <td>-0.431690</td>\n",
              "      <td>-0.674724</td>\n",
              "      <td>-1.654162</td>\n",
              "      <td>-0.053961</td>\n",
              "      <td>0.520746</td>\n",
              "      <td>-1.554562</td>\n",
              "      <td>-1.463994</td>\n",
              "      <td>-0.665172</td>\n",
              "      <td>-0.632078</td>\n",
              "      <td>-0.421176</td>\n",
              "      <td>-0.400774</td>\n",
              "      <td>-0.001640</td>\n",
              "      <td>-0.495162</td>\n",
              "      <td>0.031633</td>\n",
              "      <td>0.066280</td>\n",
              "      <td>320.00</td>\n",
              "      <td>1'</td>\n",
              "    </tr>\n",
              "    <tr>\n",
              "      <th>20936</th>\n",
              "      <td>41353</td>\n",
              "      <td>-15.020981</td>\n",
              "      <td>8.075240</td>\n",
              "      <td>-16.298091</td>\n",
              "      <td>5.664820</td>\n",
              "      <td>-11.918153</td>\n",
              "      <td>-4.246957</td>\n",
              "      <td>-14.716668</td>\n",
              "      <td>9.435084</td>\n",
              "      <td>-6.795398</td>\n",
              "      <td>-15.124163</td>\n",
              "      <td>6.037666</td>\n",
              "      <td>-11.676722</td>\n",
              "      <td>1.326979</td>\n",
              "      <td>-12.381606</td>\n",
              "      <td>-0.071639</td>\n",
              "      <td>-9.484143</td>\n",
              "      <td>-19.671881</td>\n",
              "      <td>-7.643273</td>\n",
              "      <td>1.169064</td>\n",
              "      <td>-0.995787</td>\n",
              "      <td>2.525115</td>\n",
              "      <td>-0.832074</td>\n",
              "      <td>-0.186117</td>\n",
              "      <td>0.429781</td>\n",
              "      <td>0.697103</td>\n",
              "      <td>0.056031</td>\n",
              "      <td>-1.310888</td>\n",
              "      <td>-0.707403</td>\n",
              "      <td>34.12</td>\n",
              "      <td>1'</td>\n",
              "    </tr>\n",
              "    <tr>\n",
              "      <th>21660</th>\n",
              "      <td>118532</td>\n",
              "      <td>-5.961457</td>\n",
              "      <td>5.313382</td>\n",
              "      <td>-6.674320</td>\n",
              "      <td>6.028975</td>\n",
              "      <td>-1.387560</td>\n",
              "      <td>0.670638</td>\n",
              "      <td>-4.128987</td>\n",
              "      <td>-4.765894</td>\n",
              "      <td>-1.005259</td>\n",
              "      <td>0.453505</td>\n",
              "      <td>4.431736</td>\n",
              "      <td>-5.142737</td>\n",
              "      <td>-1.181692</td>\n",
              "      <td>-8.755449</td>\n",
              "      <td>1.004356</td>\n",
              "      <td>-2.065026</td>\n",
              "      <td>-3.261435</td>\n",
              "      <td>0.125223</td>\n",
              "      <td>0.936966</td>\n",
              "      <td>-1.116581</td>\n",
              "      <td>5.556642</td>\n",
              "      <td>-1.501808</td>\n",
              "      <td>1.355172</td>\n",
              "      <td>0.141093</td>\n",
              "      <td>0.077913</td>\n",
              "      <td>0.473988</td>\n",
              "      <td>0.287129</td>\n",
              "      <td>1.468653</td>\n",
              "      <td>105.89</td>\n",
              "      <td>1'</td>\n",
              "    </tr>\n",
              "    <tr>\n",
              "      <th>21905</th>\n",
              "      <td>90676</td>\n",
              "      <td>-2.405580</td>\n",
              "      <td>3.738235</td>\n",
              "      <td>-2.317843</td>\n",
              "      <td>1.367442</td>\n",
              "      <td>0.394001</td>\n",
              "      <td>1.919938</td>\n",
              "      <td>-3.106942</td>\n",
              "      <td>-10.764403</td>\n",
              "      <td>3.353525</td>\n",
              "      <td>0.369936</td>\n",
              "      <td>0.382172</td>\n",
              "      <td>-2.262933</td>\n",
              "      <td>1.210605</td>\n",
              "      <td>-1.880619</td>\n",
              "      <td>-0.934160</td>\n",
              "      <td>0.235477</td>\n",
              "      <td>3.321569</td>\n",
              "      <td>1.906271</td>\n",
              "      <td>-0.581356</td>\n",
              "      <td>-2.140874</td>\n",
              "      <td>10.005998</td>\n",
              "      <td>-2.454964</td>\n",
              "      <td>1.684957</td>\n",
              "      <td>0.118263</td>\n",
              "      <td>-1.531380</td>\n",
              "      <td>-0.695308</td>\n",
              "      <td>-0.152502</td>\n",
              "      <td>-0.138866</td>\n",
              "      <td>6.99</td>\n",
              "      <td>1'</td>\n",
              "    </tr>\n",
              "    <tr>\n",
              "      <th>22515</th>\n",
              "      <td>41505</td>\n",
              "      <td>-16.526507</td>\n",
              "      <td>8.584972</td>\n",
              "      <td>-18.649853</td>\n",
              "      <td>9.505594</td>\n",
              "      <td>-13.793819</td>\n",
              "      <td>-2.832404</td>\n",
              "      <td>-16.701694</td>\n",
              "      <td>7.517344</td>\n",
              "      <td>-8.507059</td>\n",
              "      <td>-14.110184</td>\n",
              "      <td>5.299236</td>\n",
              "      <td>-10.834006</td>\n",
              "      <td>1.671120</td>\n",
              "      <td>-9.373859</td>\n",
              "      <td>0.360806</td>\n",
              "      <td>-9.899247</td>\n",
              "      <td>-19.236292</td>\n",
              "      <td>-8.398552</td>\n",
              "      <td>3.101735</td>\n",
              "      <td>-1.514923</td>\n",
              "      <td>1.190739</td>\n",
              "      <td>-1.127670</td>\n",
              "      <td>-2.358579</td>\n",
              "      <td>0.673461</td>\n",
              "      <td>-1.413700</td>\n",
              "      <td>-0.462762</td>\n",
              "      <td>-2.018575</td>\n",
              "      <td>-1.042804</td>\n",
              "      <td>364.19</td>\n",
              "      <td>1'</td>\n",
              "    </tr>\n",
              "    <tr>\n",
              "      <th>22819</th>\n",
              "      <td>17220</td>\n",
              "      <td>1.189784</td>\n",
              "      <td>0.942289</td>\n",
              "      <td>0.082334</td>\n",
              "      <td>3.024050</td>\n",
              "      <td>0.412406</td>\n",
              "      <td>-0.214415</td>\n",
              "      <td>0.053558</td>\n",
              "      <td>-0.110353</td>\n",
              "      <td>0.883798</td>\n",
              "      <td>-0.554224</td>\n",
              "      <td>0.154921</td>\n",
              "      <td>-2.776757</td>\n",
              "      <td>1.641207</td>\n",
              "      <td>-0.456077</td>\n",
              "      <td>-1.240414</td>\n",
              "      <td>0.857323</td>\n",
              "      <td>1.707024</td>\n",
              "      <td>0.526349</td>\n",
              "      <td>-0.865105</td>\n",
              "      <td>-0.143435</td>\n",
              "      <td>-0.502636</td>\n",
              "      <td>-1.047398</td>\n",
              "      <td>-0.056752</td>\n",
              "      <td>-0.340688</td>\n",
              "      <td>0.541235</td>\n",
              "      <td>-0.098300</td>\n",
              "      <td>-0.003041</td>\n",
              "      <td>0.049819</td>\n",
              "      <td>3.79</td>\n",
              "      <td>1'</td>\n",
              "    </tr>\n",
              "    <tr>\n",
              "      <th>23641</th>\n",
              "      <td>62330</td>\n",
              "      <td>1.140865</td>\n",
              "      <td>1.221317</td>\n",
              "      <td>-1.452955</td>\n",
              "      <td>2.067575</td>\n",
              "      <td>0.854742</td>\n",
              "      <td>-0.981223</td>\n",
              "      <td>0.325714</td>\n",
              "      <td>-0.037721</td>\n",
              "      <td>0.113219</td>\n",
              "      <td>-2.126973</td>\n",
              "      <td>0.915947</td>\n",
              "      <td>-0.468572</td>\n",
              "      <td>-0.523377</td>\n",
              "      <td>-4.861867</td>\n",
              "      <td>0.421013</td>\n",
              "      <td>0.866441</td>\n",
              "      <td>4.082485</td>\n",
              "      <td>1.196318</td>\n",
              "      <td>-1.100764</td>\n",
              "      <td>-0.067712</td>\n",
              "      <td>-0.377597</td>\n",
              "      <td>-0.793460</td>\n",
              "      <td>-0.132333</td>\n",
              "      <td>-0.331586</td>\n",
              "      <td>0.664878</td>\n",
              "      <td>-0.309312</td>\n",
              "      <td>0.099942</td>\n",
              "      <td>0.122988</td>\n",
              "      <td>1.00</td>\n",
              "      <td>1'</td>\n",
              "    </tr>\n",
              "    <tr>\n",
              "      <th>23998</th>\n",
              "      <td>8878</td>\n",
              "      <td>-2.661802</td>\n",
              "      <td>5.856393</td>\n",
              "      <td>-7.653616</td>\n",
              "      <td>6.379742</td>\n",
              "      <td>-0.060712</td>\n",
              "      <td>-3.131550</td>\n",
              "      <td>-3.103570</td>\n",
              "      <td>1.778492</td>\n",
              "      <td>-3.831154</td>\n",
              "      <td>-7.191604</td>\n",
              "      <td>7.102989</td>\n",
              "      <td>-9.928700</td>\n",
              "      <td>-0.067498</td>\n",
              "      <td>-10.924187</td>\n",
              "      <td>-1.697914</td>\n",
              "      <td>-2.379421</td>\n",
              "      <td>-2.775114</td>\n",
              "      <td>0.273799</td>\n",
              "      <td>-1.382188</td>\n",
              "      <td>0.399097</td>\n",
              "      <td>0.734775</td>\n",
              "      <td>-0.435901</td>\n",
              "      <td>-0.384766</td>\n",
              "      <td>-0.286016</td>\n",
              "      <td>1.007934</td>\n",
              "      <td>0.413196</td>\n",
              "      <td>0.280284</td>\n",
              "      <td>0.303937</td>\n",
              "      <td>1.00</td>\n",
              "      <td>1'</td>\n",
              "    </tr>\n",
              "    <tr>\n",
              "      <th>24014</th>\n",
              "      <td>139951</td>\n",
              "      <td>-2.921944</td>\n",
              "      <td>-0.228062</td>\n",
              "      <td>-5.877289</td>\n",
              "      <td>2.201884</td>\n",
              "      <td>-1.935440</td>\n",
              "      <td>0.631141</td>\n",
              "      <td>-1.245106</td>\n",
              "      <td>1.511348</td>\n",
              "      <td>-1.899987</td>\n",
              "      <td>-6.428231</td>\n",
              "      <td>4.229154</td>\n",
              "      <td>-5.292314</td>\n",
              "      <td>-0.888087</td>\n",
              "      <td>-7.672250</td>\n",
              "      <td>0.547571</td>\n",
              "      <td>-4.307060</td>\n",
              "      <td>-5.701174</td>\n",
              "      <td>-1.772803</td>\n",
              "      <td>-0.193132</td>\n",
              "      <td>2.230735</td>\n",
              "      <td>1.441622</td>\n",
              "      <td>0.895528</td>\n",
              "      <td>1.385511</td>\n",
              "      <td>-2.028024</td>\n",
              "      <td>0.509131</td>\n",
              "      <td>0.172643</td>\n",
              "      <td>0.726781</td>\n",
              "      <td>0.234514</td>\n",
              "      <td>723.21</td>\n",
              "      <td>1'</td>\n",
              "    </tr>\n",
              "    <tr>\n",
              "      <th>25043</th>\n",
              "      <td>52814</td>\n",
              "      <td>-1.101847</td>\n",
              "      <td>-1.632441</td>\n",
              "      <td>0.901067</td>\n",
              "      <td>0.847753</td>\n",
              "      <td>-1.249091</td>\n",
              "      <td>0.654937</td>\n",
              "      <td>1.448868</td>\n",
              "      <td>0.023308</td>\n",
              "      <td>-0.136742</td>\n",
              "      <td>-0.150129</td>\n",
              "      <td>1.172355</td>\n",
              "      <td>-0.795988</td>\n",
              "      <td>-2.136951</td>\n",
              "      <td>0.578869</td>\n",
              "      <td>1.412115</td>\n",
              "      <td>0.013467</td>\n",
              "      <td>-0.119204</td>\n",
              "      <td>0.826814</td>\n",
              "      <td>0.476860</td>\n",
              "      <td>1.230278</td>\n",
              "      <td>0.610654</td>\n",
              "      <td>0.835795</td>\n",
              "      <td>1.179955</td>\n",
              "      <td>-0.029091</td>\n",
              "      <td>-0.300896</td>\n",
              "      <td>0.699175</td>\n",
              "      <td>-0.336072</td>\n",
              "      <td>-0.177587</td>\n",
              "      <td>519.90</td>\n",
              "      <td>1'</td>\n",
              "    </tr>\n",
              "    <tr>\n",
              "      <th>25646</th>\n",
              "      <td>93834</td>\n",
              "      <td>-3.765680</td>\n",
              "      <td>5.890735</td>\n",
              "      <td>-10.202268</td>\n",
              "      <td>10.259036</td>\n",
              "      <td>-5.611448</td>\n",
              "      <td>-3.235376</td>\n",
              "      <td>-10.632683</td>\n",
              "      <td>3.272716</td>\n",
              "      <td>-5.268905</td>\n",
              "      <td>-11.182125</td>\n",
              "      <td>8.879476</td>\n",
              "      <td>-18.431131</td>\n",
              "      <td>-0.232822</td>\n",
              "      <td>-15.021657</td>\n",
              "      <td>0.141186</td>\n",
              "      <td>-12.186362</td>\n",
              "      <td>-20.165567</td>\n",
              "      <td>-7.051651</td>\n",
              "      <td>2.500827</td>\n",
              "      <td>1.194137</td>\n",
              "      <td>2.245606</td>\n",
              "      <td>0.546321</td>\n",
              "      <td>0.381853</td>\n",
              "      <td>0.382025</td>\n",
              "      <td>-0.821036</td>\n",
              "      <td>0.394355</td>\n",
              "      <td>1.412961</td>\n",
              "      <td>0.782407</td>\n",
              "      <td>0.01</td>\n",
              "      <td>1'</td>\n",
              "    </tr>\n",
              "    <tr>\n",
              "      <th>26661</th>\n",
              "      <td>148053</td>\n",
              "      <td>1.261324</td>\n",
              "      <td>2.726800</td>\n",
              "      <td>-5.435019</td>\n",
              "      <td>5.342759</td>\n",
              "      <td>1.447043</td>\n",
              "      <td>-1.442584</td>\n",
              "      <td>-0.898702</td>\n",
              "      <td>0.123062</td>\n",
              "      <td>-2.748496</td>\n",
              "      <td>-3.202436</td>\n",
              "      <td>1.991361</td>\n",
              "      <td>-3.986416</td>\n",
              "      <td>0.577207</td>\n",
              "      <td>-8.485795</td>\n",
              "      <td>-0.794782</td>\n",
              "      <td>-0.666134</td>\n",
              "      <td>-1.372629</td>\n",
              "      <td>-0.104313</td>\n",
              "      <td>-1.466911</td>\n",
              "      <td>0.313332</td>\n",
              "      <td>0.209086</td>\n",
              "      <td>-0.425938</td>\n",
              "      <td>-0.154440</td>\n",
              "      <td>-0.018820</td>\n",
              "      <td>0.632234</td>\n",
              "      <td>0.192922</td>\n",
              "      <td>0.468181</td>\n",
              "      <td>0.280486</td>\n",
              "      <td>1.59</td>\n",
              "      <td>1'</td>\n",
              "    </tr>\n",
              "    <tr>\n",
              "      <th>26796</th>\n",
              "      <td>123525</td>\n",
              "      <td>-5.904921</td>\n",
              "      <td>4.439911</td>\n",
              "      <td>-8.631802</td>\n",
              "      <td>7.788684</td>\n",
              "      <td>-4.989580</td>\n",
              "      <td>-1.200144</td>\n",
              "      <td>-7.674060</td>\n",
              "      <td>4.125761</td>\n",
              "      <td>-5.315778</td>\n",
              "      <td>-4.891156</td>\n",
              "      <td>4.220419</td>\n",
              "      <td>-6.408301</td>\n",
              "      <td>1.328003</td>\n",
              "      <td>-5.853545</td>\n",
              "      <td>-0.928337</td>\n",
              "      <td>-7.085798</td>\n",
              "      <td>-12.623856</td>\n",
              "      <td>-4.745224</td>\n",
              "      <td>2.797892</td>\n",
              "      <td>-0.505608</td>\n",
              "      <td>1.775030</td>\n",
              "      <td>1.266441</td>\n",
              "      <td>-0.199410</td>\n",
              "      <td>0.014960</td>\n",
              "      <td>-0.000019</td>\n",
              "      <td>0.544210</td>\n",
              "      <td>-1.167566</td>\n",
              "      <td>-1.206354</td>\n",
              "      <td>45.51</td>\n",
              "      <td>1'</td>\n",
              "    </tr>\n",
              "    <tr>\n",
              "      <th>27247</th>\n",
              "      <td>57007</td>\n",
              "      <td>-1.271244</td>\n",
              "      <td>2.462675</td>\n",
              "      <td>-2.851395</td>\n",
              "      <td>2.324480</td>\n",
              "      <td>-1.372245</td>\n",
              "      <td>-0.948196</td>\n",
              "      <td>-3.065234</td>\n",
              "      <td>1.166927</td>\n",
              "      <td>-2.268771</td>\n",
              "      <td>-4.881143</td>\n",
              "      <td>2.255147</td>\n",
              "      <td>-4.686387</td>\n",
              "      <td>0.652375</td>\n",
              "      <td>-6.174288</td>\n",
              "      <td>0.594380</td>\n",
              "      <td>-4.849692</td>\n",
              "      <td>-6.536521</td>\n",
              "      <td>-3.119094</td>\n",
              "      <td>1.715494</td>\n",
              "      <td>0.560478</td>\n",
              "      <td>0.652941</td>\n",
              "      <td>0.081931</td>\n",
              "      <td>-0.221348</td>\n",
              "      <td>-0.523582</td>\n",
              "      <td>0.224228</td>\n",
              "      <td>0.756335</td>\n",
              "      <td>0.632800</td>\n",
              "      <td>0.250187</td>\n",
              "      <td>0.01</td>\n",
              "      <td>1'</td>\n",
              "    </tr>\n",
              "    <tr>\n",
              "      <th>27410</th>\n",
              "      <td>141565</td>\n",
              "      <td>0.114965</td>\n",
              "      <td>0.766762</td>\n",
              "      <td>-0.494132</td>\n",
              "      <td>0.116772</td>\n",
              "      <td>0.868169</td>\n",
              "      <td>-0.477982</td>\n",
              "      <td>0.438496</td>\n",
              "      <td>0.063073</td>\n",
              "      <td>-0.186207</td>\n",
              "      <td>-0.159325</td>\n",
              "      <td>1.200304</td>\n",
              "      <td>0.281744</td>\n",
              "      <td>-0.623844</td>\n",
              "      <td>-0.658246</td>\n",
              "      <td>-0.155888</td>\n",
              "      <td>0.056227</td>\n",
              "      <td>0.653662</td>\n",
              "      <td>0.334655</td>\n",
              "      <td>1.028927</td>\n",
              "      <td>0.062199</td>\n",
              "      <td>-0.284413</td>\n",
              "      <td>-0.706865</td>\n",
              "      <td>0.131405</td>\n",
              "      <td>0.600742</td>\n",
              "      <td>-0.604264</td>\n",
              "      <td>0.262938</td>\n",
              "      <td>0.099145</td>\n",
              "      <td>0.010810</td>\n",
              "      <td>4.49</td>\n",
              "      <td>1'</td>\n",
              "    </tr>\n",
              "    <tr>\n",
              "      <th>28280</th>\n",
              "      <td>8415</td>\n",
              "      <td>-0.251471</td>\n",
              "      <td>4.313523</td>\n",
              "      <td>-6.891438</td>\n",
              "      <td>6.796797</td>\n",
              "      <td>0.616297</td>\n",
              "      <td>-2.966327</td>\n",
              "      <td>-2.436653</td>\n",
              "      <td>0.489328</td>\n",
              "      <td>-3.371639</td>\n",
              "      <td>-6.810813</td>\n",
              "      <td>7.620089</td>\n",
              "      <td>-10.285283</td>\n",
              "      <td>-0.342444</td>\n",
              "      <td>-11.543498</td>\n",
              "      <td>-1.334988</td>\n",
              "      <td>-2.689284</td>\n",
              "      <td>-3.204383</td>\n",
              "      <td>0.086522</td>\n",
              "      <td>-1.314495</td>\n",
              "      <td>0.632710</td>\n",
              "      <td>0.536892</td>\n",
              "      <td>-0.546126</td>\n",
              "      <td>-0.605240</td>\n",
              "      <td>-0.263743</td>\n",
              "      <td>1.539916</td>\n",
              "      <td>0.523574</td>\n",
              "      <td>0.891025</td>\n",
              "      <td>0.572741</td>\n",
              "      <td>1.00</td>\n",
              "      <td>1'</td>\n",
              "    </tr>\n",
              "  </tbody>\n",
              "</table>\n",
              "</div>"
            ],
            "text/plain": [
              "       Unnamed: 0         V1         V2         V3         V4         V5  \\\n",
              "201         28143 -27.143678  15.365804 -28.407424   6.370895 -20.087878   \n",
              "323        152058  -3.576362   3.299436  -7.460433   7.783634  -0.398549   \n",
              "861        110087   1.934946   0.650678  -0.286957   3.987828   0.316052   \n",
              "1250       102676  -5.552122   5.678134  -9.775528   8.416295  -4.409844   \n",
              "1627       143434  -2.729482   3.312495  -4.242710   5.036985  -0.376561   \n",
              "1963       102480  -1.929597   4.066413  -4.865184   5.898602  -0.552493   \n",
              "2271       148479  -1.541678   3.846800  -7.604114   3.121459  -1.254924   \n",
              "2353       133184  -1.212682  -2.484824  -6.397186   3.670562  -0.863375   \n",
              "2562       153653  -5.192496   3.164721  -5.047679   2.246597  -4.011781   \n",
              "2659        41397 -14.970346   8.401421 -16.867238   8.252334 -13.565130   \n",
              "3430        72327  -4.198735   0.194121  -3.917586   3.920748  -1.875486   \n",
              "3600       149582  -4.280584   1.421100  -3.908229   2.942946  -0.076205   \n",
              "3947       128595  -5.313774   2.664274  -4.250707   0.394707  -0.391383   \n",
              "4046        25231 -16.598665  10.541751 -19.818982   6.017295 -13.025901   \n",
              "4279        17520  -5.268053   9.067613 -15.960728  10.296603  -4.708241   \n",
              "4898        58067  -0.264869   3.386140  -3.454997   4.367629   3.336060   \n",
              "5190        47545   1.176716   0.557091  -0.490800   0.756424   0.249192   \n",
              "6621       160791   2.132386   0.705608  -3.530759   0.514779   1.527175   \n",
              "6816        83934  -0.433222   2.428379  -3.996454   4.871299  -1.796308   \n",
              "7374        41607 -18.247513   8.713250 -17.880127   9.249459 -14.541213   \n",
              "9591         7526   0.008430   4.137837  -6.240697   6.675732   0.768307   \n",
              "9927        85285  -7.030308   3.421991  -9.525072   5.270891  -4.024630   \n",
              "10046       94362 -26.457745  16.497472 -30.177317   8.904157 -17.892600   \n",
              "10076       65385  -2.923827   1.524837  -3.018758   3.289291  -5.755542   \n",
              "11740       48884  -2.139051   1.394368  -0.612035   1.049327  -1.162102   \n",
              "11794      146022   0.908637   2.849024  -5.647343   6.009415   0.216656   \n",
              "12281       61108  -2.756007   0.683821  -1.390169   1.501887  -1.165614   \n",
              "12349      131024   0.469750  -1.237555  -1.767341   4.833490  -0.268715   \n",
              "13002        7672   0.702710   2.426433  -5.234513   4.416661  -2.170806   \n",
              "13318       75851  -4.793667   3.418911  -5.074445   4.035987  -3.527875   \n",
              "13435      141925   0.120301   1.974141  -0.434087   5.390793   1.289684   \n",
              "14682       58060  -2.630598   5.125759  -6.092255   5.527393   1.605145   \n",
              "15851      110547  -1.532810   2.232752  -5.923100   3.386708  -0.153443   \n",
              "15903       53658  -1.739341   1.344521  -0.534379   3.195291  -0.416196   \n",
              "15929       77202  -0.356326   1.435305  -0.813564   1.993117   2.055878   \n",
              "17739       71033  -3.170818   0.185735  -3.399852   3.761155  -2.148047   \n",
              "18201       45463  -1.476893   2.122314  -1.229470   1.201849  -0.343264   \n",
              "18369      169142  -1.927883   1.125653  -4.518331   1.749293  -1.566487   \n",
              "18530      159844  -0.408111   3.132944  -3.098030   5.803893   0.890609   \n",
              "18591       72824  -1.111495  -0.257575   2.250210   1.152671   0.432904   \n",
              "19249      101051  -1.465316  -1.093377  -0.059768   1.064785  11.095089   \n",
              "19441       67857  -1.739334  -1.304655   0.314103   0.053740  -0.058696   \n",
              "20936       41353 -15.020981   8.075240 -16.298091   5.664820 -11.918153   \n",
              "21660      118532  -5.961457   5.313382  -6.674320   6.028975  -1.387560   \n",
              "21905       90676  -2.405580   3.738235  -2.317843   1.367442   0.394001   \n",
              "22515       41505 -16.526507   8.584972 -18.649853   9.505594 -13.793819   \n",
              "22819       17220   1.189784   0.942289   0.082334   3.024050   0.412406   \n",
              "23641       62330   1.140865   1.221317  -1.452955   2.067575   0.854742   \n",
              "23998        8878  -2.661802   5.856393  -7.653616   6.379742  -0.060712   \n",
              "24014      139951  -2.921944  -0.228062  -5.877289   2.201884  -1.935440   \n",
              "25043       52814  -1.101847  -1.632441   0.901067   0.847753  -1.249091   \n",
              "25646       93834  -3.765680   5.890735 -10.202268  10.259036  -5.611448   \n",
              "26661      148053   1.261324   2.726800  -5.435019   5.342759   1.447043   \n",
              "26796      123525  -5.904921   4.439911  -8.631802   7.788684  -4.989580   \n",
              "27247       57007  -1.271244   2.462675  -2.851395   2.324480  -1.372245   \n",
              "27410      141565   0.114965   0.766762  -0.494132   0.116772   0.868169   \n",
              "28280        8415  -0.251471   4.313523  -6.891438   6.796797   0.616297   \n",
              "\n",
              "             V6         V7         V8        V9        V10        V11  \\\n",
              "201   -4.666313 -18.709479  17.903574 -3.722279  -8.120962   4.419943   \n",
              "323   -1.968441  -3.110476  -0.328404 -1.574363  -2.497561   4.604170   \n",
              "861   -0.099449  -0.021483  -0.172327  0.508730   1.072955  -0.427567   \n",
              "1250  -1.506235  -6.899839   3.750443 -3.879793  -6.864164   7.051065   \n",
              "1627  -1.532462  -3.449159   1.856839 -3.623334  -5.653638   3.942316   \n",
              "1963  -1.555962  -3.833623   0.679512 -3.463765  -6.683689   7.021278   \n",
              "2271  -2.084875  -2.385027   1.471140 -2.530507  -5.175660   1.927186   \n",
              "2353  -1.855855   1.017732  -0.544704 -1.703378  -3.739659   1.738124   \n",
              "2562  -0.638908  -2.873463   1.576318 -2.861986  -2.120458   1.863596   \n",
              "2659  -2.782438 -14.263735   9.643419 -7.701499 -14.226698   5.610999   \n",
              "3430  -2.118933  -3.614445   1.687884 -2.189871  -4.684233   4.376907   \n",
              "3600  -2.002526  -2.874155  -0.856005  0.963674  -3.235439   3.341802   \n",
              "3947   0.683526  -5.133671  -7.907790  0.215475  -2.297734   1.961481   \n",
              "4046  -4.128779 -14.118865  11.161144 -4.099551  -9.222826   6.329365   \n",
              "4279  -3.395375 -11.161057   5.499963 -5.667376 -11.627194  11.027059   \n",
              "4898  -2.053918   0.256890  -2.957235 -2.855797  -2.808456   1.847504   \n",
              "5190  -0.781871   0.228750  -0.040840 -0.432111  -0.585778   2.281939   \n",
              "6621  -1.716268   1.132791  -0.574214  0.128904  -1.000805  -0.191191   \n",
              "6816  -0.586868  -4.654543   1.285230 -2.743539  -5.638941   4.343743   \n",
              "7374  -1.911564 -18.014660   5.522162 -9.283925 -14.557159   4.392436   \n",
              "9591  -3.353060  -1.631735   0.154612 -2.795892  -6.187891   5.664395   \n",
              "9927  -2.865682  -6.989195   3.791551 -4.622730  -8.409665   6.309044   \n",
              "10046 -1.227904 -31.197329 -11.438920 -9.462573 -22.187089   4.419997   \n",
              "10076  2.218276  -0.509995  -3.569444 -1.016592  -4.320536   1.277202   \n",
              "11740 -0.768219  -1.997237   0.574997 -0.980832  -2.495619   2.555589   \n",
              "11794 -2.397014  -1.819308   0.338527 -2.819883  -4.063098   2.941190   \n",
              "12281 -0.131207  -1.478741  -0.246922 -0.100523  -2.301110   1.914454   \n",
              "12349 -0.512760   1.140149  -0.341273 -1.046351   0.085662  -0.000121   \n",
              "13002 -2.667554  -3.878088   0.911337 -0.166199  -5.009249   4.675729   \n",
              "13318 -1.923242  -5.065981   1.996885 -3.097379  -6.447202   3.775578   \n",
              "13435  0.280590   0.221963   0.067827 -1.387054  -0.045125   0.195839   \n",
              "14682 -2.319884  -3.207076  -1.482583 -5.074871  -6.778331   5.725255   \n",
              "15851 -1.419748  -3.878576   1.444656 -1.465542  -5.208335   4.546301   \n",
              "15903 -1.261961  -2.340991   0.713004 -1.416265  -2.996669   0.747478   \n",
              "15929 -0.543579   0.487691   0.085449 -0.536352  -2.231209   0.273984   \n",
              "17739 -1.598944  -2.519565   1.316215 -2.400106  -4.993417   4.447192   \n",
              "18201 -1.317704  -1.528142  -0.620953 -1.213040  -2.975267   3.532220   \n",
              "18369 -2.010494  -0.882850   0.697211 -2.064945  -5.587794   2.115795   \n",
              "18530 -0.501474  -0.440054   0.591828 -3.267693  -2.223070   0.757063   \n",
              "18591  1.254126  -0.584163  -0.609682  1.014602   0.334533   0.826375   \n",
              "19249 -5.430971  -9.378025  -0.446456  1.992110   1.785922   1.368585   \n",
              "19441  0.071260   0.694862  -0.313270 -0.649377   0.517568  -1.356558   \n",
              "20936 -4.246957 -14.716668   9.435084 -6.795398 -15.124163   6.037666   \n",
              "21660  0.670638  -4.128987  -4.765894 -1.005259   0.453505   4.431736   \n",
              "21905  1.919938  -3.106942 -10.764403  3.353525   0.369936   0.382172   \n",
              "22515 -2.832404 -16.701694   7.517344 -8.507059 -14.110184   5.299236   \n",
              "22819 -0.214415   0.053558  -0.110353  0.883798  -0.554224   0.154921   \n",
              "23641 -0.981223   0.325714  -0.037721  0.113219  -2.126973   0.915947   \n",
              "23998 -3.131550  -3.103570   1.778492 -3.831154  -7.191604   7.102989   \n",
              "24014  0.631141  -1.245106   1.511348 -1.899987  -6.428231   4.229154   \n",
              "25043  0.654937   1.448868   0.023308 -0.136742  -0.150129   1.172355   \n",
              "25646 -3.235376 -10.632683   3.272716 -5.268905 -11.182125   8.879476   \n",
              "26661 -1.442584  -0.898702   0.123062 -2.748496  -3.202436   1.991361   \n",
              "26796 -1.200144  -7.674060   4.125761 -5.315778  -4.891156   4.220419   \n",
              "27247 -0.948196  -3.065234   1.166927 -2.268771  -4.881143   2.255147   \n",
              "27410 -0.477982   0.438496   0.063073 -0.186207  -0.159325   1.200304   \n",
              "28280 -2.966327  -2.436653   0.489328 -3.371639  -6.810813   7.620089   \n",
              "\n",
              "             V12       V13        V14       V15        V16        V17  \\\n",
              "201    -6.210941  1.063837  -5.843528 -0.108836  -5.606597 -11.756256   \n",
              "323    -9.001915 -1.276324 -13.969471  1.256945  -4.491629  -5.969987   \n",
              "861    -2.777649  1.637140   1.571080 -1.445367   0.908650  -0.122016   \n",
              "1250  -10.137529  2.815440  -9.909168 -0.262230  -5.022557  -8.522975   \n",
              "1627   -5.883724 -1.347814  -9.266120 -2.459556  -2.205644  -5.709087   \n",
              "1963  -11.102493  1.711755 -10.447633 -2.799076  -6.261741 -11.647158   \n",
              "2271   -6.011155 -1.195601  -6.745561 -0.058091  -4.325132  -5.558067   \n",
              "2353   -2.844449  0.765864  -4.799737 -0.011335  -2.693168  -3.166955   \n",
              "2562   -3.620252 -1.480714  -1.583343 -1.230469  -1.202298  -6.167637   \n",
              "2659  -11.793979  1.598387 -11.606970 -0.044180  -9.286955 -19.899726   \n",
              "3430   -5.007441 -1.304745  -6.192475  1.002404  -3.316934  -6.188834   \n",
              "3600   -7.562860 -1.847443 -11.571423 -1.481556  -6.180919  -9.285186   \n",
              "3947   -1.944441 -0.692559  -4.346348 -1.726929  -1.820405  -3.746490   \n",
              "4046   -8.952191 -0.138364  -9.825054  0.057224  -7.541687 -14.259599   \n",
              "4279  -16.388054  0.363921 -17.230202 -0.437488 -10.122392 -13.639209   \n",
              "4898   -2.414822 -2.573225  -6.599126  0.123470   2.572372   6.609366   \n",
              "5190    0.654567 -0.310379  -1.043705  0.513750   0.399178   1.143130   \n",
              "6621   -0.323794 -0.572456  -1.422064  0.314684  -0.387162   1.734742   \n",
              "6816   -6.655734 -0.293109  -9.505141 -1.396149  -4.850323 -10.006253   \n",
              "7374  -10.380073  1.611821  -6.917640  0.158841 -10.328242 -20.254556   \n",
              "9591   -9.854485 -0.306167 -10.691196 -0.638498  -2.041974  -1.129056   \n",
              "9927   -8.576761  0.246747 -11.534046 -0.364265  -5.452495 -11.887570   \n",
              "10046 -10.592305 -0.703796  -3.926207 -2.400246  -6.809890 -12.462315   \n",
              "10076  -3.701750 -0.971870  -4.857777  0.090606  -2.801502  -4.186808   \n",
              "11740  -3.530436 -1.016234  -3.455197 -0.056363  -2.467737  -7.140326   \n",
              "11794  -6.151362 -1.989529  -9.150951 -0.604290  -1.952290  -2.892555   \n",
              "12281  -3.830998  0.719489  -6.353020  1.438716  -3.297239  -4.862971   \n",
              "12349  -0.054381  0.736192  -2.306645 -0.464003   1.672723   1.165737   \n",
              "13002  -8.167188  0.638559  -6.763334  1.296860  -3.811758  -3.754128   \n",
              "13318  -7.498783  0.231307  -8.658268  1.343308  -6.173331 -10.708018   \n",
              "13435  -0.629086  0.681222  -4.715521 -0.287876   0.497434   3.871618   \n",
              "14682  -6.949172 -3.127795 -11.090425 -0.800273  -1.707501  -1.685473   \n",
              "15851  -7.761194  1.159540  -5.231611 -0.171642  -4.719829  -4.847992   \n",
              "15903  -4.596612 -1.927760  -4.757074 -1.247815  -2.535494  -5.356465   \n",
              "15929  -0.535839  0.595677  -5.141823  0.732367   0.623913   4.090983   \n",
              "17739  -5.293760 -1.419578  -6.425276  0.914083  -3.515197  -6.347453   \n",
              "18201  -3.682640 -1.154777  -5.165229 -0.240091  -2.404927  -5.671739   \n",
              "18369  -5.417424 -1.235123  -6.665177  0.401701  -2.897825  -4.570529   \n",
              "18530  -3.501804  0.246742  -6.065622  0.339583  -1.005723   0.334316   \n",
              "18591   0.196887 -1.885993  -0.472026 -0.578141  -1.243007   0.570460   \n",
              "19249  -1.471697 -0.724759   3.442422 -0.957403  -1.626129   1.418215   \n",
              "19441  -0.238383  0.069579  -0.431690 -0.674724  -1.654162  -0.053961   \n",
              "20936 -11.676722  1.326979 -12.381606 -0.071639  -9.484143 -19.671881   \n",
              "21660  -5.142737 -1.181692  -8.755449  1.004356  -2.065026  -3.261435   \n",
              "21905  -2.262933  1.210605  -1.880619 -0.934160   0.235477   3.321569   \n",
              "22515 -10.834006  1.671120  -9.373859  0.360806  -9.899247 -19.236292   \n",
              "22819  -2.776757  1.641207  -0.456077 -1.240414   0.857323   1.707024   \n",
              "23641  -0.468572 -0.523377  -4.861867  0.421013   0.866441   4.082485   \n",
              "23998  -9.928700 -0.067498 -10.924187 -1.697914  -2.379421  -2.775114   \n",
              "24014  -5.292314 -0.888087  -7.672250  0.547571  -4.307060  -5.701174   \n",
              "25043  -0.795988 -2.136951   0.578869  1.412115   0.013467  -0.119204   \n",
              "25646 -18.431131 -0.232822 -15.021657  0.141186 -12.186362 -20.165567   \n",
              "26661  -3.986416  0.577207  -8.485795 -0.794782  -0.666134  -1.372629   \n",
              "26796  -6.408301  1.328003  -5.853545 -0.928337  -7.085798 -12.623856   \n",
              "27247  -4.686387  0.652375  -6.174288  0.594380  -4.849692  -6.536521   \n",
              "27410   0.281744 -0.623844  -0.658246 -0.155888   0.056227   0.653662   \n",
              "28280 -10.285283 -0.342444 -11.543498 -1.334988  -2.689284  -3.204383   \n",
              "\n",
              "            V18       V19       V20        V21       V22        V23       V24  \\\n",
              "201   -4.714947  0.783578  1.703888   1.796826 -1.960974  -0.902247  0.144011   \n",
              "323   -1.274666  1.147784 -0.181455   0.540731  0.719526   0.379249 -0.616962   \n",
              "861   -0.104110 -1.684022 -0.344452  -0.173602 -0.190974   0.219976 -0.216597   \n",
              "1250  -2.012939  1.525732 -0.064780   1.128472  0.228484   0.286258 -0.536294   \n",
              "1627  -1.113937 -1.556530  0.164288   0.727415 -0.301432  -0.502433 -0.462309   \n",
              "1963  -3.451436 -0.507537  0.942489   1.137212  0.674245  -0.531765 -0.433409   \n",
              "2271  -1.580531  0.971906  0.114760   1.096405  1.064222   0.065370  0.257209   \n",
              "2353  -1.067800 -0.559132  2.908374   1.396872  0.092073  -1.492882 -0.204227   \n",
              "2562  -2.651539  0.013588 -1.850470   1.167244 -1.006617   0.774562  0.063397   \n",
              "2659  -7.518051  1.243517 -1.614660   2.714045 -0.101355  -0.439666  0.519514   \n",
              "3430  -1.040413  1.233044  1.003350   0.801312 -0.183001  -0.440387  0.292539   \n",
              "3600  -3.921722  0.685511 -0.198963  -0.140062 -0.907720  -0.680108 -0.349170   \n",
              "3947  -0.880399  0.267915 -2.642902   8.664662 -2.716383   0.483559  0.079235   \n",
              "4046  -5.035052  1.432268  1.534920   1.725853 -1.151606  -0.680052  0.108176   \n",
              "4279  -4.986457  1.126784  1.455878   2.004110  0.191058   0.622928 -1.209264   \n",
              "4898   2.530670 -3.602657  0.482513  -1.394504 -0.166029  -1.452081 -0.251815   \n",
              "5190   0.256014 -0.511210 -0.102772  -0.062166 -0.128168  -0.040176  0.110040   \n",
              "6621   0.610976 -0.221267 -0.211167   0.163739  0.703910  -0.245076  0.460049   \n",
              "6816  -2.789598  0.982584  0.745029   0.713559 -0.408954  -0.320890 -0.804230   \n",
              "7374  -8.534523  3.256534 -0.526368   0.598843  0.615319  -0.486499  0.739268   \n",
              "9591   0.116453 -1.934666  0.488378   0.364514 -0.608057  -0.539528  0.128940   \n",
              "9927  -3.563585  0.876019  0.545698   1.103398 -0.541855   0.036943 -0.355519   \n",
              "10046 -5.501051 -0.567940  2.812241  -8.755698  3.460893   0.896538  0.254836   \n",
              "10076 -1.648406  1.176446 -0.447039  -0.511657 -0.122724  -4.288639  0.563797   \n",
              "11740 -1.271280 -0.001722  0.025427   0.696955  0.740003  -0.155115 -0.050607   \n",
              "11794 -0.912058 -1.563740  0.241921   0.407260 -0.397435  -0.080006 -0.168597   \n",
              "12281 -2.002354  1.545233 -0.106945   0.320474  0.611027   0.174864 -0.502151   \n",
              "12349  0.561323 -2.300798  1.277315   0.303905 -0.647075  -0.373014  0.260801   \n",
              "13002 -1.049177  1.554197  0.422743   0.551180 -0.009802   0.721698  0.473246   \n",
              "13318 -3.504894  1.884044  0.342122   1.168618  0.289531  -0.371888  0.144761   \n",
              "13435  1.492394  0.506040  0.205691  -0.038690  0.204554  -0.167313  0.791547   \n",
              "14682  0.274891 -2.028885  0.948864  -0.527474  0.220546  -1.371110 -0.504899   \n",
              "15851 -1.134329  3.527738  0.520840   0.632505 -0.070838  -0.490291 -0.359983   \n",
              "15903 -1.974749 -0.603726  0.002749   0.383180 -0.213952  -0.336640  0.237076   \n",
              "15929  1.634084  0.260847  0.303262  -0.312863 -0.687874  -0.267003 -1.158480   \n",
              "17739 -0.903512  1.191606  1.932254   1.092051 -0.041080   0.904395  0.180016   \n",
              "18201 -0.994294 -0.289936  0.276893   1.186036 -0.040215  -0.238930  0.110144   \n",
              "18369 -1.315147  0.391167  1.252967   0.778584 -0.319189   0.639419 -0.294885   \n",
              "18530  0.421261  1.247143  0.499568   0.098482 -0.538375  -0.217989 -1.042657   \n",
              "18591 -0.159057  0.407188 -0.510614   0.862913  0.927825  -0.343058 -0.256268   \n",
              "19249 -1.417917 -1.651766 -1.457610   1.160623 -1.259697 -15.981649 -0.883670   \n",
              "19441  0.520746 -1.554562 -1.463994  -0.665172 -0.632078  -0.421176 -0.400774   \n",
              "20936 -7.643273  1.169064 -0.995787   2.525115 -0.832074  -0.186117  0.429781   \n",
              "21660  0.125223  0.936966 -1.116581   5.556642 -1.501808   1.355172  0.141093   \n",
              "21905  1.906271 -0.581356 -2.140874  10.005998 -2.454964   1.684957  0.118263   \n",
              "22515 -8.398552  3.101735 -1.514923   1.190739 -1.127670  -2.358579  0.673461   \n",
              "22819  0.526349 -0.865105 -0.143435  -0.502636 -1.047398  -0.056752 -0.340688   \n",
              "23641  1.196318 -1.100764 -0.067712  -0.377597 -0.793460  -0.132333 -0.331586   \n",
              "23998  0.273799 -1.382188  0.399097   0.734775 -0.435901  -0.384766 -0.286016   \n",
              "24014 -1.772803 -0.193132  2.230735   1.441622  0.895528   1.385511 -2.028024   \n",
              "25043  0.826814  0.476860  1.230278   0.610654  0.835795   1.179955 -0.029091   \n",
              "25646 -7.051651  2.500827  1.194137   2.245606  0.546321   0.381853  0.382025   \n",
              "26661 -0.104313 -1.466911  0.313332   0.209086 -0.425938  -0.154440 -0.018820   \n",
              "26796 -4.745224  2.797892 -0.505608   1.775030  1.266441  -0.199410  0.014960   \n",
              "27247 -3.119094  1.715494  0.560478   0.652941  0.081931  -0.221348 -0.523582   \n",
              "27410  0.334655  1.028927  0.062199  -0.284413 -0.706865   0.131405  0.600742   \n",
              "28280  0.086522 -1.314495  0.632710   0.536892 -0.546126  -0.605240 -0.263743   \n",
              "\n",
              "            V25       V26       V27       V28   Amount Class  \n",
              "201    2.024388 -0.204214  1.332153  0.385891    99.99    1'  \n",
              "323   -0.442811  0.359841 -2.651825  0.422184     1.00    1'  \n",
              "861   -0.136692 -0.129954 -0.050077 -0.051082     1.00    1'  \n",
              "1250  -0.104925  0.420919 -0.297557 -0.946184   119.74    1'  \n",
              "1627   0.510683  0.046665  0.514646  0.140999     1.00    1'  \n",
              "1963   0.378659  0.198107  0.869694  0.228048     0.00    1'  \n",
              "2271  -0.693654 -0.335702  0.577052  0.398348   122.68    1'  \n",
              "2353   0.532511 -0.293871  0.212663  0.431095  1335.00    1'  \n",
              "2562  -0.390658  1.884741 -1.742558 -0.082216   247.86    1'  \n",
              "2659   0.789328  0.064357 -1.621386 -1.104819   273.01    1'  \n",
              "3430  -0.144967 -0.251744  1.249414 -0.131525   238.90    1'  \n",
              "3600   0.056276 -1.149923 -1.809886  0.723051     1.10    1'  \n",
              "3947   0.311065  0.555544  0.176740  0.362907     1.00    1'  \n",
              "4046   1.066878 -0.233720  1.707521  0.511423    99.99    1'  \n",
              "4279  -0.374799  0.648798  1.584697  0.720056     1.00    1'  \n",
              "4898   1.243461  0.452787  0.132218  0.424599     1.00    1'  \n",
              "5190   0.437891  0.368809 -0.018287  0.031173     0.76    1'  \n",
              "6621   0.920281 -0.216586 -0.026219 -0.025001     1.00    1'  \n",
              "6816   0.962852  0.199558  1.094533  0.541148     1.00    1'  \n",
              "7374  -0.236845 -0.046082 -3.011473 -1.022147    53.95    1'  \n",
              "9591   1.488481  0.507963  0.735822  0.513574     1.00    1'  \n",
              "9927   0.353634  1.042458  1.359516 -0.272188     0.00    1'  \n",
              "10046 -0.738097 -0.966564 -7.263482 -1.324884     1.00    1'  \n",
              "10076 -0.949451 -0.204532  1.510206 -0.324706  1354.25    1'  \n",
              "11740  0.268368 -0.469433 -0.405814 -0.152171    19.73    1'  \n",
              "11794  0.465058  0.210510  0.648705  0.360224     1.18    1'  \n",
              "12281 -0.174713  1.179242 -1.166315  0.821215   101.50    1'  \n",
              "12349 -0.496566 -0.245973 -0.117858  0.144774   723.21    1'  \n",
              "13002 -1.959304  0.319476  0.600485  0.129305     1.00    1'  \n",
              "13318  0.084735 -0.197431  0.328672  0.835395    99.85    1'  \n",
              "13435 -0.223675  0.473223 -0.160202  0.065039     0.76    1'  \n",
              "14682  0.382307  0.395528  0.782036  0.628528     1.00    1'  \n",
              "15851  0.050678  1.095671  0.471741 -0.106667     0.76    1'  \n",
              "15903  0.246003 -0.044228  0.510729  0.220952     0.00    1'  \n",
              "15929  0.271460 -0.155397  0.114328  0.101526     1.00    1'  \n",
              "17739  0.049970 -0.257100  0.859282  0.225924   426.40    1'  \n",
              "18201  0.045418 -0.569232  0.481019 -0.047555     1.00    1'  \n",
              "18369  0.537503  0.788395  0.292680  0.147968   390.00    1'  \n",
              "18530  0.314389  0.543244  0.233851  0.119603    45.51    1'  \n",
              "18591 -0.600742 -0.180331  0.026762 -0.358335    45.03    1'  \n",
              "19249 -3.536716 -0.592965  0.675525  0.424849     0.92    1'  \n",
              "19441 -0.001640 -0.495162  0.031633  0.066280   320.00    1'  \n",
              "20936  0.697103  0.056031 -1.310888 -0.707403    34.12    1'  \n",
              "21660  0.077913  0.473988  0.287129  1.468653   105.89    1'  \n",
              "21905 -1.531380 -0.695308 -0.152502 -0.138866     6.99    1'  \n",
              "22515 -1.413700 -0.462762 -2.018575 -1.042804   364.19    1'  \n",
              "22819  0.541235 -0.098300 -0.003041  0.049819     3.79    1'  \n",
              "23641  0.664878 -0.309312  0.099942  0.122988     1.00    1'  \n",
              "23998  1.007934  0.413196  0.280284  0.303937     1.00    1'  \n",
              "24014  0.509131  0.172643  0.726781  0.234514   723.21    1'  \n",
              "25043 -0.300896  0.699175 -0.336072 -0.177587   519.90    1'  \n",
              "25646 -0.821036  0.394355  1.412961  0.782407     0.01    1'  \n",
              "26661  0.632234  0.192922  0.468181  0.280486     1.59    1'  \n",
              "26796 -0.000019  0.544210 -1.167566 -1.206354    45.51    1'  \n",
              "27247  0.224228  0.756335  0.632800  0.250187     0.01    1'  \n",
              "27410 -0.604264  0.262938  0.099145  0.010810     4.49    1'  \n",
              "28280  1.539916  0.523574  0.891025  0.572741     1.00    1'  "
            ]
          },
          "metadata": {},
          "execution_count": 101
        }
      ]
    },
    {
      "cell_type": "code",
      "metadata": {
        "id": "a2j4cBMP07HV"
      },
      "source": [
        "# erro: valores estão como 1', substituindo por 1:\n",
        "\n",
        "df3['Class']= df3['Class'].replace([\"1'\"],[\"1\"])"
      ],
      "execution_count": 102,
      "outputs": []
    },
    {
      "cell_type": "code",
      "metadata": {
        "id": "pTnKrbQG3wER"
      },
      "source": [
        "# Tentando novamente converter coluna Class de object para int\n",
        "\n",
        "df3['Class'] = pd.to_numeric(df3['Class'])\n",
        "\n",
        "# Agora funcionou."
      ],
      "execution_count": 103,
      "outputs": []
    },
    {
      "cell_type": "code",
      "metadata": {
        "colab": {
          "base_uri": "https://localhost:8080/"
        },
        "id": "D0bGfo0134KA",
        "outputId": "0b6ee926-7cb9-4628-a0b6-5756dc28d84d"
      },
      "source": [
        "# Checando os tipos:\n",
        "\n",
        "df3.dtypes"
      ],
      "execution_count": 104,
      "outputs": [
        {
          "output_type": "execute_result",
          "data": {
            "text/plain": [
              "Unnamed: 0      int64\n",
              "V1            float64\n",
              "V2            float64\n",
              "V3            float64\n",
              "V4            float64\n",
              "V5            float64\n",
              "V6            float64\n",
              "V7            float64\n",
              "V8            float64\n",
              "V9            float64\n",
              "V10           float64\n",
              "V11           float64\n",
              "V12           float64\n",
              "V13           float64\n",
              "V14           float64\n",
              "V15           float64\n",
              "V16           float64\n",
              "V17           float64\n",
              "V18           float64\n",
              "V19           float64\n",
              "V20           float64\n",
              "V21           float64\n",
              "V22           float64\n",
              "V23           float64\n",
              "V24           float64\n",
              "V25           float64\n",
              "V26           float64\n",
              "V27           float64\n",
              "V28           float64\n",
              "Amount        float64\n",
              "Class           int64\n",
              "dtype: object"
            ]
          },
          "metadata": {},
          "execution_count": 104
        }
      ]
    },
    {
      "cell_type": "code",
      "metadata": {
        "colab": {
          "base_uri": "https://localhost:8080/",
          "height": 241
        },
        "id": "J1cZd00_xOyp",
        "outputId": "5ad0948b-e6a8-4e7b-a7a3-5956344d000d"
      },
      "source": [
        "df3.head()"
      ],
      "execution_count": 105,
      "outputs": [
        {
          "output_type": "execute_result",
          "data": {
            "text/html": [
              "<div>\n",
              "<style scoped>\n",
              "    .dataframe tbody tr th:only-of-type {\n",
              "        vertical-align: middle;\n",
              "    }\n",
              "\n",
              "    .dataframe tbody tr th {\n",
              "        vertical-align: top;\n",
              "    }\n",
              "\n",
              "    .dataframe thead th {\n",
              "        text-align: right;\n",
              "    }\n",
              "</style>\n",
              "<table border=\"1\" class=\"dataframe\">\n",
              "  <thead>\n",
              "    <tr style=\"text-align: right;\">\n",
              "      <th></th>\n",
              "      <th>Unnamed: 0</th>\n",
              "      <th>V1</th>\n",
              "      <th>V2</th>\n",
              "      <th>V3</th>\n",
              "      <th>V4</th>\n",
              "      <th>V5</th>\n",
              "      <th>V6</th>\n",
              "      <th>V7</th>\n",
              "      <th>V8</th>\n",
              "      <th>V9</th>\n",
              "      <th>V10</th>\n",
              "      <th>V11</th>\n",
              "      <th>V12</th>\n",
              "      <th>V13</th>\n",
              "      <th>V14</th>\n",
              "      <th>V15</th>\n",
              "      <th>V16</th>\n",
              "      <th>V17</th>\n",
              "      <th>V18</th>\n",
              "      <th>V19</th>\n",
              "      <th>V20</th>\n",
              "      <th>V21</th>\n",
              "      <th>V22</th>\n",
              "      <th>V23</th>\n",
              "      <th>V24</th>\n",
              "      <th>V25</th>\n",
              "      <th>V26</th>\n",
              "      <th>V27</th>\n",
              "      <th>V28</th>\n",
              "      <th>Amount</th>\n",
              "      <th>Class</th>\n",
              "    </tr>\n",
              "  </thead>\n",
              "  <tbody>\n",
              "    <tr>\n",
              "      <th>0</th>\n",
              "      <td>165825</td>\n",
              "      <td>2.009861</td>\n",
              "      <td>-0.869738</td>\n",
              "      <td>-1.754567</td>\n",
              "      <td>-0.423925</td>\n",
              "      <td>-0.186998</td>\n",
              "      <td>-0.756014</td>\n",
              "      <td>0.067375</td>\n",
              "      <td>-0.372006</td>\n",
              "      <td>-0.675936</td>\n",
              "      <td>0.841376</td>\n",
              "      <td>-1.173789</td>\n",
              "      <td>0.041871</td>\n",
              "      <td>0.501777</td>\n",
              "      <td>0.204775</td>\n",
              "      <td>-0.207727</td>\n",
              "      <td>-1.730563</td>\n",
              "      <td>-0.038104</td>\n",
              "      <td>0.588551</td>\n",
              "      <td>-0.531336</td>\n",
              "      <td>-0.358859</td>\n",
              "      <td>-0.451073</td>\n",
              "      <td>-0.949828</td>\n",
              "      <td>0.189053</td>\n",
              "      <td>0.581766</td>\n",
              "      <td>-0.152222</td>\n",
              "      <td>0.484464</td>\n",
              "      <td>-0.095600</td>\n",
              "      <td>-0.042231</td>\n",
              "      <td>113.96</td>\n",
              "      <td>0</td>\n",
              "    </tr>\n",
              "    <tr>\n",
              "      <th>1</th>\n",
              "      <td>146492</td>\n",
              "      <td>-1.804326</td>\n",
              "      <td>1.504552</td>\n",
              "      <td>-0.233085</td>\n",
              "      <td>-1.229363</td>\n",
              "      <td>1.502214</td>\n",
              "      <td>-0.347973</td>\n",
              "      <td>2.406507</td>\n",
              "      <td>-1.635108</td>\n",
              "      <td>2.463650</td>\n",
              "      <td>4.251623</td>\n",
              "      <td>1.835383</td>\n",
              "      <td>0.484691</td>\n",
              "      <td>0.557624</td>\n",
              "      <td>-1.710859</td>\n",
              "      <td>0.174277</td>\n",
              "      <td>-1.041797</td>\n",
              "      <td>-1.570204</td>\n",
              "      <td>0.131513</td>\n",
              "      <td>0.051017</td>\n",
              "      <td>1.408423</td>\n",
              "      <td>-0.299683</td>\n",
              "      <td>1.489198</td>\n",
              "      <td>-0.243334</td>\n",
              "      <td>0.744379</td>\n",
              "      <td>-0.480553</td>\n",
              "      <td>-0.435355</td>\n",
              "      <td>0.128771</td>\n",
              "      <td>-0.350759</td>\n",
              "      <td>44.99</td>\n",
              "      <td>0</td>\n",
              "    </tr>\n",
              "    <tr>\n",
              "      <th>2</th>\n",
              "      <td>96364</td>\n",
              "      <td>-0.826149</td>\n",
              "      <td>0.687367</td>\n",
              "      <td>0.833079</td>\n",
              "      <td>-0.538347</td>\n",
              "      <td>0.039801</td>\n",
              "      <td>0.080615</td>\n",
              "      <td>-0.206940</td>\n",
              "      <td>0.513953</td>\n",
              "      <td>1.749362</td>\n",
              "      <td>-1.191956</td>\n",
              "      <td>-1.421861</td>\n",
              "      <td>-2.980938</td>\n",
              "      <td>1.457096</td>\n",
              "      <td>1.406513</td>\n",
              "      <td>-0.710242</td>\n",
              "      <td>0.673623</td>\n",
              "      <td>-0.008299</td>\n",
              "      <td>0.930974</td>\n",
              "      <td>-0.226166</td>\n",
              "      <td>-0.023124</td>\n",
              "      <td>0.102609</td>\n",
              "      <td>0.576929</td>\n",
              "      <td>-0.246134</td>\n",
              "      <td>-1.012641</td>\n",
              "      <td>-0.208986</td>\n",
              "      <td>0.625561</td>\n",
              "      <td>0.218520</td>\n",
              "      <td>0.119810</td>\n",
              "      <td>29.99</td>\n",
              "      <td>0</td>\n",
              "    </tr>\n",
              "    <tr>\n",
              "      <th>3</th>\n",
              "      <td>120477</td>\n",
              "      <td>2.098926</td>\n",
              "      <td>0.318974</td>\n",
              "      <td>-2.724961</td>\n",
              "      <td>0.394636</td>\n",
              "      <td>1.246655</td>\n",
              "      <td>-0.707107</td>\n",
              "      <td>0.649341</td>\n",
              "      <td>-0.299002</td>\n",
              "      <td>-0.180722</td>\n",
              "      <td>-0.151160</td>\n",
              "      <td>0.755647</td>\n",
              "      <td>0.610829</td>\n",
              "      <td>0.035880</td>\n",
              "      <td>-0.528841</td>\n",
              "      <td>-0.871319</td>\n",
              "      <td>0.101675</td>\n",
              "      <td>0.360497</td>\n",
              "      <td>0.479553</td>\n",
              "      <td>0.384748</td>\n",
              "      <td>-0.138251</td>\n",
              "      <td>0.054431</td>\n",
              "      <td>0.311851</td>\n",
              "      <td>-0.107287</td>\n",
              "      <td>0.167923</td>\n",
              "      <td>0.483469</td>\n",
              "      <td>0.510968</td>\n",
              "      <td>-0.093167</td>\n",
              "      <td>-0.062508</td>\n",
              "      <td>5.95</td>\n",
              "      <td>0</td>\n",
              "    </tr>\n",
              "    <tr>\n",
              "      <th>4</th>\n",
              "      <td>86469</td>\n",
              "      <td>2.183102</td>\n",
              "      <td>-1.566933</td>\n",
              "      <td>-0.515539</td>\n",
              "      <td>-1.662056</td>\n",
              "      <td>-1.455993</td>\n",
              "      <td>-0.221062</td>\n",
              "      <td>-1.400477</td>\n",
              "      <td>-0.007258</td>\n",
              "      <td>-1.245094</td>\n",
              "      <td>1.663325</td>\n",
              "      <td>0.382201</td>\n",
              "      <td>0.017236</td>\n",
              "      <td>0.821759</td>\n",
              "      <td>-0.482807</td>\n",
              "      <td>-0.631955</td>\n",
              "      <td>0.076368</td>\n",
              "      <td>-0.059152</td>\n",
              "      <td>0.446303</td>\n",
              "      <td>0.312842</td>\n",
              "      <td>-0.314990</td>\n",
              "      <td>-0.358131</td>\n",
              "      <td>-0.652055</td>\n",
              "      <td>0.359658</td>\n",
              "      <td>-0.553220</td>\n",
              "      <td>-0.580116</td>\n",
              "      <td>-0.478611</td>\n",
              "      <td>0.028788</td>\n",
              "      <td>-0.042655</td>\n",
              "      <td>50.70</td>\n",
              "      <td>0</td>\n",
              "    </tr>\n",
              "  </tbody>\n",
              "</table>\n",
              "</div>"
            ],
            "text/plain": [
              "   Unnamed: 0        V1        V2        V3        V4        V5        V6  \\\n",
              "0      165825  2.009861 -0.869738 -1.754567 -0.423925 -0.186998 -0.756014   \n",
              "1      146492 -1.804326  1.504552 -0.233085 -1.229363  1.502214 -0.347973   \n",
              "2       96364 -0.826149  0.687367  0.833079 -0.538347  0.039801  0.080615   \n",
              "3      120477  2.098926  0.318974 -2.724961  0.394636  1.246655 -0.707107   \n",
              "4       86469  2.183102 -1.566933 -0.515539 -1.662056 -1.455993 -0.221062   \n",
              "\n",
              "         V7        V8        V9       V10       V11       V12       V13  \\\n",
              "0  0.067375 -0.372006 -0.675936  0.841376 -1.173789  0.041871  0.501777   \n",
              "1  2.406507 -1.635108  2.463650  4.251623  1.835383  0.484691  0.557624   \n",
              "2 -0.206940  0.513953  1.749362 -1.191956 -1.421861 -2.980938  1.457096   \n",
              "3  0.649341 -0.299002 -0.180722 -0.151160  0.755647  0.610829  0.035880   \n",
              "4 -1.400477 -0.007258 -1.245094  1.663325  0.382201  0.017236  0.821759   \n",
              "\n",
              "        V14       V15       V16       V17       V18       V19       V20  \\\n",
              "0  0.204775 -0.207727 -1.730563 -0.038104  0.588551 -0.531336 -0.358859   \n",
              "1 -1.710859  0.174277 -1.041797 -1.570204  0.131513  0.051017  1.408423   \n",
              "2  1.406513 -0.710242  0.673623 -0.008299  0.930974 -0.226166 -0.023124   \n",
              "3 -0.528841 -0.871319  0.101675  0.360497  0.479553  0.384748 -0.138251   \n",
              "4 -0.482807 -0.631955  0.076368 -0.059152  0.446303  0.312842 -0.314990   \n",
              "\n",
              "        V21       V22       V23       V24       V25       V26       V27  \\\n",
              "0 -0.451073 -0.949828  0.189053  0.581766 -0.152222  0.484464 -0.095600   \n",
              "1 -0.299683  1.489198 -0.243334  0.744379 -0.480553 -0.435355  0.128771   \n",
              "2  0.102609  0.576929 -0.246134 -1.012641 -0.208986  0.625561  0.218520   \n",
              "3  0.054431  0.311851 -0.107287  0.167923  0.483469  0.510968 -0.093167   \n",
              "4 -0.358131 -0.652055  0.359658 -0.553220 -0.580116 -0.478611  0.028788   \n",
              "\n",
              "        V28  Amount  Class  \n",
              "0 -0.042231  113.96      0  \n",
              "1 -0.350759   44.99      0  \n",
              "2  0.119810   29.99      0  \n",
              "3 -0.062508    5.95      0  \n",
              "4 -0.042655   50.70      0  "
            ]
          },
          "metadata": {},
          "execution_count": 105
        }
      ]
    },
    {
      "cell_type": "code",
      "metadata": {
        "colab": {
          "base_uri": "https://localhost:8080/",
          "height": 241
        },
        "id": "vdoREmEO4KK0",
        "outputId": "5ec847bf-c1a6-4448-e509-51b61e1476fc"
      },
      "source": [
        "df3.tail()"
      ],
      "execution_count": 106,
      "outputs": [
        {
          "output_type": "execute_result",
          "data": {
            "text/html": [
              "<div>\n",
              "<style scoped>\n",
              "    .dataframe tbody tr th:only-of-type {\n",
              "        vertical-align: middle;\n",
              "    }\n",
              "\n",
              "    .dataframe tbody tr th {\n",
              "        vertical-align: top;\n",
              "    }\n",
              "\n",
              "    .dataframe thead th {\n",
              "        text-align: right;\n",
              "    }\n",
              "</style>\n",
              "<table border=\"1\" class=\"dataframe\">\n",
              "  <thead>\n",
              "    <tr style=\"text-align: right;\">\n",
              "      <th></th>\n",
              "      <th>Unnamed: 0</th>\n",
              "      <th>V1</th>\n",
              "      <th>V2</th>\n",
              "      <th>V3</th>\n",
              "      <th>V4</th>\n",
              "      <th>V5</th>\n",
              "      <th>V6</th>\n",
              "      <th>V7</th>\n",
              "      <th>V8</th>\n",
              "      <th>V9</th>\n",
              "      <th>V10</th>\n",
              "      <th>V11</th>\n",
              "      <th>V12</th>\n",
              "      <th>V13</th>\n",
              "      <th>V14</th>\n",
              "      <th>V15</th>\n",
              "      <th>V16</th>\n",
              "      <th>V17</th>\n",
              "      <th>V18</th>\n",
              "      <th>V19</th>\n",
              "      <th>V20</th>\n",
              "      <th>V21</th>\n",
              "      <th>V22</th>\n",
              "      <th>V23</th>\n",
              "      <th>V24</th>\n",
              "      <th>V25</th>\n",
              "      <th>V26</th>\n",
              "      <th>V27</th>\n",
              "      <th>V28</th>\n",
              "      <th>Amount</th>\n",
              "      <th>Class</th>\n",
              "    </tr>\n",
              "  </thead>\n",
              "  <tbody>\n",
              "    <tr>\n",
              "      <th>28674</th>\n",
              "      <td>128662</td>\n",
              "      <td>-0.294122</td>\n",
              "      <td>1.123794</td>\n",
              "      <td>0.040958</td>\n",
              "      <td>-0.665765</td>\n",
              "      <td>1.281603</td>\n",
              "      <td>-0.162226</td>\n",
              "      <td>1.105000</td>\n",
              "      <td>-0.192295</td>\n",
              "      <td>-0.169560</td>\n",
              "      <td>-0.471611</td>\n",
              "      <td>-1.338463</td>\n",
              "      <td>0.717218</td>\n",
              "      <td>1.702484</td>\n",
              "      <td>-0.151829</td>\n",
              "      <td>-0.063187</td>\n",
              "      <td>-0.424049</td>\n",
              "      <td>-0.611863</td>\n",
              "      <td>-0.366802</td>\n",
              "      <td>0.819757</td>\n",
              "      <td>0.162406</td>\n",
              "      <td>-0.214339</td>\n",
              "      <td>-0.388622</td>\n",
              "      <td>-0.067642</td>\n",
              "      <td>0.044649</td>\n",
              "      <td>-0.317071</td>\n",
              "      <td>-0.578125</td>\n",
              "      <td>0.296198</td>\n",
              "      <td>0.258734</td>\n",
              "      <td>1.51</td>\n",
              "      <td>0</td>\n",
              "    </tr>\n",
              "    <tr>\n",
              "      <th>28675</th>\n",
              "      <td>34756</td>\n",
              "      <td>0.861545</td>\n",
              "      <td>-1.065624</td>\n",
              "      <td>0.672919</td>\n",
              "      <td>0.570590</td>\n",
              "      <td>-1.205622</td>\n",
              "      <td>0.270839</td>\n",
              "      <td>-0.673109</td>\n",
              "      <td>0.221099</td>\n",
              "      <td>-0.896328</td>\n",
              "      <td>0.910822</td>\n",
              "      <td>1.060932</td>\n",
              "      <td>0.067018</td>\n",
              "      <td>-0.761531</td>\n",
              "      <td>0.446580</td>\n",
              "      <td>0.763152</td>\n",
              "      <td>-1.066885</td>\n",
              "      <td>-0.262822</td>\n",
              "      <td>1.758951</td>\n",
              "      <td>-1.506077</td>\n",
              "      <td>-0.241190</td>\n",
              "      <td>-0.065595</td>\n",
              "      <td>-0.155664</td>\n",
              "      <td>-0.118910</td>\n",
              "      <td>-0.034928</td>\n",
              "      <td>0.180498</td>\n",
              "      <td>-0.303340</td>\n",
              "      <td>0.039835</td>\n",
              "      <td>0.054071</td>\n",
              "      <td>194.00</td>\n",
              "      <td>0</td>\n",
              "    </tr>\n",
              "    <tr>\n",
              "      <th>28676</th>\n",
              "      <td>163538</td>\n",
              "      <td>2.215685</td>\n",
              "      <td>-1.486828</td>\n",
              "      <td>-0.436634</td>\n",
              "      <td>-1.676735</td>\n",
              "      <td>-1.439594</td>\n",
              "      <td>-0.110422</td>\n",
              "      <td>-1.507187</td>\n",
              "      <td>0.080852</td>\n",
              "      <td>-1.244714</td>\n",
              "      <td>1.677778</td>\n",
              "      <td>0.770808</td>\n",
              "      <td>-0.013614</td>\n",
              "      <td>0.454077</td>\n",
              "      <td>-0.415370</td>\n",
              "      <td>-0.596509</td>\n",
              "      <td>-0.035197</td>\n",
              "      <td>0.118078</td>\n",
              "      <td>0.345783</td>\n",
              "      <td>0.143921</td>\n",
              "      <td>-0.381301</td>\n",
              "      <td>-0.352085</td>\n",
              "      <td>-0.623079</td>\n",
              "      <td>0.488874</td>\n",
              "      <td>0.692703</td>\n",
              "      <td>-0.628297</td>\n",
              "      <td>-0.540289</td>\n",
              "      <td>0.028271</td>\n",
              "      <td>-0.036328</td>\n",
              "      <td>20.44</td>\n",
              "      <td>0</td>\n",
              "    </tr>\n",
              "    <tr>\n",
              "      <th>28677</th>\n",
              "      <td>25392</td>\n",
              "      <td>-0.829840</td>\n",
              "      <td>0.902751</td>\n",
              "      <td>1.101257</td>\n",
              "      <td>-0.707799</td>\n",
              "      <td>0.467336</td>\n",
              "      <td>-0.432122</td>\n",
              "      <td>0.870202</td>\n",
              "      <td>0.053977</td>\n",
              "      <td>-0.526561</td>\n",
              "      <td>-0.338157</td>\n",
              "      <td>1.086305</td>\n",
              "      <td>-0.117237</td>\n",
              "      <td>-1.712846</td>\n",
              "      <td>0.723435</td>\n",
              "      <td>-0.230119</td>\n",
              "      <td>0.156395</td>\n",
              "      <td>-0.500400</td>\n",
              "      <td>-0.187507</td>\n",
              "      <td>-0.845804</td>\n",
              "      <td>-0.319004</td>\n",
              "      <td>0.136557</td>\n",
              "      <td>0.188836</td>\n",
              "      <td>-0.150558</td>\n",
              "      <td>-0.002626</td>\n",
              "      <td>-0.155511</td>\n",
              "      <td>0.151353</td>\n",
              "      <td>-0.228816</td>\n",
              "      <td>0.097313</td>\n",
              "      <td>7.39</td>\n",
              "      <td>0</td>\n",
              "    </tr>\n",
              "    <tr>\n",
              "      <th>28678</th>\n",
              "      <td>62148</td>\n",
              "      <td>0.558709</td>\n",
              "      <td>-1.662584</td>\n",
              "      <td>0.547547</td>\n",
              "      <td>-1.199303</td>\n",
              "      <td>-1.550289</td>\n",
              "      <td>-0.166150</td>\n",
              "      <td>-0.435430</td>\n",
              "      <td>0.141454</td>\n",
              "      <td>1.741713</td>\n",
              "      <td>-1.235611</td>\n",
              "      <td>1.665720</td>\n",
              "      <td>1.461313</td>\n",
              "      <td>-0.324424</td>\n",
              "      <td>0.143366</td>\n",
              "      <td>0.982897</td>\n",
              "      <td>-0.582065</td>\n",
              "      <td>0.059827</td>\n",
              "      <td>0.302927</td>\n",
              "      <td>0.474186</td>\n",
              "      <td>0.516672</td>\n",
              "      <td>0.399864</td>\n",
              "      <td>0.691597</td>\n",
              "      <td>-0.346612</td>\n",
              "      <td>0.304658</td>\n",
              "      <td>0.254879</td>\n",
              "      <td>-0.019036</td>\n",
              "      <td>0.004588</td>\n",
              "      <td>0.067589</td>\n",
              "      <td>321.42</td>\n",
              "      <td>0</td>\n",
              "    </tr>\n",
              "  </tbody>\n",
              "</table>\n",
              "</div>"
            ],
            "text/plain": [
              "       Unnamed: 0        V1        V2        V3        V4        V5        V6  \\\n",
              "28674      128662 -0.294122  1.123794  0.040958 -0.665765  1.281603 -0.162226   \n",
              "28675       34756  0.861545 -1.065624  0.672919  0.570590 -1.205622  0.270839   \n",
              "28676      163538  2.215685 -1.486828 -0.436634 -1.676735 -1.439594 -0.110422   \n",
              "28677       25392 -0.829840  0.902751  1.101257 -0.707799  0.467336 -0.432122   \n",
              "28678       62148  0.558709 -1.662584  0.547547 -1.199303 -1.550289 -0.166150   \n",
              "\n",
              "             V7        V8        V9       V10       V11       V12       V13  \\\n",
              "28674  1.105000 -0.192295 -0.169560 -0.471611 -1.338463  0.717218  1.702484   \n",
              "28675 -0.673109  0.221099 -0.896328  0.910822  1.060932  0.067018 -0.761531   \n",
              "28676 -1.507187  0.080852 -1.244714  1.677778  0.770808 -0.013614  0.454077   \n",
              "28677  0.870202  0.053977 -0.526561 -0.338157  1.086305 -0.117237 -1.712846   \n",
              "28678 -0.435430  0.141454  1.741713 -1.235611  1.665720  1.461313 -0.324424   \n",
              "\n",
              "            V14       V15       V16       V17       V18       V19       V20  \\\n",
              "28674 -0.151829 -0.063187 -0.424049 -0.611863 -0.366802  0.819757  0.162406   \n",
              "28675  0.446580  0.763152 -1.066885 -0.262822  1.758951 -1.506077 -0.241190   \n",
              "28676 -0.415370 -0.596509 -0.035197  0.118078  0.345783  0.143921 -0.381301   \n",
              "28677  0.723435 -0.230119  0.156395 -0.500400 -0.187507 -0.845804 -0.319004   \n",
              "28678  0.143366  0.982897 -0.582065  0.059827  0.302927  0.474186  0.516672   \n",
              "\n",
              "            V21       V22       V23       V24       V25       V26       V27  \\\n",
              "28674 -0.214339 -0.388622 -0.067642  0.044649 -0.317071 -0.578125  0.296198   \n",
              "28675 -0.065595 -0.155664 -0.118910 -0.034928  0.180498 -0.303340  0.039835   \n",
              "28676 -0.352085 -0.623079  0.488874  0.692703 -0.628297 -0.540289  0.028271   \n",
              "28677  0.136557  0.188836 -0.150558 -0.002626 -0.155511  0.151353 -0.228816   \n",
              "28678  0.399864  0.691597 -0.346612  0.304658  0.254879 -0.019036  0.004588   \n",
              "\n",
              "            V28  Amount  Class  \n",
              "28674  0.258734    1.51      0  \n",
              "28675  0.054071  194.00      0  \n",
              "28676 -0.036328   20.44      0  \n",
              "28677  0.097313    7.39      0  \n",
              "28678  0.067589  321.42      0  "
            ]
          },
          "metadata": {},
          "execution_count": 106
        }
      ]
    },
    {
      "cell_type": "code",
      "metadata": {
        "id": "xQ6l99LP5N4S"
      },
      "source": [
        "# o df tem valores com NaN\n",
        "# Substituindo por zero:\n",
        "\n",
        "df3 = df3.replace(np.nan, 0)"
      ],
      "execution_count": 107,
      "outputs": []
    },
    {
      "cell_type": "markdown",
      "metadata": {
        "id": "AKVWM1OotJaD"
      },
      "source": [
        "### **Verificando a relação fraude x não fraude**"
      ]
    },
    {
      "cell_type": "code",
      "metadata": {
        "colab": {
          "base_uri": "https://localhost:8080/"
        },
        "id": "414Iuy0UxXbk",
        "outputId": "1d58adaf-5e34-4afc-9ce8-b789f57666ac"
      },
      "source": [
        "# Conta ocorrências de fraude and não fraude e imprime:\n",
        "\n",
        "occ = df3['Class'].value_counts()\n",
        "occ"
      ],
      "execution_count": 108,
      "outputs": [
        {
          "output_type": "execute_result",
          "data": {
            "text/plain": [
              "0    28622\n",
              "1       57\n",
              "Name: Class, dtype: int64"
            ]
          },
          "metadata": {},
          "execution_count": 108
        }
      ]
    },
    {
      "cell_type": "code",
      "metadata": {
        "colab": {
          "base_uri": "https://localhost:8080/"
        },
        "id": "lUJb9Atrxs8T",
        "outputId": "7f7ffd5f-aef4-4310-a383-5b8b5c61d232"
      },
      "source": [
        "# Imprime a Razão de casos de fraude em relação ao total:\n",
        "\n",
        "ratio_cases = occ/len(df3.index)\n",
        "print(f'Razão de ocorrências de fraude: {ratio_cases[1]}\\nRazão de ocorrências não fraudulentas: {ratio_cases[0]}')"
      ],
      "execution_count": 109,
      "outputs": [
        {
          "output_type": "stream",
          "name": "stdout",
          "text": [
            "Razão de ocorrências de fraude: 0.001987516998500645\n",
            "Razão de ocorrências não fraudulentas: 0.9980124830014994\n"
          ]
        }
      ]
    },
    {
      "cell_type": "markdown",
      "metadata": {
        "id": "ZPOsrk0h0FdK"
      },
      "source": [
        "### **Visualização de dados**"
      ]
    },
    {
      "cell_type": "code",
      "metadata": {
        "id": "uEHbnci30I23"
      },
      "source": [
        "# função preparando o df\n",
        "\n",
        "def prep_data(df3: pd.DataFrame) -> (np.ndarray, np.ndarray):\n",
        "    \"\"\"\n",
        "    Convert the DataFrame into two variable\n",
        "    X: data columns (V1 - V28)\n",
        "    y: lable column\n",
        "    \"\"\"\n",
        "    X = df3.iloc[:, 1:28].values\n",
        "    y = df3.Class.values\n",
        "    return X, y"
      ],
      "execution_count": 110,
      "outputs": []
    },
    {
      "cell_type": "code",
      "metadata": {
        "id": "5paoUgmM0War"
      },
      "source": [
        "# Função cria um scatter plot dos dados e etiquetas\n",
        "def plot_data(X: np.ndarray, y: np.ndarray):\n",
        "    plt.scatter(X[y == 0, 0], X[y == 0, 1], label=\"Class #0\", alpha=0.5, linewidth=0.15)\n",
        "    plt.scatter(X[y == 1, 0], X[y == 1, 1], label=\"Class #1\", alpha=0.5, linewidth=0.15, c='r')\n",
        "    plt.legend()\n",
        "    return plt.show()"
      ],
      "execution_count": 111,
      "outputs": []
    },
    {
      "cell_type": "code",
      "metadata": {
        "id": "KC0UOp3T0rv9"
      },
      "source": [
        "# Cria X e y da função prep_data\n",
        "X, y = prep_data(df3)"
      ],
      "execution_count": 112,
      "outputs": []
    },
    {
      "cell_type": "code",
      "metadata": {
        "colab": {
          "base_uri": "https://localhost:8080/",
          "height": 268
        },
        "id": "aZkQ66EI1LJs",
        "outputId": "89c6c2da-bbdc-42b6-b3a5-a0216e629440"
      },
      "source": [
        "# Gerando gráfico dos dados pela função plot data em X and y\n",
        "plot_data(X, y)"
      ],
      "execution_count": 113,
      "outputs": [
        {
          "output_type": "display_data",
          "data": {
            "image/png": "[encoded data removed]",
            "text/plain": [
              "<Figure size 432x288 with 1 Axes>"
            ]
          },
          "metadata": {
            "needs_background": "light"
          }
        }
      ]
    },
    {
      "cell_type": "markdown",
      "metadata": {
        "id": "HxnerEBm3J-G"
      },
      "source": [
        "### **Reamostragem de dados: aumenta a detecção bem-sucedida**"
      ]
    },
    {
      "cell_type": "code",
      "metadata": {
        "colab": {
          "base_uri": "https://localhost:8080/"
        },
        "id": "KZRLIIpp29r1",
        "outputId": "8b4fe3cd-9bdc-460a-b7fc-26d2d558876b"
      },
      "source": [
        "# Undersampling  x Oversampling\n",
        "\n",
        "# Implementando métodos de reamostragem usando o módulo Python imblean \n",
        "\n",
        "from imblearn.over_sampling import RandomOverSampler\n",
        "\n",
        "\n",
        "\n",
        "# Define o método de reamostragem em treino e teste\n",
        "method = SMOTE(kind='borderline1')\n",
        "X_train, X_test, y_train, y_test = train_test_split(X, y, train_size=0.8, random_state=0)\n",
        "\n",
        "# Aplica a reamostragem apenas aos dados de treinamento \n",
        "X_resampled, y_resampled = method.fit_sample(X_train, y_train)\n",
        "\n",
        "# Ajusta o modelo e obtém previsões\n",
        "model = LogisticRegression()\n",
        "model.fit(X_resampled, y_resampled)\n",
        "\n",
        "# Obtem métricas de desempenho do modelo\n",
        "predicted = model.predict(X_test)\n",
        "print(classification_report(y_test, predicted))"
      ],
      "execution_count": 114,
      "outputs": [
        {
          "output_type": "stream",
          "name": "stdout",
          "text": [
            "              precision    recall  f1-score   support\n",
            "\n",
            "           0       1.00      0.99      0.99      5726\n",
            "           1       0.09      0.70      0.16        10\n",
            "\n",
            "    accuracy                           0.99      5736\n",
            "   macro avg       0.54      0.84      0.57      5736\n",
            "weighted avg       1.00      0.99      0.99      5736\n",
            "\n"
          ]
        }
      ]
    },
    {
      "cell_type": "code",
      "metadata": {
        "id": "oNp7lJyuLWNz"
      },
      "source": [
        "# Métodos de reamostragem para dados desequilibrados\n",
        "# Aplicando o Synthetic Minority Oversampling Technique (SMOTE)\n",
        "\n",
        "# Executando a função prep_data\n",
        "X, y = prep_data(df3)"
      ],
      "execution_count": 115,
      "outputs": []
    },
    {
      "cell_type": "code",
      "metadata": {
        "colab": {
          "base_uri": "https://localhost:8080/"
        },
        "id": "t0uKXx_jLsB8",
        "outputId": "1da37434-04fb-44da-840b-5fbfc838e47c"
      },
      "source": [
        "print(f'X shape: {X.shape}\\ny shape: {y.shape}')"
      ],
      "execution_count": 116,
      "outputs": [
        {
          "output_type": "stream",
          "name": "stdout",
          "text": [
            "X shape: (28679, 27)\n",
            "y shape: (28679,)\n"
          ]
        }
      ]
    },
    {
      "cell_type": "code",
      "metadata": {
        "id": "715h7QSALxVy"
      },
      "source": [
        "# Definindo o método de reamostragem\n",
        "method = SMOTE()"
      ],
      "execution_count": 117,
      "outputs": []
    },
    {
      "cell_type": "code",
      "metadata": {
        "id": "flSiwhcGNamE"
      },
      "source": [
        "# Cria um conjunto de recursos reamostrado \n",
        "X_resampled, y_resampled = method.fit_sample(X, y)"
      ],
      "execution_count": 118,
      "outputs": []
    },
    {
      "cell_type": "code",
      "metadata": {
        "colab": {
          "base_uri": "https://localhost:8080/",
          "height": 268
        },
        "id": "DTFthzXDNpkF",
        "outputId": "91c0f590-a2ff-46e6-e2d1-adb629c0d636"
      },
      "source": [
        "# Plotando os dados reamostrados \n",
        "plot_data(X_resampled, y_resampled)"
      ],
      "execution_count": 119,
      "outputs": [
        {
          "output_type": "display_data",
          "data": {
            "image/png": "[encoded data removed]",
            "text/plain": [
              "<Figure size 432x288 with 1 Axes>"
            ]
          },
          "metadata": {
            "needs_background": "light"
          }
        }
      ]
    },
    {
      "cell_type": "code",
      "metadata": {
        "id": "HrFa3Ndf7HJF"
      },
      "source": [
        "df3 = df3.loc[:, df3.notnull().any(axis = 0)]"
      ],
      "execution_count": 120,
      "outputs": []
    },
    {
      "cell_type": "code",
      "metadata": {
        "colab": {
          "base_uri": "https://localhost:8080/"
        },
        "id": "pItYzJ3-R9nD",
        "outputId": "dd5326ff-918d-4eea-9632-9fdbadb9a982"
      },
      "source": [
        "#Compare SMOTE to original data\n",
        "\n",
        "pd.value_counts(pd.Series(y))"
      ],
      "execution_count": 121,
      "outputs": [
        {
          "output_type": "execute_result",
          "data": {
            "text/plain": [
              "0    28622\n",
              "1       57\n",
              "dtype: int64"
            ]
          },
          "metadata": {},
          "execution_count": 121
        }
      ]
    },
    {
      "cell_type": "code",
      "metadata": {
        "colab": {
          "base_uri": "https://localhost:8080/"
        },
        "id": "AT1XpyO5SSCe",
        "outputId": "88b8ad9e-8fe4-4a44-bf5c-5864a19e74af"
      },
      "source": [
        "pd.value_counts(pd.Series(y_resampled))\n",
        "\n"
      ],
      "execution_count": 122,
      "outputs": [
        {
          "output_type": "execute_result",
          "data": {
            "text/plain": [
              "1    28622\n",
              "0    28622\n",
              "dtype: int64"
            ]
          },
          "metadata": {},
          "execution_count": 122
        }
      ]
    },
    {
      "cell_type": "code",
      "metadata": {
        "id": "6NcHdKbNUOcX"
      },
      "source": [
        "# Função compara o df original com o de reamostragem:\n",
        "\n",
        "def compare_plot(X: np.ndarray, y: np.ndarray, X_resampled: np.ndarray, y_resampled: np.ndarray, method: str):\n",
        "    plt.subplot(1, 2, 1)\n",
        "    plt.scatter(X[y == 0, 0], X[y == 0, 1], label=\"Class #0\", alpha=0.5, linewidth=0.15)\n",
        "    plt.scatter(X[y == 1, 0], X[y == 1, 1], label=\"Class #1\", alpha=0.5, linewidth=0.15, c='r')\n",
        "    plt.title('Original Set')\n",
        "    plt.subplot(1, 2, 2)\n",
        "    plt.scatter(X_resampled[y_resampled == 0, 0], X_resampled[y_resampled == 0, 1], label=\"Class #0\", alpha=0.5, linewidth=0.15)\n",
        "    plt.scatter(X_resampled[y_resampled == 1, 0], X_resampled[y_resampled == 1, 1], label=\"Class #1\", alpha=0.5, linewidth=0.15, c='r')\n",
        "    plt.title(method)\n",
        "    plt.legend()\n",
        "    plt.show()"
      ],
      "execution_count": 123,
      "outputs": []
    },
    {
      "cell_type": "code",
      "metadata": {
        "colab": {
          "base_uri": "https://localhost:8080/",
          "height": 280
        },
        "id": "AXBTiqgDUYs3",
        "outputId": "24f5c006-e966-4703-a93a-637d80f0586b"
      },
      "source": [
        "compare_plot(X, y, X_resampled, y_resampled, method='SMOTE')"
      ],
      "execution_count": 124,
      "outputs": [
        {
          "output_type": "display_data",
          "data": {
            "image/png": "[encoded data removed]",
            "text/plain": [
              "<Figure size 432x288 with 2 Axes>"
            ]
          },
          "metadata": {
            "needs_background": "light"
          }
        }
      ]
    },
    {
      "cell_type": "markdown",
      "metadata": {
        "id": "3U4d7OysUgtv"
      },
      "source": [
        "### **Algoritmos de detecção de fraude**"
      ]
    },
    {
      "cell_type": "code",
      "metadata": {
        "id": "6T2N7rACUiKV"
      },
      "source": [
        "# Sistemas baseados em Machine Learning\n",
        "\n",
        "# 1: divide os recursos e rótulos em dados de treinamento e teste\n",
        "X_train, X_test, y_train, y_test = train_test_split(X, y, test_size=0.2)"
      ],
      "execution_count": 125,
      "outputs": []
    },
    {
      "cell_type": "code",
      "metadata": {
        "id": "Jm12mgQ5nql6"
      },
      "source": [
        "X_train, X_test, y_train, y_test = train_test_split(X, y, random_state=0)\n",
        "clf = LinearRegression().fit(X_train, y_train)"
      ],
      "execution_count": 126,
      "outputs": []
    },
    {
      "cell_type": "code",
      "metadata": {
        "id": "kcOYGkOfU9RJ"
      },
      "source": [
        "# 2: Define o modelo a usar\n",
        "model = LinearRegression()"
      ],
      "execution_count": 127,
      "outputs": []
    },
    {
      "cell_type": "code",
      "metadata": {
        "colab": {
          "base_uri": "https://localhost:8080/"
        },
        "id": "d0Vana0XVHho",
        "outputId": "81bae560-a6a4-429d-823e-416d7b0d6326"
      },
      "source": [
        "# 3: Ajusta o modelo aos dados de treino\n",
        "model.fit(X_train, y_train)"
      ],
      "execution_count": 128,
      "outputs": [
        {
          "output_type": "execute_result",
          "data": {
            "text/plain": [
              "LinearRegression(copy_X=True, fit_intercept=True, n_jobs=None, normalize=False)"
            ]
          },
          "metadata": {},
          "execution_count": 128
        }
      ]
    },
    {
      "cell_type": "code",
      "metadata": {
        "id": "Dzl8dhIIVNWt"
      },
      "source": [
        "# 4: Obtém o modelo preditivo para os dados de teste\n",
        "y_predicted = model.predict(X_test)"
      ],
      "execution_count": 129,
      "outputs": []
    },
    {
      "cell_type": "code",
      "metadata": {
        "colab": {
          "base_uri": "https://localhost:8080/"
        },
        "id": "tCT_qjJSVXUO",
        "outputId": "a35e34ce-65ba-4f6a-e77a-6e3a7a0d2d03"
      },
      "source": [
        "# 5: Compara y_test as previsões e obtém métricas de performance (r^2 score)\n",
        "r2_score(y_test, y_predicted)"
      ],
      "execution_count": 130,
      "outputs": [
        {
          "output_type": "execute_result",
          "data": {
            "text/plain": [
              "0.37698838242669364"
            ]
          },
          "metadata": {},
          "execution_count": 130
        }
      ]
    },
    {
      "cell_type": "code",
      "metadata": {
        "id": "FI8MIXIHbAxA"
      },
      "source": [
        "# Método tradicional de detecção de fraude:\n",
        "\n",
        "df3.drop(['Unnamed: 0'], axis=1, inplace=True)"
      ],
      "execution_count": 131,
      "outputs": []
    },
    {
      "cell_type": "code",
      "metadata": {
        "colab": {
          "base_uri": "https://localhost:8080/",
          "height": 162
        },
        "id": "9Urbes94cKJE",
        "outputId": "39f10c68-c1c1-4527-8b18-83a6a197c1eb"
      },
      "source": [
        "df3.groupby('Class').mean()"
      ],
      "execution_count": 132,
      "outputs": [
        {
          "output_type": "execute_result",
          "data": {
            "text/html": [
              "<div>\n",
              "<style scoped>\n",
              "    .dataframe tbody tr th:only-of-type {\n",
              "        vertical-align: middle;\n",
              "    }\n",
              "\n",
              "    .dataframe tbody tr th {\n",
              "        vertical-align: top;\n",
              "    }\n",
              "\n",
              "    .dataframe thead th {\n",
              "        text-align: right;\n",
              "    }\n",
              "</style>\n",
              "<table border=\"1\" class=\"dataframe\">\n",
              "  <thead>\n",
              "    <tr style=\"text-align: right;\">\n",
              "      <th></th>\n",
              "      <th>V1</th>\n",
              "      <th>V2</th>\n",
              "      <th>V3</th>\n",
              "      <th>V4</th>\n",
              "      <th>V5</th>\n",
              "      <th>V6</th>\n",
              "      <th>V7</th>\n",
              "      <th>V8</th>\n",
              "      <th>V9</th>\n",
              "      <th>V10</th>\n",
              "      <th>V11</th>\n",
              "      <th>V12</th>\n",
              "      <th>V13</th>\n",
              "      <th>V14</th>\n",
              "      <th>V15</th>\n",
              "      <th>V16</th>\n",
              "      <th>V17</th>\n",
              "      <th>V18</th>\n",
              "      <th>V19</th>\n",
              "      <th>V20</th>\n",
              "      <th>V21</th>\n",
              "      <th>V22</th>\n",
              "      <th>V23</th>\n",
              "      <th>V24</th>\n",
              "      <th>V25</th>\n",
              "      <th>V26</th>\n",
              "      <th>V27</th>\n",
              "      <th>V28</th>\n",
              "      <th>Amount</th>\n",
              "    </tr>\n",
              "    <tr>\n",
              "      <th>Class</th>\n",
              "      <th></th>\n",
              "      <th></th>\n",
              "      <th></th>\n",
              "      <th></th>\n",
              "      <th></th>\n",
              "      <th></th>\n",
              "      <th></th>\n",
              "      <th></th>\n",
              "      <th></th>\n",
              "      <th></th>\n",
              "      <th></th>\n",
              "      <th></th>\n",
              "      <th></th>\n",
              "      <th></th>\n",
              "      <th></th>\n",
              "      <th></th>\n",
              "      <th></th>\n",
              "      <th></th>\n",
              "      <th></th>\n",
              "      <th></th>\n",
              "      <th></th>\n",
              "      <th></th>\n",
              "      <th></th>\n",
              "      <th></th>\n",
              "      <th></th>\n",
              "      <th></th>\n",
              "      <th></th>\n",
              "      <th></th>\n",
              "      <th></th>\n",
              "    </tr>\n",
              "  </thead>\n",
              "  <tbody>\n",
              "    <tr>\n",
              "      <th>0</th>\n",
              "      <td>-0.003815</td>\n",
              "      <td>0.005845</td>\n",
              "      <td>0.020565</td>\n",
              "      <td>0.004905</td>\n",
              "      <td>-0.002227</td>\n",
              "      <td>-0.002078</td>\n",
              "      <td>0.010797</td>\n",
              "      <td>0.006168</td>\n",
              "      <td>0.006361</td>\n",
              "      <td>0.012918</td>\n",
              "      <td>-0.006868</td>\n",
              "      <td>0.005639</td>\n",
              "      <td>0.002415</td>\n",
              "      <td>0.010903</td>\n",
              "      <td>0.001279</td>\n",
              "      <td>0.016298</td>\n",
              "      <td>0.011602</td>\n",
              "      <td>0.004340</td>\n",
              "      <td>-0.007331</td>\n",
              "      <td>0.003145</td>\n",
              "      <td>-0.004587</td>\n",
              "      <td>0.004447</td>\n",
              "      <td>0.001998</td>\n",
              "      <td>0.002444</td>\n",
              "      <td>-0.001304</td>\n",
              "      <td>-0.003552</td>\n",
              "      <td>-0.000548</td>\n",
              "      <td>0.000944</td>\n",
              "      <td>87.826572</td>\n",
              "    </tr>\n",
              "    <tr>\n",
              "      <th>1</th>\n",
              "      <td>-4.013088</td>\n",
              "      <td>3.308645</td>\n",
              "      <td>-6.190117</td>\n",
              "      <td>4.352649</td>\n",
              "      <td>-2.395297</td>\n",
              "      <td>-1.454933</td>\n",
              "      <td>-4.468554</td>\n",
              "      <td>0.984189</td>\n",
              "      <td>-2.387344</td>\n",
              "      <td>-4.866564</td>\n",
              "      <td>3.334521</td>\n",
              "      <td>-5.664783</td>\n",
              "      <td>-0.178809</td>\n",
              "      <td>-6.511112</td>\n",
              "      <td>-0.274369</td>\n",
              "      <td>-3.345101</td>\n",
              "      <td>-5.393370</td>\n",
              "      <td>-1.739826</td>\n",
              "      <td>0.261792</td>\n",
              "      <td>0.202952</td>\n",
              "      <td>0.898711</td>\n",
              "      <td>-0.190464</td>\n",
              "      <td>-0.453193</td>\n",
              "      <td>-0.115884</td>\n",
              "      <td>0.066830</td>\n",
              "      <td>0.130515</td>\n",
              "      <td>-0.023141</td>\n",
              "      <td>0.087371</td>\n",
              "      <td>139.452281</td>\n",
              "    </tr>\n",
              "  </tbody>\n",
              "</table>\n",
              "</div>"
            ],
            "text/plain": [
              "             V1        V2        V3        V4        V5        V6        V7  \\\n",
              "Class                                                                         \n",
              "0     -0.003815  0.005845  0.020565  0.004905 -0.002227 -0.002078  0.010797   \n",
              "1     -4.013088  3.308645 -6.190117  4.352649 -2.395297 -1.454933 -4.468554   \n",
              "\n",
              "             V8        V9       V10       V11       V12       V13       V14  \\\n",
              "Class                                                                         \n",
              "0      0.006168  0.006361  0.012918 -0.006868  0.005639  0.002415  0.010903   \n",
              "1      0.984189 -2.387344 -4.866564  3.334521 -5.664783 -0.178809 -6.511112   \n",
              "\n",
              "            V15       V16       V17       V18       V19       V20       V21  \\\n",
              "Class                                                                         \n",
              "0      0.001279  0.016298  0.011602  0.004340 -0.007331  0.003145 -0.004587   \n",
              "1     -0.274369 -3.345101 -5.393370 -1.739826  0.261792  0.202952  0.898711   \n",
              "\n",
              "            V22       V23       V24       V25       V26       V27       V28  \\\n",
              "Class                                                                         \n",
              "0      0.004447  0.001998  0.002444 -0.001304 -0.003552 -0.000548  0.000944   \n",
              "1     -0.190464 -0.453193 -0.115884  0.066830  0.130515 -0.023141  0.087371   \n",
              "\n",
              "           Amount  \n",
              "Class              \n",
              "0       87.826572  \n",
              "1      139.452281  "
            ]
          },
          "metadata": {},
          "execution_count": 132
        }
      ]
    },
    {
      "cell_type": "code",
      "metadata": {
        "id": "z9E-tcn1cxOY"
      },
      "source": [
        "df3['flag_as_fraud'] = np.where(np.logical_and(df3.V1 < -3, df3.V3 < -5), 1, 0)"
      ],
      "execution_count": 133,
      "outputs": []
    },
    {
      "cell_type": "code",
      "metadata": {
        "colab": {
          "base_uri": "https://localhost:8080/",
          "height": 142
        },
        "id": "SxjrswRJ9Tzt",
        "outputId": "d13f4f91-0cfd-4cc4-c1e4-0cc7912bcf1f"
      },
      "source": [
        "pd.crosstab(df3.Class, df3.flag_as_fraud, rownames=['Actual Fraud'], colnames=['Flagged Fraud'])"
      ],
      "execution_count": 134,
      "outputs": [
        {
          "output_type": "execute_result",
          "data": {
            "text/html": [
              "<div>\n",
              "<style scoped>\n",
              "    .dataframe tbody tr th:only-of-type {\n",
              "        vertical-align: middle;\n",
              "    }\n",
              "\n",
              "    .dataframe tbody tr th {\n",
              "        vertical-align: top;\n",
              "    }\n",
              "\n",
              "    .dataframe thead th {\n",
              "        text-align: right;\n",
              "    }\n",
              "</style>\n",
              "<table border=\"1\" class=\"dataframe\">\n",
              "  <thead>\n",
              "    <tr style=\"text-align: right;\">\n",
              "      <th>Flagged Fraud</th>\n",
              "      <th>0</th>\n",
              "      <th>1</th>\n",
              "    </tr>\n",
              "    <tr>\n",
              "      <th>Actual Fraud</th>\n",
              "      <th></th>\n",
              "      <th></th>\n",
              "    </tr>\n",
              "  </thead>\n",
              "  <tbody>\n",
              "    <tr>\n",
              "      <th>0</th>\n",
              "      <td>28487</td>\n",
              "      <td>135</td>\n",
              "    </tr>\n",
              "    <tr>\n",
              "      <th>1</th>\n",
              "      <td>41</td>\n",
              "      <td>16</td>\n",
              "    </tr>\n",
              "  </tbody>\n",
              "</table>\n",
              "</div>"
            ],
            "text/plain": [
              "Flagged Fraud      0    1\n",
              "Actual Fraud             \n",
              "0              28487  135\n",
              "1                 41   16"
            ]
          },
          "metadata": {},
          "execution_count": 134
        }
      ]
    },
    {
      "cell_type": "markdown",
      "metadata": {
        "id": "Xu9-e5RVBoGv"
      },
      "source": [
        "**Using ML classification to catch fraud**"
      ]
    },
    {
      "cell_type": "code",
      "metadata": {
        "id": "MOg2zXhEAN2V"
      },
      "source": [
        "# Criando conjuntos de treino e teste\n",
        "X_train, X_test, y_train, y_test = train_test_split(X, y, test_size=0.3, random_state=0)"
      ],
      "execution_count": 135,
      "outputs": []
    },
    {
      "cell_type": "code",
      "metadata": {
        "colab": {
          "base_uri": "https://localhost:8080/"
        },
        "id": "S3W9MlbxB1Wu",
        "outputId": "5ba64612-ed98-4984-9c59-9def6ced40ab"
      },
      "source": [
        "# Ajustando o modelo de regressão logístrica aos dados\n",
        "model = LogisticRegression(solver='liblinear')\n",
        "model.fit(X_train, y_train)"
      ],
      "execution_count": 136,
      "outputs": [
        {
          "output_type": "execute_result",
          "data": {
            "text/plain": [
              "LogisticRegression(C=1.0, class_weight=None, dual=False, fit_intercept=True,\n",
              "                   intercept_scaling=1, l1_ratio=None, max_iter=100,\n",
              "                   multi_class='auto', n_jobs=None, penalty='l2',\n",
              "                   random_state=None, solver='liblinear', tol=0.0001, verbose=0,\n",
              "                   warm_start=False)"
            ]
          },
          "metadata": {},
          "execution_count": 136
        }
      ]
    },
    {
      "cell_type": "code",
      "metadata": {
        "id": "-V9byOcvB3gB"
      },
      "source": [
        "# Obtendo modelos preditivos\n",
        "predicted = model.predict(X_test)"
      ],
      "execution_count": 137,
      "outputs": []
    },
    {
      "cell_type": "code",
      "metadata": {
        "colab": {
          "base_uri": "https://localhost:8080/"
        },
        "id": "oCanybX6B5-S",
        "outputId": "3fd85d31-79de-46cf-87f5-bb22649bebc4"
      },
      "source": [
        "# Print the classifcation report and confusion matrix\n",
        "print('Classification report:\\n', classification_report(y_test, predicted))\n",
        "conf_mat = confusion_matrix(y_true=y_test, y_pred=predicted)\n",
        "print('Confusion matrix:\\n', conf_mat)"
      ],
      "execution_count": 138,
      "outputs": [
        {
          "output_type": "stream",
          "name": "stdout",
          "text": [
            "Classification report:\n",
            "               precision    recall  f1-score   support\n",
            "\n",
            "           0       1.00      1.00      1.00      8584\n",
            "           1       0.86      0.60      0.71        20\n",
            "\n",
            "    accuracy                           1.00      8604\n",
            "   macro avg       0.93      0.80      0.85      8604\n",
            "weighted avg       1.00      1.00      1.00      8604\n",
            "\n",
            "Confusion matrix:\n",
            " [[8582    2]\n",
            " [   8   12]]\n"
          ]
        }
      ]
    },
    {
      "cell_type": "markdown",
      "metadata": {
        "id": "hqXbbgJMCfnV"
      },
      "source": [
        "**Regressão Logístrica com SMOTE**"
      ]
    },
    {
      "cell_type": "code",
      "metadata": {
        "id": "cBtbaRQQCezF"
      },
      "source": [
        "# Definindo qual método de reamostragem e o modelo de ML do pipeline\n",
        "# resampling = SMOTE(kind='borderline2')  # has been changed to BorderlineSMOTE\n",
        "resampling = BorderlineSMOTE()\n",
        "model = LogisticRegression(solver='liblinear')"
      ],
      "execution_count": 139,
      "outputs": []
    },
    {
      "cell_type": "code",
      "metadata": {
        "id": "-I6qIKmqC0S0"
      },
      "source": [
        "pipeline = Pipeline([('SMOTE', resampling), ('Logistic Regression', model)])"
      ],
      "execution_count": 140,
      "outputs": []
    },
    {
      "cell_type": "markdown",
      "metadata": {
        "id": "LhyTFGYtFTz6"
      },
      "source": [
        "**Pipelining**"
      ]
    },
    {
      "cell_type": "code",
      "metadata": {
        "id": "OuLjQBYaFQNM"
      },
      "source": [
        "# Separando os dados em X e y, em conjunto de treino e teste e ajustando o pipeline nos dados de treino\n",
        "X_train, X_test, y_train, y_test = train_test_split(X, y, test_size=0.3, random_state=0)"
      ],
      "execution_count": 141,
      "outputs": []
    },
    {
      "cell_type": "code",
      "metadata": {
        "id": "3w5aSb_7FY6h"
      },
      "source": [
        "pipeline.fit(X_train, y_train) \n",
        "predicted = pipeline.predict(X_test)"
      ],
      "execution_count": 142,
      "outputs": []
    },
    {
      "cell_type": "code",
      "metadata": {
        "colab": {
          "base_uri": "https://localhost:8080/"
        },
        "id": "9xu4_s3cFcOJ",
        "outputId": "037b9d30-9bf1-4132-f576-4665524aa3a9"
      },
      "source": [
        "# Obtendo os resultados do relatório de classificação e matriz de confusão \n",
        "print('Classifcation report:\\n', classification_report(y_test, predicted))\n",
        "conf_mat = confusion_matrix(y_true=y_test, y_pred=predicted)\n",
        "print('Confusion matrix:\\n', conf_mat)"
      ],
      "execution_count": 143,
      "outputs": [
        {
          "output_type": "stream",
          "name": "stdout",
          "text": [
            "Classifcation report:\n",
            "               precision    recall  f1-score   support\n",
            "\n",
            "           0       1.00      0.99      1.00      8584\n",
            "           1       0.18      0.75      0.29        20\n",
            "\n",
            "    accuracy                           0.99      8604\n",
            "   macro avg       0.59      0.87      0.64      8604\n",
            "weighted avg       1.00      0.99      0.99      8604\n",
            "\n",
            "Confusion matrix:\n",
            " [[8517   67]\n",
            " [   5   15]]\n"
          ]
        }
      ]
    },
    {
      "cell_type": "markdown",
      "metadata": {
        "id": "LgidjwCNGIf7"
      },
      "source": [
        "### **Detecção de fraude usando dados rotulados**"
      ]
    },
    {
      "cell_type": "code",
      "metadata": {
        "id": "0sN_S_LNGHRV",
        "colab": {
          "base_uri": "https://localhost:8080/",
          "height": 224
        },
        "outputId": "9283e28a-3c3a-452f-cd1b-2d2c0b27e877"
      },
      "source": [
        "# Criando uma amostra de 15% do df original\n",
        "df4 = df.sample(frac=0.15)\n",
        "\n",
        "# tratando erro: valores estão como 0' e 1', substituindo por 0 e 1:\n",
        "df4['Class']= df4['Class'].replace([\"1'\"],[\"1\"])\n",
        "df4['Class']= df4['Class'].replace([\"0'\"],[\"0\"])\n",
        "\n",
        "df4['Class'] = pd.to_numeric(df4['Class'])\n",
        "\n",
        "df4.head()"
      ],
      "execution_count": 144,
      "outputs": [
        {
          "output_type": "execute_result",
          "data": {
            "text/html": [
              "<div>\n",
              "<style scoped>\n",
              "    .dataframe tbody tr th:only-of-type {\n",
              "        vertical-align: middle;\n",
              "    }\n",
              "\n",
              "    .dataframe tbody tr th {\n",
              "        vertical-align: top;\n",
              "    }\n",
              "\n",
              "    .dataframe thead th {\n",
              "        text-align: right;\n",
              "    }\n",
              "</style>\n",
              "<table border=\"1\" class=\"dataframe\">\n",
              "  <thead>\n",
              "    <tr style=\"text-align: right;\">\n",
              "      <th></th>\n",
              "      <th>Time</th>\n",
              "      <th>V1</th>\n",
              "      <th>V2</th>\n",
              "      <th>V3</th>\n",
              "      <th>V4</th>\n",
              "      <th>V5</th>\n",
              "      <th>V6</th>\n",
              "      <th>V7</th>\n",
              "      <th>V8</th>\n",
              "      <th>V9</th>\n",
              "      <th>V10</th>\n",
              "      <th>V11</th>\n",
              "      <th>V12</th>\n",
              "      <th>V13</th>\n",
              "      <th>V14</th>\n",
              "      <th>V15</th>\n",
              "      <th>V16</th>\n",
              "      <th>V17</th>\n",
              "      <th>V18</th>\n",
              "      <th>V19</th>\n",
              "      <th>V20</th>\n",
              "      <th>V21</th>\n",
              "      <th>V22</th>\n",
              "      <th>V23</th>\n",
              "      <th>V24</th>\n",
              "      <th>V25</th>\n",
              "      <th>V26</th>\n",
              "      <th>V27</th>\n",
              "      <th>V28</th>\n",
              "      <th>Amount</th>\n",
              "      <th>Class</th>\n",
              "    </tr>\n",
              "  </thead>\n",
              "  <tbody>\n",
              "    <tr>\n",
              "      <th>242015</th>\n",
              "      <td>151292.0</td>\n",
              "      <td>-0.339345</td>\n",
              "      <td>0.547517</td>\n",
              "      <td>0.455477</td>\n",
              "      <td>-0.236321</td>\n",
              "      <td>0.108504</td>\n",
              "      <td>-0.721153</td>\n",
              "      <td>0.768683</td>\n",
              "      <td>-0.156875</td>\n",
              "      <td>0.474171</td>\n",
              "      <td>-0.360057</td>\n",
              "      <td>-0.999018</td>\n",
              "      <td>0.169460</td>\n",
              "      <td>0.082263</td>\n",
              "      <td>0.003228</td>\n",
              "      <td>0.227323</td>\n",
              "      <td>-0.399837</td>\n",
              "      <td>-0.350975</td>\n",
              "      <td>-0.032722</td>\n",
              "      <td>0.133944</td>\n",
              "      <td>0.007903</td>\n",
              "      <td>0.167842</td>\n",
              "      <td>0.739621</td>\n",
              "      <td>0.076945</td>\n",
              "      <td>-0.002166</td>\n",
              "      <td>-0.964808</td>\n",
              "      <td>-0.431068</td>\n",
              "      <td>0.401819</td>\n",
              "      <td>0.338146</td>\n",
              "      <td>63.44</td>\n",
              "      <td>0</td>\n",
              "    </tr>\n",
              "    <tr>\n",
              "      <th>168784</th>\n",
              "      <td>119383.0</td>\n",
              "      <td>1.641231</td>\n",
              "      <td>-1.067560</td>\n",
              "      <td>-0.990142</td>\n",
              "      <td>-0.124562</td>\n",
              "      <td>0.256115</td>\n",
              "      <td>1.832865</td>\n",
              "      <td>-0.841099</td>\n",
              "      <td>0.586227</td>\n",
              "      <td>0.886464</td>\n",
              "      <td>0.040079</td>\n",
              "      <td>0.829682</td>\n",
              "      <td>0.697178</td>\n",
              "      <td>-0.190917</td>\n",
              "      <td>0.251796</td>\n",
              "      <td>1.093939</td>\n",
              "      <td>0.121024</td>\n",
              "      <td>-0.313735</td>\n",
              "      <td>-0.453598</td>\n",
              "      <td>-0.924068</td>\n",
              "      <td>0.031625</td>\n",
              "      <td>0.335131</td>\n",
              "      <td>0.821249</td>\n",
              "      <td>0.101849</td>\n",
              "      <td>-0.896933</td>\n",
              "      <td>-0.547330</td>\n",
              "      <td>0.720304</td>\n",
              "      <td>-0.023325</td>\n",
              "      <td>-0.046847</td>\n",
              "      <td>140.73</td>\n",
              "      <td>0</td>\n",
              "    </tr>\n",
              "    <tr>\n",
              "      <th>114369</th>\n",
              "      <td>73453.0</td>\n",
              "      <td>-0.604094</td>\n",
              "      <td>1.256435</td>\n",
              "      <td>1.073828</td>\n",
              "      <td>-0.157100</td>\n",
              "      <td>0.160641</td>\n",
              "      <td>-0.310622</td>\n",
              "      <td>0.310672</td>\n",
              "      <td>-0.670600</td>\n",
              "      <td>-0.519614</td>\n",
              "      <td>-0.262739</td>\n",
              "      <td>1.130258</td>\n",
              "      <td>0.403929</td>\n",
              "      <td>-0.226707</td>\n",
              "      <td>-0.167287</td>\n",
              "      <td>0.233108</td>\n",
              "      <td>0.696106</td>\n",
              "      <td>-0.283175</td>\n",
              "      <td>0.515108</td>\n",
              "      <td>0.310520</td>\n",
              "      <td>-0.052005</td>\n",
              "      <td>0.524618</td>\n",
              "      <td>-0.922808</td>\n",
              "      <td>0.044982</td>\n",
              "      <td>-0.075891</td>\n",
              "      <td>-0.137742</td>\n",
              "      <td>0.082470</td>\n",
              "      <td>0.276006</td>\n",
              "      <td>0.091194</td>\n",
              "      <td>3.27</td>\n",
              "      <td>0</td>\n",
              "    </tr>\n",
              "    <tr>\n",
              "      <th>283489</th>\n",
              "      <td>171632.0</td>\n",
              "      <td>-1.394751</td>\n",
              "      <td>1.572371</td>\n",
              "      <td>0.295634</td>\n",
              "      <td>-0.191430</td>\n",
              "      <td>-0.024531</td>\n",
              "      <td>-0.084173</td>\n",
              "      <td>0.175457</td>\n",
              "      <td>0.836211</td>\n",
              "      <td>-1.067765</td>\n",
              "      <td>-0.675293</td>\n",
              "      <td>0.460150</td>\n",
              "      <td>0.548253</td>\n",
              "      <td>-0.618765</td>\n",
              "      <td>1.081584</td>\n",
              "      <td>-0.483960</td>\n",
              "      <td>-0.277637</td>\n",
              "      <td>0.330567</td>\n",
              "      <td>0.058425</td>\n",
              "      <td>1.639282</td>\n",
              "      <td>-0.192502</td>\n",
              "      <td>-0.084388</td>\n",
              "      <td>-0.608496</td>\n",
              "      <td>-0.180506</td>\n",
              "      <td>0.776807</td>\n",
              "      <td>0.441702</td>\n",
              "      <td>0.505842</td>\n",
              "      <td>-0.542622</td>\n",
              "      <td>-0.088924</td>\n",
              "      <td>10.34</td>\n",
              "      <td>0</td>\n",
              "    </tr>\n",
              "    <tr>\n",
              "      <th>89745</th>\n",
              "      <td>62706.0</td>\n",
              "      <td>1.018412</td>\n",
              "      <td>1.036663</td>\n",
              "      <td>-1.689814</td>\n",
              "      <td>1.315476</td>\n",
              "      <td>1.698436</td>\n",
              "      <td>0.528807</td>\n",
              "      <td>0.331715</td>\n",
              "      <td>0.364539</td>\n",
              "      <td>-0.711798</td>\n",
              "      <td>-1.570288</td>\n",
              "      <td>3.463018</td>\n",
              "      <td>0.538411</td>\n",
              "      <td>-0.378095</td>\n",
              "      <td>-3.045495</td>\n",
              "      <td>1.468911</td>\n",
              "      <td>-0.029742</td>\n",
              "      <td>3.664588</td>\n",
              "      <td>-0.105190</td>\n",
              "      <td>-2.097944</td>\n",
              "      <td>-0.167555</td>\n",
              "      <td>-0.040238</td>\n",
              "      <td>0.096172</td>\n",
              "      <td>-0.092549</td>\n",
              "      <td>-1.345664</td>\n",
              "      <td>0.510305</td>\n",
              "      <td>-0.182674</td>\n",
              "      <td>0.107058</td>\n",
              "      <td>0.071818</td>\n",
              "      <td>0.89</td>\n",
              "      <td>0</td>\n",
              "    </tr>\n",
              "  </tbody>\n",
              "</table>\n",
              "</div>"
            ],
            "text/plain": [
              "            Time        V1        V2        V3        V4        V5        V6  \\\n",
              "242015  151292.0 -0.339345  0.547517  0.455477 -0.236321  0.108504 -0.721153   \n",
              "168784  119383.0  1.641231 -1.067560 -0.990142 -0.124562  0.256115  1.832865   \n",
              "114369   73453.0 -0.604094  1.256435  1.073828 -0.157100  0.160641 -0.310622   \n",
              "283489  171632.0 -1.394751  1.572371  0.295634 -0.191430 -0.024531 -0.084173   \n",
              "89745    62706.0  1.018412  1.036663 -1.689814  1.315476  1.698436  0.528807   \n",
              "\n",
              "              V7        V8        V9       V10       V11       V12       V13  \\\n",
              "242015  0.768683 -0.156875  0.474171 -0.360057 -0.999018  0.169460  0.082263   \n",
              "168784 -0.841099  0.586227  0.886464  0.040079  0.829682  0.697178 -0.190917   \n",
              "114369  0.310672 -0.670600 -0.519614 -0.262739  1.130258  0.403929 -0.226707   \n",
              "283489  0.175457  0.836211 -1.067765 -0.675293  0.460150  0.548253 -0.618765   \n",
              "89745   0.331715  0.364539 -0.711798 -1.570288  3.463018  0.538411 -0.378095   \n",
              "\n",
              "             V14       V15       V16       V17       V18       V19       V20  \\\n",
              "242015  0.003228  0.227323 -0.399837 -0.350975 -0.032722  0.133944  0.007903   \n",
              "168784  0.251796  1.093939  0.121024 -0.313735 -0.453598 -0.924068  0.031625   \n",
              "114369 -0.167287  0.233108  0.696106 -0.283175  0.515108  0.310520 -0.052005   \n",
              "283489  1.081584 -0.483960 -0.277637  0.330567  0.058425  1.639282 -0.192502   \n",
              "89745  -3.045495  1.468911 -0.029742  3.664588 -0.105190 -2.097944 -0.167555   \n",
              "\n",
              "             V21       V22       V23       V24       V25       V26       V27  \\\n",
              "242015  0.167842  0.739621  0.076945 -0.002166 -0.964808 -0.431068  0.401819   \n",
              "168784  0.335131  0.821249  0.101849 -0.896933 -0.547330  0.720304 -0.023325   \n",
              "114369  0.524618 -0.922808  0.044982 -0.075891 -0.137742  0.082470  0.276006   \n",
              "283489 -0.084388 -0.608496 -0.180506  0.776807  0.441702  0.505842 -0.542622   \n",
              "89745  -0.040238  0.096172 -0.092549 -1.345664  0.510305 -0.182674  0.107058   \n",
              "\n",
              "             V28  Amount  Class  \n",
              "242015  0.338146   63.44      0  \n",
              "168784 -0.046847  140.73      0  \n",
              "114369  0.091194    3.27      0  \n",
              "283489 -0.088924   10.34      0  \n",
              "89745   0.071818    0.89      0  "
            ]
          },
          "metadata": {},
          "execution_count": 144
        }
      ]
    },
    {
      "cell_type": "code",
      "metadata": {
        "id": "MOXWtwLQ_o5D"
      },
      "source": [
        "# Baixando a amostra\n",
        "df4.to_csv('amostraFraude2.csv', encoding='utf-8', index=False)"
      ],
      "execution_count": 145,
      "outputs": []
    },
    {
      "cell_type": "code",
      "metadata": {
        "colab": {
          "base_uri": "https://localhost:8080/"
        },
        "id": "L7b23rHFPI2G",
        "outputId": "8fd87565-a028-4af1-eb7b-d6c98a0d2da1"
      },
      "source": [
        "# Visualizando o corpo do df4\n",
        "X, y = prep_data(df4)\n",
        "print(f'X shape: {X.shape}\\ny shape: {y.shape}')"
      ],
      "execution_count": 146,
      "outputs": [
        {
          "output_type": "stream",
          "name": "stdout",
          "text": [
            "X shape: (42721, 27)\n",
            "y shape: (42721,)\n"
          ]
        }
      ]
    },
    {
      "cell_type": "code",
      "metadata": {
        "colab": {
          "base_uri": "https://localhost:8080/"
        },
        "id": "zfSvTq30PIqg",
        "outputId": "bd950b8f-b60b-4be8-aef8-33fbea9d91bd"
      },
      "source": [
        "# listando o array\n",
        "X[0, :]"
      ],
      "execution_count": 147,
      "outputs": [
        {
          "output_type": "execute_result",
          "data": {
            "text/plain": [
              "array([-0.33934482,  0.5475168 ,  0.45547677, -0.23632075,  0.1085041 ,\n",
              "       -0.72115305,  0.76868289, -0.15687461,  0.47417071, -0.36005674,\n",
              "       -0.99901795,  0.1694599 ,  0.08226277,  0.00322779,  0.22732254,\n",
              "       -0.39983738, -0.35097476, -0.03272234,  0.1339437 ,  0.00790279,\n",
              "        0.16784229,  0.73962117,  0.07694498, -0.00216594, -0.96480764,\n",
              "       -0.43106817,  0.40181906])"
            ]
          },
          "metadata": {},
          "execution_count": 147
        }
      ]
    },
    {
      "cell_type": "code",
      "metadata": {
        "colab": {
          "base_uri": "https://localhost:8080/"
        },
        "id": "PrAzB42cPIfO",
        "outputId": "3fbf73dc-9fa2-407b-f8c1-15cffcfc3dc6"
      },
      "source": [
        "# Contando valores separados pela classe\n",
        "df4.Class.value_counts()"
      ],
      "execution_count": 148,
      "outputs": [
        {
          "output_type": "execute_result",
          "data": {
            "text/plain": [
              "0    42649\n",
              "1       72\n",
              "Name: Class, dtype: int64"
            ]
          },
          "metadata": {},
          "execution_count": 148
        }
      ]
    },
    {
      "cell_type": "code",
      "metadata": {
        "colab": {
          "base_uri": "https://localhost:8080/"
        },
        "id": "jLwXsAlwPISH",
        "outputId": "760f4e2e-b3df-4fae-b775-7aba9d81098e"
      },
      "source": [
        "# Contando o número total de observações de y\n",
        "total_obs = len(y)\n",
        "total_obs"
      ],
      "execution_count": 149,
      "outputs": [
        {
          "output_type": "execute_result",
          "data": {
            "text/plain": [
              "42721"
            ]
          },
          "metadata": {},
          "execution_count": 149
        }
      ]
    },
    {
      "cell_type": "code",
      "metadata": {
        "colab": {
          "base_uri": "https://localhost:8080/"
        },
        "id": "SoeP3IUqPH_4",
        "outputId": "a4cb3ff5-6aab-4051-df76-71707e385f84"
      },
      "source": [
        "# Contando o número total de observações de operações não fraudulentas \n",
        "non_fraud = [i for i in y if i == 0]\n",
        "count_non_fraud = non_fraud.count(0)\n",
        "count_non_fraud"
      ],
      "execution_count": 150,
      "outputs": [
        {
          "output_type": "execute_result",
          "data": {
            "text/plain": [
              "42649"
            ]
          },
          "metadata": {},
          "execution_count": 150
        }
      ]
    },
    {
      "cell_type": "code",
      "metadata": {
        "colab": {
          "base_uri": "https://localhost:8080/"
        },
        "id": "XqY0tEpWPHiX",
        "outputId": "3b7dfd60-3638-4430-ed3c-432d33f446f8"
      },
      "source": [
        "# percentual de operações legítimas:\n",
        "percentage = count_non_fraud/total_obs * 100\n",
        "print(f'{percentage:0.2f}%')"
      ],
      "execution_count": 151,
      "outputs": [
        {
          "output_type": "stream",
          "name": "stdout",
          "text": [
            "99.83%\n"
          ]
        }
      ]
    },
    {
      "cell_type": "code",
      "metadata": {
        "id": "T_U5EsatQmQ7"
      },
      "source": [
        "# Classificador de Floresta Aleatória - 1\n",
        "# X_train, X_test, y_train, y_test\n",
        "# Dividindo os dados em treino e teste\n",
        "X_train, X_test, y_train, y_test = train_test_split(X, y, test_size=0.3, random_state=0)"
      ],
      "execution_count": 152,
      "outputs": []
    },
    {
      "cell_type": "code",
      "metadata": {
        "colab": {
          "base_uri": "https://localhost:8080/"
        },
        "id": "1uqNVvEtREGP",
        "outputId": "da4230e9-7202-45fb-e5ed-68cd83e031e3"
      },
      "source": [
        "# Classificador de Floresta Aleatória - 2\n",
        "\n",
        "# Ajustando o modelo ao conjunto de treino\n",
        "model.fit(X_train, y_train)"
      ],
      "execution_count": 153,
      "outputs": [
        {
          "output_type": "execute_result",
          "data": {
            "text/plain": [
              "LogisticRegression(C=1.0, class_weight=None, dual=False, fit_intercept=True,\n",
              "                   intercept_scaling=1, l1_ratio=None, max_iter=100,\n",
              "                   multi_class='auto', n_jobs=None, penalty='l2',\n",
              "                   random_state=None, solver='liblinear', tol=0.0001, verbose=0,\n",
              "                   warm_start=False)"
            ]
          },
          "metadata": {},
          "execution_count": 153
        }
      ]
    },
    {
      "cell_type": "code",
      "metadata": {
        "id": "a4-sy27qRPXz"
      },
      "source": [
        "# Obtendo predições para os dados de teste \n",
        "predicted = model.predict(X_test)"
      ],
      "execution_count": 154,
      "outputs": []
    },
    {
      "cell_type": "code",
      "metadata": {
        "colab": {
          "base_uri": "https://localhost:8080/"
        },
        "id": "vxgfjzbuRRHi",
        "outputId": "ef55e593-8838-4c66-f0e0-774a524c1efc"
      },
      "source": [
        "print(f'Accuracy Score:\\n{accuracy_score(y_test, predicted):0.3f}')"
      ],
      "execution_count": 155,
      "outputs": [
        {
          "output_type": "stream",
          "name": "stdout",
          "text": [
            "Accuracy Score:\n",
            "0.999\n"
          ]
        }
      ]
    },
    {
      "cell_type": "code",
      "metadata": {
        "id": "1l5Z_pGwRcQt"
      },
      "source": [
        "# Avaliação de performance\n",
        "# Obtendo as métricas de performance pelo sklean\n",
        "# importando os métodos\n",
        "from sklearn.metrics import precision_recall_curve, average_precision_score"
      ],
      "execution_count": 156,
      "outputs": []
    },
    {
      "cell_type": "code",
      "metadata": {
        "id": "g2N5IMirRzem"
      },
      "source": [
        "# Calcula a precisão média e a curva PR\n",
        "average_precision = average_precision_score(y_test, predicted)"
      ],
      "execution_count": 157,
      "outputs": []
    },
    {
      "cell_type": "code",
      "metadata": {
        "id": "3X5szzLbSAAz"
      },
      "source": [
        "# Obtendo religação e precisão\n",
        "# precision, recall = precision_recall_curve(y_test, predicted)"
      ],
      "execution_count": 158,
      "outputs": []
    },
    {
      "cell_type": "code",
      "metadata": {
        "id": "xqI6gpYTSCNL"
      },
      "source": [
        "# Obtendo o modelo de probabilidades\n",
        "probs = model.predict_proba(X_test)"
      ],
      "execution_count": 159,
      "outputs": []
    },
    {
      "cell_type": "code",
      "metadata": {
        "id": "Nf6QR5HvSFmq"
      },
      "source": [
        "# Visualizando ROC_AUC score usando probabilidades\n",
        "# print(metrics.roc_auc_score(y_test, probs[:, 1]))"
      ],
      "execution_count": 160,
      "outputs": []
    },
    {
      "cell_type": "code",
      "metadata": {
        "id": "hB9xIXSbSVoW"
      },
      "source": [
        "# Matriz de confusão e relatório de classificação¶\n",
        "from sklearn.metrics import classification_report, confusion_matrix"
      ],
      "execution_count": 161,
      "outputs": []
    },
    {
      "cell_type": "code",
      "metadata": {
        "id": "UPRG6xOdSXxb"
      },
      "source": [
        "# Obtendo predições\n",
        "predicted = model.predict(X_test)"
      ],
      "execution_count": 162,
      "outputs": []
    },
    {
      "cell_type": "code",
      "metadata": {
        "colab": {
          "base_uri": "https://localhost:8080/"
        },
        "id": "mff62j-gSZ8z",
        "outputId": "566475e8-8c34-488a-ad7f-53727bff88d3"
      },
      "source": [
        "# Imprime o relatório de classificação usando predições\n",
        "print(classification_report(y_test, predicted))"
      ],
      "execution_count": 163,
      "outputs": [
        {
          "output_type": "stream",
          "name": "stdout",
          "text": [
            "              precision    recall  f1-score   support\n",
            "\n",
            "           0       1.00      1.00      1.00     12801\n",
            "           1       0.83      0.62      0.71        16\n",
            "\n",
            "    accuracy                           1.00     12817\n",
            "   macro avg       0.92      0.81      0.86     12817\n",
            "weighted avg       1.00      1.00      1.00     12817\n",
            "\n"
          ]
        }
      ]
    },
    {
      "cell_type": "code",
      "metadata": {
        "colab": {
          "base_uri": "https://localhost:8080/"
        },
        "id": "cnBmz7cJS8el",
        "outputId": "bb8cecef-ec53-49f4-d9bf-91e42a6d9a62"
      },
      "source": [
        "# Imprime a matriz de confusão usando predições\n",
        "print(confusion_matrix(y_test, predicted))"
      ],
      "execution_count": 164,
      "outputs": [
        {
          "output_type": "stream",
          "name": "stdout",
          "text": [
            "[[12799     2]\n",
            " [    6    10]]\n"
          ]
        }
      ]
    },
    {
      "cell_type": "code",
      "metadata": {
        "id": "AQUnwzFiS_If"
      },
      "source": [
        "# Métricas de performance para o modelo RF\n",
        "\n",
        "# Obtendo predições do modelo de floresta aleatória \n",
        "predicted = model.predict(X_test)"
      ],
      "execution_count": 165,
      "outputs": []
    },
    {
      "cell_type": "code",
      "metadata": {
        "id": "-YWFXhfNdBHd"
      },
      "source": [
        "# Prevendo probabilidades\n",
        "probs = model.predict_proba(X_test)"
      ],
      "execution_count": 166,
      "outputs": []
    },
    {
      "cell_type": "code",
      "metadata": {
        "colab": {
          "base_uri": "https://localhost:8080/"
        },
        "id": "qxKloA0vdDIS",
        "outputId": "ef31556b-0ab6-478e-e943-d00fc9f271cd"
      },
      "source": [
        "# Imprime a curva ROC, reporte de classificação e matriz de confusão\n",
        "print('ROC Score:')\n",
        "print(roc_auc_score(y_test, probs[:,1]))\n",
        "print('\\nClassification Report:')\n",
        "print(classification_report(y_test, predicted))\n",
        "print('\\nConfusion Matrix:')\n",
        "print(confusion_matrix(y_test, predicted))"
      ],
      "execution_count": 167,
      "outputs": [
        {
          "output_type": "stream",
          "name": "stdout",
          "text": [
            "ROC Score:\n",
            "0.8949203187250996\n",
            "\n",
            "Classification Report:\n",
            "              precision    recall  f1-score   support\n",
            "\n",
            "           0       1.00      1.00      1.00     12801\n",
            "           1       0.83      0.62      0.71        16\n",
            "\n",
            "    accuracy                           1.00     12817\n",
            "   macro avg       0.92      0.81      0.86     12817\n",
            "weighted avg       1.00      1.00      1.00     12817\n",
            "\n",
            "\n",
            "Confusion Matrix:\n",
            "[[12799     2]\n",
            " [    6    10]]\n"
          ]
        }
      ]
    },
    {
      "cell_type": "code",
      "metadata": {
        "colab": {
          "base_uri": "https://localhost:8080/"
        },
        "id": "7irlFfxNeHv5",
        "outputId": "c5c6200e-9cb4-4772-bf8c-88f40a3a835c"
      },
      "source": [
        "#  Plotando a Precisão the Precision vs. Recall Curve\n",
        "\n",
        "# Calcula a precisão média e a curva PR\n",
        "average_precision = average_precision_score(y_test, predicted)\n",
        "average_precision"
      ],
      "execution_count": 168,
      "outputs": [
        {
          "output_type": "execute_result",
          "data": {
            "text/plain": [
              "0.5213014616004785"
            ]
          },
          "metadata": {},
          "execution_count": 168
        }
      ]
    },
    {
      "cell_type": "code",
      "metadata": {
        "colab": {
          "base_uri": "https://localhost:8080/"
        },
        "id": "BnZEgM7teRwJ",
        "outputId": "032fb56e-0611-419a-ecde-0ff16cd1d164"
      },
      "source": [
        "# Obtém a precisão e a religação (rechamada)\n",
        "precision, recall, _ = precision_recall_curve(y_test, predicted)\n",
        "print(f'Precision: {precision}\\nRecall: {recall}')"
      ],
      "execution_count": 169,
      "outputs": [
        {
          "output_type": "stream",
          "name": "stdout",
          "text": [
            "Precision: [0.00124834 0.83333333 1.        ]\n",
            "Recall: [1.    0.625 0.   ]\n"
          ]
        }
      ]
    },
    {
      "cell_type": "code",
      "metadata": {
        "id": "LwcJTc3EeU44"
      },
      "source": [
        "# criando a função de recall e precisão:\n",
        "\n",
        "def plot_pr_curve(recall, precision, average_precision):\n",
        "    \"\"\"\n",
        "    https://scikit-learn.org/stable/auto_examples/model_selection/plot_precision_recall.html\n",
        "    \"\"\"\n",
        "    from inspect import signature\n",
        "    plt.figure()\n",
        "    step_kwargs = ({'step': 'post'}\n",
        "                   if 'step' in signature(plt.fill_between).parameters\n",
        "                   else {})\n",
        "\n",
        "    plt.step(recall, precision, color='b', alpha=0.2, where='post')\n",
        "    plt.fill_between(recall, precision, alpha=0.2, color='b', **step_kwargs)\n",
        "\n",
        "    plt.xlabel('Recall')\n",
        "    plt.ylabel('Precision')\n",
        "    plt.ylim([0.0, 1.0])\n",
        "    plt.xlim([0.0, 1.0])\n",
        "    plt.title(f'2-class Curva Precision-Recall: AP={average_precision:0.2f}')\n",
        "    return plt.show()"
      ],
      "execution_count": 170,
      "outputs": []
    },
    {
      "cell_type": "code",
      "metadata": {
        "colab": {
          "base_uri": "https://localhost:8080/",
          "height": 294
        },
        "id": "-oxNpCE6ebfd",
        "outputId": "93395736-1616-418e-daf4-fa67763f9519"
      },
      "source": [
        "# Plota a recall precision tradeoff\n",
        "plot_pr_curve(recall, precision, average_precision)"
      ],
      "execution_count": 171,
      "outputs": [
        {
          "output_type": "display_data",
          "data": {
            "image/png": "[encoded data removed]",
            "text/plain": [
              "<Figure size 432x288 with 1 Axes>"
            ]
          },
          "metadata": {
            "needs_background": "light"
          }
        }
      ]
    },
    {
      "cell_type": "markdown",
      "metadata": {
        "id": "X9dYXUbxiKJc"
      },
      "source": [
        "The AUROC answers the question: \"How well can this classifier be expected to perform in general, at a variety\n",
        "of different baseline probabilities?\" but precision and recall don't. #The ROC curve plots the true positives vs.\n",
        " false positives , for a classifier, as its discrimination threshold is varied. Since, a random method describes \n",
        " a horizontal curve through the unit interval, it has an AUC of 0.5. Minimally, classifiers should perform better \n",
        " than this, and the extent to which they score higher than one another (meaning the area under the ROC curve is\n",
        "  larger), they have better expected performance. "
      ]
    },
    {
      "cell_type": "code",
      "metadata": {
        "colab": {
          "base_uri": "https://localhost:8080/"
        },
        "id": "IN8p3iV2iH6I",
        "outputId": "85288464-ee3e-44b7-ef58-80e8912ef9af"
      },
      "source": [
        "# Ajustando os pesos do algorítmo\n",
        "# Ajustes de modelo\n",
        "\n",
        "# Define o modelo com a sub-amostra balanceada\n",
        "model = RandomForestClassifier(class_weight='balanced_subsample', random_state=5, n_estimators=100)\n",
        "\n",
        "# Ajusta o modelo de treino com o conjunto de treino\n",
        "model.fit(X_train, y_train)\n",
        "\n",
        "# Obtém os valores preditivos e probabilidades do modelo \n",
        "predicted = model.predict(X_test)\n",
        "probs = model.predict_proba(X_test)\n",
        "\n",
        "# Imprime a curva ROC, relatório de classificação e matriz de confusão\n",
        "print('ROC Score:')\n",
        "print(roc_auc_score(y_test, probs[:,1]))\n",
        "print('\\nClassification Report:')\n",
        "print(classification_report(y_test, predicted))\n",
        "print('\\nConfusion Matrix:')\n",
        "print(confusion_matrix(y_test, predicted))"
      ],
      "execution_count": 172,
      "outputs": [
        {
          "output_type": "stream",
          "name": "stdout",
          "text": [
            "ROC Score:\n",
            "0.9346828372783376\n",
            "\n",
            "Classification Report:\n",
            "              precision    recall  f1-score   support\n",
            "\n",
            "           0       1.00      1.00      1.00     12801\n",
            "           1       0.92      0.75      0.83        16\n",
            "\n",
            "    accuracy                           1.00     12817\n",
            "   macro avg       0.96      0.87      0.91     12817\n",
            "weighted avg       1.00      1.00      1.00     12817\n",
            "\n",
            "\n",
            "Confusion Matrix:\n",
            "[[12800     1]\n",
            " [    4    12]]\n"
          ]
        }
      ]
    },
    {
      "cell_type": "code",
      "metadata": {
        "id": "PkVUHZZdjQjz"
      },
      "source": [
        "# Adjusting RF for fraud detection\n",
        "# Função de modelo sklearn\n",
        "\n",
        "def get_model_results(X_train: np.ndarray, y_train: np.ndarray,\n",
        "                      X_test: np.ndarray, y_test: np.ndarray, model):\n",
        "    \"\"\"\n",
        "    model: sklearn model (e.g. RandomForestClassifier)\n",
        "    \"\"\"\n",
        "    # Ajusta o modelo de treino com o conjunto de treino\n",
        "    model.fit(X_train, y_train)\n",
        "\n",
        "    # Obtém os valores preditivos e probabilidades do modelo \n",
        "    predicted = model.predict(X_test)\n",
        "    \n",
        "    try:\n",
        "        probs = model.predict_proba(X_test)\n",
        "        print('ROC Score:')\n",
        "        print(roc_auc_score(y_test, probs[:,1]))\n",
        "    except AttributeError:\n",
        "        pass\n",
        "\n",
        "    # Imprime a curva ROC, relatório de classificação e matriz de confusão\n",
        "    print('\\nClassification Report:')\n",
        "    print(classification_report(y_test, predicted))\n",
        "    print('\\nConfusion Matrix:')\n",
        "    print(confusion_matrix(y_test, predicted))"
      ],
      "execution_count": 173,
      "outputs": []
    },
    {
      "cell_type": "code",
      "metadata": {
        "colab": {
          "base_uri": "https://localhost:8080/"
        },
        "id": "lKBATnrMkx0i",
        "outputId": "a23c600a-8707-4b26-9754-c8003c2969fa"
      },
      "source": [
        "# Alterando as opções do modelo\n",
        "model = RandomForestClassifier(bootstrap=True,\n",
        "                               class_weight={0:1, 1:12},\n",
        "                               criterion='entropy',\n",
        "                               # Muda a profundidade do modelo: \n",
        "                               max_depth=10,\n",
        "                               # Altera o número de amostras nos nós do intervalo \n",
        "                               min_samples_leaf=10, \n",
        "                               # Altera o número de árvores a utilizar\n",
        "                               n_estimators=20,\n",
        "                               n_jobs=-1,\n",
        "                               random_state=5)\n",
        "\n",
        "# Executa a função get_model_results\n",
        "get_model_results(X_train, y_train, X_test, y_test, model)"
      ],
      "execution_count": 174,
      "outputs": [
        {
          "output_type": "stream",
          "name": "stdout",
          "text": [
            "ROC Score:\n",
            "0.9337502929458636\n",
            "\n",
            "Classification Report:\n",
            "              precision    recall  f1-score   support\n",
            "\n",
            "           0       1.00      1.00      1.00     12801\n",
            "           1       0.80      0.75      0.77        16\n",
            "\n",
            "    accuracy                           1.00     12817\n",
            "   macro avg       0.90      0.87      0.89     12817\n",
            "weighted avg       1.00      1.00      1.00     12817\n",
            "\n",
            "\n",
            "Confusion Matrix:\n",
            "[[12798     3]\n",
            " [    4    12]]\n"
          ]
        }
      ]
    },
    {
      "cell_type": "code",
      "metadata": {
        "id": "4LhVIQ3plmIa",
        "colab": {
          "base_uri": "https://localhost:8080/"
        },
        "outputId": "6af4cc06-a3ef-4acf-d827-556f3b2581cb"
      },
      "source": [
        "# Parametros de otimização com GridSearchCV\n",
        "\n",
        "# Define o parametro conjunto para testar\n",
        "param_grid = {'n_estimators': [1, 30],\n",
        "              'max_features': ['auto', 'log2'], \n",
        "              'max_depth': [4, 8, 10, 12],\n",
        "              'criterion': ['gini', 'entropy']}\n",
        "\n",
        "# Define o modelo a usar\n",
        "model = RandomForestClassifier(random_state=5)\n",
        "\n",
        "# Combina o conjunto de parâmetros com o modelo definido\n",
        "CV_model = GridSearchCV(estimator=model, param_grid=param_grid, cv=5, scoring='recall', n_jobs=-1)\n",
        "\n",
        "# Ajusta o modelo aos dados de treino e obtém os melhores parâmetros\n",
        "CV_model.fit(X_train, y_train)\n",
        "CV_model.best_params_"
      ],
      "execution_count": 175,
      "outputs": [
        {
          "output_type": "execute_result",
          "data": {
            "text/plain": [
              "{'criterion': 'gini',\n",
              " 'max_depth': 8,\n",
              " 'max_features': 'auto',\n",
              " 'n_estimators': 30}"
            ]
          },
          "metadata": {},
          "execution_count": 175
        }
      ]
    },
    {
      "cell_type": "code",
      "metadata": {
        "colab": {
          "base_uri": "https://localhost:8080/"
        },
        "id": "llpj43vEmTjm",
        "outputId": "bc25dab8-d31b-4ffc-e67a-bafb3a21a71f"
      },
      "source": [
        "# Modelo de resultados com GridSearchCV\n",
        "\n",
        "# Inserindo os parâmetros de otimização no modelo\n",
        "model = RandomForestClassifier(class_weight={0:1,1:12},\n",
        "                               criterion='gini',\n",
        "                               max_depth=8,\n",
        "                               max_features='log2', \n",
        "                               min_samples_leaf=10,\n",
        "                               n_estimators=30,\n",
        "                               n_jobs=-1,\n",
        "                               random_state=5)\n",
        "\n",
        "# Obtendo os resultados do modelo\n",
        "get_model_results(X_train, y_train, X_test, y_test, model)"
      ],
      "execution_count": 176,
      "outputs": [
        {
          "output_type": "stream",
          "name": "stdout",
          "text": [
            "ROC Score:\n",
            "0.9034914264510585\n",
            "\n",
            "Classification Report:\n",
            "              precision    recall  f1-score   support\n",
            "\n",
            "           0       1.00      1.00      1.00     12801\n",
            "           1       0.80      0.75      0.77        16\n",
            "\n",
            "    accuracy                           1.00     12817\n",
            "   macro avg       0.90      0.87      0.89     12817\n",
            "weighted avg       1.00      1.00      1.00     12817\n",
            "\n",
            "\n",
            "Confusion Matrix:\n",
            "[[12798     3]\n",
            " [    4    12]]\n"
          ]
        }
      ]
    },
    {
      "cell_type": "code",
      "metadata": {
        "colab": {
          "base_uri": "https://localhost:8080/"
        },
        "id": "GMnd4mprnDpk",
        "outputId": "1db6ec0a-55ba-4c4d-b08d-1490542ce60c"
      },
      "source": [
        "# Métodos de conjuntos\n",
        "\n",
        "# Regressão logística\n",
        "\n",
        "# Define o modelo de regressão logística e ajustes\n",
        "model = LogisticRegression(class_weight={0:1, 1:15}, random_state=5, solver='liblinear')\n",
        "\n",
        "# Obtém os resultados do modelo\n",
        "get_model_results(X_train, y_train, X_test, y_test, model)"
      ],
      "execution_count": 177,
      "outputs": [
        {
          "output_type": "stream",
          "name": "stdout",
          "text": [
            "ROC Score:\n",
            "0.8776658073588001\n",
            "\n",
            "Classification Report:\n",
            "              precision    recall  f1-score   support\n",
            "\n",
            "           0       1.00      1.00      1.00     12801\n",
            "           1       0.63      0.75      0.69        16\n",
            "\n",
            "    accuracy                           1.00     12817\n",
            "   macro avg       0.82      0.87      0.84     12817\n",
            "weighted avg       1.00      1.00      1.00     12817\n",
            "\n",
            "\n",
            "Confusion Matrix:\n",
            "[[12794     7]\n",
            " [    4    12]]\n"
          ]
        }
      ]
    },
    {
      "cell_type": "code",
      "metadata": {
        "colab": {
          "base_uri": "https://localhost:8080/"
        },
        "id": "NbIhdUtrnQHc",
        "outputId": "a8410562-2aa7-435b-e51d-6918ac5575ec"
      },
      "source": [
        "# Classificador de votação\n",
        "\n",
        "# Define os três classificadores a usar no conjunto\n",
        "clf1 = LogisticRegression(class_weight={0:1, 1:15},\n",
        "                          random_state=5,\n",
        "                          solver='liblinear')\n",
        "\n",
        "clf2 = RandomForestClassifier(class_weight={0:1, 1:12}, \n",
        "                              criterion='gini', \n",
        "                              max_depth=8, \n",
        "                              max_features='log2',\n",
        "                              min_samples_leaf=10, \n",
        "                              n_estimators=30, \n",
        "                              n_jobs=-1,\n",
        "                              random_state=5)\n",
        "\n",
        "clf3 = DecisionTreeClassifier(random_state=5,\n",
        "                              class_weight=\"balanced\")\n",
        "\n",
        "# Combina os classiificadores com o conjunto modelo\n",
        "ensemble_model = VotingClassifier(estimators=[('lr', clf1), ('rf', clf2), ('dt', clf3)], voting='hard')\n",
        "\n",
        "# Obtém os resultados \n",
        "get_model_results(X_train, y_train, X_test, y_test, ensemble_model)"
      ],
      "execution_count": 178,
      "outputs": [
        {
          "output_type": "stream",
          "name": "stdout",
          "text": [
            "\n",
            "Classification Report:\n",
            "              precision    recall  f1-score   support\n",
            "\n",
            "           0       1.00      1.00      1.00     12801\n",
            "           1       0.75      0.75      0.75        16\n",
            "\n",
            "    accuracy                           1.00     12817\n",
            "   macro avg       0.87      0.87      0.87     12817\n",
            "weighted avg       1.00      1.00      1.00     12817\n",
            "\n",
            "\n",
            "Confusion Matrix:\n",
            "[[12797     4]\n",
            " [    4    12]]\n"
          ]
        }
      ]
    },
    {
      "cell_type": "code",
      "metadata": {
        "colab": {
          "base_uri": "https://localhost:8080/"
        },
        "id": "HPf7o7sGnaJF",
        "outputId": "4bf4ab65-11bf-4dd4-a600-8f4ca62bba4e"
      },
      "source": [
        "# Ajustas dos pesos com o Classificador de votação\n",
        "\n",
        "# Define o conjunto modelo\n",
        "ensemble_model = VotingClassifier(estimators=[('lr', clf1), ('rf', clf2), ('gnb', clf3)], voting='soft', weights=[1, 4, 1], flatten_transform=True)\n",
        "\n",
        "# Obtém os resultados\n",
        "get_model_results(X_train, y_train, X_test, y_test, ensemble_model)"
      ],
      "execution_count": 179,
      "outputs": [
        {
          "output_type": "stream",
          "name": "stdout",
          "text": [
            "ROC Score:\n",
            "0.9082298257948598\n",
            "\n",
            "Classification Report:\n",
            "              precision    recall  f1-score   support\n",
            "\n",
            "           0       1.00      1.00      1.00     12801\n",
            "           1       0.75      0.75      0.75        16\n",
            "\n",
            "    accuracy                           1.00     12817\n",
            "   macro avg       0.87      0.87      0.87     12817\n",
            "weighted avg       1.00      1.00      1.00     12817\n",
            "\n",
            "\n",
            "Confusion Matrix:\n",
            "[[12797     4]\n",
            " [    4    12]]\n"
          ]
        }
      ]
    },
    {
      "cell_type": "markdown",
      "metadata": {
        "id": "FKF9yc-upKtv"
      },
      "source": [
        "### **Detecção de fraude usando dados não rotulados**"
      ]
    },
    {
      "cell_type": "code",
      "metadata": {
        "id": "RzD5psLwox7D"
      },
      "source": [
        " # Explorando os dados:\n",
        "\n",
        "banksim_df = pd.read_csv(banksim_file)\n",
        "banksim_df.drop(['customer'], axis=1, inplace=True)\n",
        "# banksim_adj_df = pd.read_csv(banksim_adj_file)\n",
        "# banksim_adj_df.drop(['step'], axis=1, inplace=True)"
      ],
      "execution_count": 7,
      "outputs": []
    },
    {
      "cell_type": "code",
      "metadata": {
        "id": "ps3tfV9q8Tqc"
      },
      "source": [
        "#Criando uma amostra de 10% do df original\n",
        "banksim_df2 = banksim_df.sample(frac=0.01)"
      ],
      "execution_count": 31,
      "outputs": []
    },
    {
      "cell_type": "code",
      "metadata": {
        "colab": {
          "base_uri": "https://localhost:8080/"
        },
        "id": "yz5RZk7NqO8d",
        "outputId": "df32a7ed-0eab-4c26-f92c-9a74e034f2cf"
      },
      "source": [
        "banksim_df2.shape"
      ],
      "execution_count": 69,
      "outputs": [
        {
          "output_type": "execute_result",
          "data": {
            "text/plain": [
              "(20, 6)"
            ]
          },
          "metadata": {},
          "execution_count": 69
        }
      ]
    },
    {
      "cell_type": "code",
      "metadata": {
        "colab": {
          "base_uri": "https://localhost:8080/",
          "height": 204
        },
        "id": "a8qdf898qWuh",
        "outputId": "6310d89c-544a-45e4-d76a-d6e928a0222b"
      },
      "source": [
        "banksim_df2.head()"
      ],
      "execution_count": 33,
      "outputs": [
        {
          "output_type": "execute_result",
          "data": {
            "text/html": [
              "<div>\n",
              "<style scoped>\n",
              "    .dataframe tbody tr th:only-of-type {\n",
              "        vertical-align: middle;\n",
              "    }\n",
              "\n",
              "    .dataframe tbody tr th {\n",
              "        vertical-align: top;\n",
              "    }\n",
              "\n",
              "    .dataframe thead th {\n",
              "        text-align: right;\n",
              "    }\n",
              "</style>\n",
              "<table border=\"1\" class=\"dataframe\">\n",
              "  <thead>\n",
              "    <tr style=\"text-align: right;\">\n",
              "      <th></th>\n",
              "      <th>step</th>\n",
              "      <th>age</th>\n",
              "      <th>gender</th>\n",
              "      <th>zipcodeOri</th>\n",
              "      <th>merchant</th>\n",
              "      <th>zipMerchant</th>\n",
              "      <th>category</th>\n",
              "      <th>amount</th>\n",
              "      <th>fraud</th>\n",
              "    </tr>\n",
              "  </thead>\n",
              "  <tbody>\n",
              "    <tr>\n",
              "      <th>333795</th>\n",
              "      <td>108</td>\n",
              "      <td>3</td>\n",
              "      <td>F</td>\n",
              "      <td>28007</td>\n",
              "      <td>M348934600</td>\n",
              "      <td>28007</td>\n",
              "      <td>es_transportation</td>\n",
              "      <td>37.62</td>\n",
              "      <td>0</td>\n",
              "    </tr>\n",
              "    <tr>\n",
              "      <th>156314</th>\n",
              "      <td>55</td>\n",
              "      <td>2</td>\n",
              "      <td>M</td>\n",
              "      <td>28007</td>\n",
              "      <td>M348934600</td>\n",
              "      <td>28007</td>\n",
              "      <td>es_transportation</td>\n",
              "      <td>35.28</td>\n",
              "      <td>0</td>\n",
              "    </tr>\n",
              "    <tr>\n",
              "      <th>357603</th>\n",
              "      <td>115</td>\n",
              "      <td>3</td>\n",
              "      <td>F</td>\n",
              "      <td>28007</td>\n",
              "      <td>M1823072687</td>\n",
              "      <td>28007</td>\n",
              "      <td>es_transportation</td>\n",
              "      <td>31.57</td>\n",
              "      <td>0</td>\n",
              "    </tr>\n",
              "    <tr>\n",
              "      <th>465347</th>\n",
              "      <td>145</td>\n",
              "      <td>2</td>\n",
              "      <td>F</td>\n",
              "      <td>28007</td>\n",
              "      <td>M1823072687</td>\n",
              "      <td>28007</td>\n",
              "      <td>es_transportation</td>\n",
              "      <td>13.39</td>\n",
              "      <td>0</td>\n",
              "    </tr>\n",
              "    <tr>\n",
              "      <th>212999</th>\n",
              "      <td>72</td>\n",
              "      <td>3</td>\n",
              "      <td>M</td>\n",
              "      <td>28007</td>\n",
              "      <td>M1823072687</td>\n",
              "      <td>28007</td>\n",
              "      <td>es_transportation</td>\n",
              "      <td>31.34</td>\n",
              "      <td>0</td>\n",
              "    </tr>\n",
              "  </tbody>\n",
              "</table>\n",
              "</div>"
            ],
            "text/plain": [
              "        step age gender  zipcodeOri     merchant  zipMerchant  \\\n",
              "333795   108   3      F       28007   M348934600        28007   \n",
              "156314    55   2      M       28007   M348934600        28007   \n",
              "357603   115   3      F       28007  M1823072687        28007   \n",
              "465347   145   2      F       28007  M1823072687        28007   \n",
              "212999    72   3      M       28007  M1823072687        28007   \n",
              "\n",
              "                 category  amount  fraud  \n",
              "333795  es_transportation   37.62      0  \n",
              "156314  es_transportation   35.28      0  \n",
              "357603  es_transportation   31.57      0  \n",
              "465347  es_transportation   13.39      0  \n",
              "212999  es_transportation   31.34      0  "
            ]
          },
          "metadata": {},
          "execution_count": 33
        }
      ]
    },
    {
      "cell_type": "code",
      "metadata": {
        "colab": {
          "base_uri": "https://localhost:8080/"
        },
        "id": "X85watxTqdZu",
        "outputId": "60a65119-d1bb-4340-d9b5-9564f5875c6d"
      },
      "source": [
        "banksim_adj_df.shape"
      ],
      "execution_count": 19,
      "outputs": [
        {
          "output_type": "execute_result",
          "data": {
            "text/plain": [
              "(7189, 19)"
            ]
          },
          "metadata": {},
          "execution_count": 19
        }
      ]
    },
    {
      "cell_type": "code",
      "metadata": {
        "colab": {
          "base_uri": "https://localhost:8080/",
          "height": 241
        },
        "id": "Q8Vl5dG1qjSw",
        "outputId": "4b497b0a-779a-42c9-97ef-63149653878c"
      },
      "source": [
        "banksim_adj_df.head()"
      ],
      "execution_count": 20,
      "outputs": [
        {
          "output_type": "execute_result",
          "data": {
            "text/html": [
              "<div>\n",
              "<style scoped>\n",
              "    .dataframe tbody tr th:only-of-type {\n",
              "        vertical-align: middle;\n",
              "    }\n",
              "\n",
              "    .dataframe tbody tr th {\n",
              "        vertical-align: top;\n",
              "    }\n",
              "\n",
              "    .dataframe thead th {\n",
              "        text-align: right;\n",
              "    }\n",
              "</style>\n",
              "<table border=\"1\" class=\"dataframe\">\n",
              "  <thead>\n",
              "    <tr style=\"text-align: right;\">\n",
              "      <th></th>\n",
              "      <th>Unnamed: 0</th>\n",
              "      <th>age</th>\n",
              "      <th>amount</th>\n",
              "      <th>fraud</th>\n",
              "      <th>M</th>\n",
              "      <th>es_barsandrestaurants</th>\n",
              "      <th>es_contents</th>\n",
              "      <th>es_fashion</th>\n",
              "      <th>es_food</th>\n",
              "      <th>es_health</th>\n",
              "      <th>es_home</th>\n",
              "      <th>es_hotelservices</th>\n",
              "      <th>es_hyper</th>\n",
              "      <th>es_leisure</th>\n",
              "      <th>es_otherservices</th>\n",
              "      <th>es_sportsandtoys</th>\n",
              "      <th>es_tech</th>\n",
              "      <th>es_transportation</th>\n",
              "      <th>es_travel</th>\n",
              "    </tr>\n",
              "  </thead>\n",
              "  <tbody>\n",
              "    <tr>\n",
              "      <th>0</th>\n",
              "      <td>0</td>\n",
              "      <td>3</td>\n",
              "      <td>49.71</td>\n",
              "      <td>0</td>\n",
              "      <td>0</td>\n",
              "      <td>0</td>\n",
              "      <td>0</td>\n",
              "      <td>0</td>\n",
              "      <td>0</td>\n",
              "      <td>0</td>\n",
              "      <td>0</td>\n",
              "      <td>0</td>\n",
              "      <td>0</td>\n",
              "      <td>0</td>\n",
              "      <td>0</td>\n",
              "      <td>0</td>\n",
              "      <td>0</td>\n",
              "      <td>1</td>\n",
              "      <td>0</td>\n",
              "    </tr>\n",
              "    <tr>\n",
              "      <th>1</th>\n",
              "      <td>1</td>\n",
              "      <td>4</td>\n",
              "      <td>39.29</td>\n",
              "      <td>0</td>\n",
              "      <td>0</td>\n",
              "      <td>0</td>\n",
              "      <td>0</td>\n",
              "      <td>0</td>\n",
              "      <td>0</td>\n",
              "      <td>1</td>\n",
              "      <td>0</td>\n",
              "      <td>0</td>\n",
              "      <td>0</td>\n",
              "      <td>0</td>\n",
              "      <td>0</td>\n",
              "      <td>0</td>\n",
              "      <td>0</td>\n",
              "      <td>0</td>\n",
              "      <td>0</td>\n",
              "    </tr>\n",
              "    <tr>\n",
              "      <th>2</th>\n",
              "      <td>2</td>\n",
              "      <td>3</td>\n",
              "      <td>18.76</td>\n",
              "      <td>0</td>\n",
              "      <td>0</td>\n",
              "      <td>0</td>\n",
              "      <td>0</td>\n",
              "      <td>0</td>\n",
              "      <td>0</td>\n",
              "      <td>0</td>\n",
              "      <td>0</td>\n",
              "      <td>0</td>\n",
              "      <td>0</td>\n",
              "      <td>0</td>\n",
              "      <td>0</td>\n",
              "      <td>0</td>\n",
              "      <td>0</td>\n",
              "      <td>1</td>\n",
              "      <td>0</td>\n",
              "    </tr>\n",
              "    <tr>\n",
              "      <th>3</th>\n",
              "      <td>3</td>\n",
              "      <td>4</td>\n",
              "      <td>13.95</td>\n",
              "      <td>0</td>\n",
              "      <td>1</td>\n",
              "      <td>0</td>\n",
              "      <td>0</td>\n",
              "      <td>0</td>\n",
              "      <td>0</td>\n",
              "      <td>0</td>\n",
              "      <td>0</td>\n",
              "      <td>0</td>\n",
              "      <td>0</td>\n",
              "      <td>0</td>\n",
              "      <td>0</td>\n",
              "      <td>0</td>\n",
              "      <td>0</td>\n",
              "      <td>1</td>\n",
              "      <td>0</td>\n",
              "    </tr>\n",
              "    <tr>\n",
              "      <th>4</th>\n",
              "      <td>4</td>\n",
              "      <td>2</td>\n",
              "      <td>49.87</td>\n",
              "      <td>0</td>\n",
              "      <td>1</td>\n",
              "      <td>0</td>\n",
              "      <td>0</td>\n",
              "      <td>0</td>\n",
              "      <td>0</td>\n",
              "      <td>0</td>\n",
              "      <td>0</td>\n",
              "      <td>0</td>\n",
              "      <td>0</td>\n",
              "      <td>0</td>\n",
              "      <td>0</td>\n",
              "      <td>0</td>\n",
              "      <td>0</td>\n",
              "      <td>1</td>\n",
              "      <td>0</td>\n",
              "    </tr>\n",
              "  </tbody>\n",
              "</table>\n",
              "</div>"
            ],
            "text/plain": [
              "   Unnamed: 0  age  amount  fraud  M  es_barsandrestaurants  es_contents  \\\n",
              "0           0    3   49.71      0  0                      0            0   \n",
              "1           1    4   39.29      0  0                      0            0   \n",
              "2           2    3   18.76      0  0                      0            0   \n",
              "3           3    4   13.95      0  1                      0            0   \n",
              "4           4    2   49.87      0  1                      0            0   \n",
              "\n",
              "   es_fashion  es_food  es_health  es_home  es_hotelservices  es_hyper  \\\n",
              "0           0        0          0        0                 0         0   \n",
              "1           0        0          1        0                 0         0   \n",
              "2           0        0          0        0                 0         0   \n",
              "3           0        0          0        0                 0         0   \n",
              "4           0        0          0        0                 0         0   \n",
              "\n",
              "   es_leisure  es_otherservices  es_sportsandtoys  es_tech  es_transportation  \\\n",
              "0           0                 0                 0        0                  1   \n",
              "1           0                 0                 0        0                  0   \n",
              "2           0                 0                 0        0                  1   \n",
              "3           0                 0                 0        0                  1   \n",
              "4           0                 0                 0        0                  1   \n",
              "\n",
              "   es_travel  \n",
              "0          0  \n",
              "1          0  \n",
              "2          0  \n",
              "3          0  \n",
              "4          0  "
            ]
          },
          "metadata": {},
          "execution_count": 20
        }
      ]
    },
    {
      "cell_type": "code",
      "metadata": {
        "colab": {
          "base_uri": "https://localhost:8080/",
          "height": 545
        },
        "id": "bXF94fsCstFS",
        "outputId": "7ff93846-cf79-498a-fb45-293d3f19d342"
      },
      "source": [
        "banksim_df2.groupby(['category']).mean()"
      ],
      "execution_count": 34,
      "outputs": [
        {
          "output_type": "execute_result",
          "data": {
            "text/html": [
              "<div>\n",
              "<style scoped>\n",
              "    .dataframe tbody tr th:only-of-type {\n",
              "        vertical-align: middle;\n",
              "    }\n",
              "\n",
              "    .dataframe tbody tr th {\n",
              "        vertical-align: top;\n",
              "    }\n",
              "\n",
              "    .dataframe thead th {\n",
              "        text-align: right;\n",
              "    }\n",
              "</style>\n",
              "<table border=\"1\" class=\"dataframe\">\n",
              "  <thead>\n",
              "    <tr style=\"text-align: right;\">\n",
              "      <th></th>\n",
              "      <th>step</th>\n",
              "      <th>zipcodeOri</th>\n",
              "      <th>zipMerchant</th>\n",
              "      <th>amount</th>\n",
              "      <th>fraud</th>\n",
              "    </tr>\n",
              "    <tr>\n",
              "      <th>category</th>\n",
              "      <th></th>\n",
              "      <th></th>\n",
              "      <th></th>\n",
              "      <th></th>\n",
              "      <th></th>\n",
              "    </tr>\n",
              "  </thead>\n",
              "  <tbody>\n",
              "    <tr>\n",
              "      <th>es_barsandrestaurants</th>\n",
              "      <td>82.223881</td>\n",
              "      <td>28007.0</td>\n",
              "      <td>28007.0</td>\n",
              "      <td>40.403284</td>\n",
              "      <td>0.029851</td>\n",
              "    </tr>\n",
              "    <tr>\n",
              "      <th>es_contents</th>\n",
              "      <td>122.714286</td>\n",
              "      <td>28007.0</td>\n",
              "      <td>28007.0</td>\n",
              "      <td>33.008571</td>\n",
              "      <td>0.000000</td>\n",
              "    </tr>\n",
              "    <tr>\n",
              "      <th>es_fashion</th>\n",
              "      <td>102.950820</td>\n",
              "      <td>28007.0</td>\n",
              "      <td>28007.0</td>\n",
              "      <td>72.888689</td>\n",
              "      <td>0.016393</td>\n",
              "    </tr>\n",
              "    <tr>\n",
              "      <th>es_food</th>\n",
              "      <td>105.580000</td>\n",
              "      <td>28007.0</td>\n",
              "      <td>28007.0</td>\n",
              "      <td>39.557680</td>\n",
              "      <td>0.000000</td>\n",
              "    </tr>\n",
              "    <tr>\n",
              "      <th>es_health</th>\n",
              "      <td>95.260870</td>\n",
              "      <td>28007.0</td>\n",
              "      <td>28007.0</td>\n",
              "      <td>153.835942</td>\n",
              "      <td>0.152174</td>\n",
              "    </tr>\n",
              "    <tr>\n",
              "      <th>es_home</th>\n",
              "      <td>91.000000</td>\n",
              "      <td>28007.0</td>\n",
              "      <td>28007.0</td>\n",
              "      <td>136.617000</td>\n",
              "      <td>0.100000</td>\n",
              "    </tr>\n",
              "    <tr>\n",
              "      <th>es_hotelservices</th>\n",
              "      <td>120.375000</td>\n",
              "      <td>28007.0</td>\n",
              "      <td>28007.0</td>\n",
              "      <td>178.105625</td>\n",
              "      <td>0.312500</td>\n",
              "    </tr>\n",
              "    <tr>\n",
              "      <th>es_hyper</th>\n",
              "      <td>61.229167</td>\n",
              "      <td>28007.0</td>\n",
              "      <td>28007.0</td>\n",
              "      <td>44.065208</td>\n",
              "      <td>0.020833</td>\n",
              "    </tr>\n",
              "    <tr>\n",
              "      <th>es_leisure</th>\n",
              "      <td>92.000000</td>\n",
              "      <td>28007.0</td>\n",
              "      <td>28007.0</td>\n",
              "      <td>275.766250</td>\n",
              "      <td>0.875000</td>\n",
              "    </tr>\n",
              "    <tr>\n",
              "      <th>es_otherservices</th>\n",
              "      <td>108.857143</td>\n",
              "      <td>28007.0</td>\n",
              "      <td>28007.0</td>\n",
              "      <td>68.111429</td>\n",
              "      <td>0.142857</td>\n",
              "    </tr>\n",
              "    <tr>\n",
              "      <th>es_sportsandtoys</th>\n",
              "      <td>80.600000</td>\n",
              "      <td>28007.0</td>\n",
              "      <td>28007.0</td>\n",
              "      <td>221.559600</td>\n",
              "      <td>0.620000</td>\n",
              "    </tr>\n",
              "    <tr>\n",
              "      <th>es_tech</th>\n",
              "      <td>96.782609</td>\n",
              "      <td>28007.0</td>\n",
              "      <td>28007.0</td>\n",
              "      <td>82.108261</td>\n",
              "      <td>0.043478</td>\n",
              "    </tr>\n",
              "    <tr>\n",
              "      <th>es_transportation</th>\n",
              "      <td>94.854924</td>\n",
              "      <td>28007.0</td>\n",
              "      <td>28007.0</td>\n",
              "      <td>26.812013</td>\n",
              "      <td>0.000000</td>\n",
              "    </tr>\n",
              "    <tr>\n",
              "      <th>es_travel</th>\n",
              "      <td>117.750000</td>\n",
              "      <td>28007.0</td>\n",
              "      <td>28007.0</td>\n",
              "      <td>2720.025000</td>\n",
              "      <td>1.000000</td>\n",
              "    </tr>\n",
              "    <tr>\n",
              "      <th>es_wellnessandbeauty</th>\n",
              "      <td>92.587500</td>\n",
              "      <td>28007.0</td>\n",
              "      <td>28007.0</td>\n",
              "      <td>65.204563</td>\n",
              "      <td>0.062500</td>\n",
              "    </tr>\n",
              "  </tbody>\n",
              "</table>\n",
              "</div>"
            ],
            "text/plain": [
              "                             step  zipcodeOri  zipMerchant       amount  \\\n",
              "category                                                                  \n",
              "es_barsandrestaurants   82.223881     28007.0      28007.0    40.403284   \n",
              "es_contents            122.714286     28007.0      28007.0    33.008571   \n",
              "es_fashion             102.950820     28007.0      28007.0    72.888689   \n",
              "es_food                105.580000     28007.0      28007.0    39.557680   \n",
              "es_health               95.260870     28007.0      28007.0   153.835942   \n",
              "es_home                 91.000000     28007.0      28007.0   136.617000   \n",
              "es_hotelservices       120.375000     28007.0      28007.0   178.105625   \n",
              "es_hyper                61.229167     28007.0      28007.0    44.065208   \n",
              "es_leisure              92.000000     28007.0      28007.0   275.766250   \n",
              "es_otherservices       108.857143     28007.0      28007.0    68.111429   \n",
              "es_sportsandtoys        80.600000     28007.0      28007.0   221.559600   \n",
              "es_tech                 96.782609     28007.0      28007.0    82.108261   \n",
              "es_transportation       94.854924     28007.0      28007.0    26.812013   \n",
              "es_travel              117.750000     28007.0      28007.0  2720.025000   \n",
              "es_wellnessandbeauty    92.587500     28007.0      28007.0    65.204563   \n",
              "\n",
              "                          fraud  \n",
              "category                         \n",
              "es_barsandrestaurants  0.029851  \n",
              "es_contents            0.000000  \n",
              "es_fashion             0.016393  \n",
              "es_food                0.000000  \n",
              "es_health              0.152174  \n",
              "es_home                0.100000  \n",
              "es_hotelservices       0.312500  \n",
              "es_hyper               0.020833  \n",
              "es_leisure             0.875000  \n",
              "es_otherservices       0.142857  \n",
              "es_sportsandtoys       0.620000  \n",
              "es_tech                0.043478  \n",
              "es_transportation      0.000000  \n",
              "es_travel              1.000000  \n",
              "es_wellnessandbeauty   0.062500  "
            ]
          },
          "metadata": {},
          "execution_count": 34
        }
      ]
    },
    {
      "cell_type": "code",
      "metadata": {
        "colab": {
          "base_uri": "https://localhost:8080/",
          "height": 328
        },
        "id": "6mJED8JYszuS",
        "outputId": "8e542706-1891-45a1-8022-e65abe7f529f"
      },
      "source": [
        "banksim_df2.groupby(['age']).mean()"
      ],
      "execution_count": 35,
      "outputs": [
        {
          "output_type": "execute_result",
          "data": {
            "text/html": [
              "<div>\n",
              "<style scoped>\n",
              "    .dataframe tbody tr th:only-of-type {\n",
              "        vertical-align: middle;\n",
              "    }\n",
              "\n",
              "    .dataframe tbody tr th {\n",
              "        vertical-align: top;\n",
              "    }\n",
              "\n",
              "    .dataframe thead th {\n",
              "        text-align: right;\n",
              "    }\n",
              "</style>\n",
              "<table border=\"1\" class=\"dataframe\">\n",
              "  <thead>\n",
              "    <tr style=\"text-align: right;\">\n",
              "      <th></th>\n",
              "      <th>step</th>\n",
              "      <th>zipcodeOri</th>\n",
              "      <th>zipMerchant</th>\n",
              "      <th>amount</th>\n",
              "      <th>fraud</th>\n",
              "    </tr>\n",
              "    <tr>\n",
              "      <th>age</th>\n",
              "      <th></th>\n",
              "      <th></th>\n",
              "      <th></th>\n",
              "      <th></th>\n",
              "      <th></th>\n",
              "    </tr>\n",
              "  </thead>\n",
              "  <tbody>\n",
              "    <tr>\n",
              "      <th>0</th>\n",
              "      <td>112.461538</td>\n",
              "      <td>28007.0</td>\n",
              "      <td>28007.0</td>\n",
              "      <td>46.724231</td>\n",
              "      <td>0.038462</td>\n",
              "    </tr>\n",
              "    <tr>\n",
              "      <th>1</th>\n",
              "      <td>95.492334</td>\n",
              "      <td>28007.0</td>\n",
              "      <td>28007.0</td>\n",
              "      <td>31.924702</td>\n",
              "      <td>0.003407</td>\n",
              "    </tr>\n",
              "    <tr>\n",
              "      <th>2</th>\n",
              "      <td>95.362827</td>\n",
              "      <td>28007.0</td>\n",
              "      <td>28007.0</td>\n",
              "      <td>39.640455</td>\n",
              "      <td>0.017801</td>\n",
              "    </tr>\n",
              "    <tr>\n",
              "      <th>3</th>\n",
              "      <td>93.084734</td>\n",
              "      <td>28007.0</td>\n",
              "      <td>28007.0</td>\n",
              "      <td>36.427836</td>\n",
              "      <td>0.016807</td>\n",
              "    </tr>\n",
              "    <tr>\n",
              "      <th>4</th>\n",
              "      <td>96.108401</td>\n",
              "      <td>28007.0</td>\n",
              "      <td>28007.0</td>\n",
              "      <td>34.382746</td>\n",
              "      <td>0.009937</td>\n",
              "    </tr>\n",
              "    <tr>\n",
              "      <th>5</th>\n",
              "      <td>95.520000</td>\n",
              "      <td>28007.0</td>\n",
              "      <td>28007.0</td>\n",
              "      <td>38.024250</td>\n",
              "      <td>0.018333</td>\n",
              "    </tr>\n",
              "    <tr>\n",
              "      <th>6</th>\n",
              "      <td>92.782143</td>\n",
              "      <td>28007.0</td>\n",
              "      <td>28007.0</td>\n",
              "      <td>38.144357</td>\n",
              "      <td>0.010714</td>\n",
              "    </tr>\n",
              "    <tr>\n",
              "      <th>U</th>\n",
              "      <td>88.875000</td>\n",
              "      <td>28007.0</td>\n",
              "      <td>28007.0</td>\n",
              "      <td>38.953750</td>\n",
              "      <td>0.000000</td>\n",
              "    </tr>\n",
              "  </tbody>\n",
              "</table>\n",
              "</div>"
            ],
            "text/plain": [
              "           step  zipcodeOri  zipMerchant     amount     fraud\n",
              "age                                                          \n",
              "0    112.461538     28007.0      28007.0  46.724231  0.038462\n",
              "1     95.492334     28007.0      28007.0  31.924702  0.003407\n",
              "2     95.362827     28007.0      28007.0  39.640455  0.017801\n",
              "3     93.084734     28007.0      28007.0  36.427836  0.016807\n",
              "4     96.108401     28007.0      28007.0  34.382746  0.009937\n",
              "5     95.520000     28007.0      28007.0  38.024250  0.018333\n",
              "6     92.782143     28007.0      28007.0  38.144357  0.010714\n",
              "U     88.875000     28007.0      28007.0  38.953750  0.000000"
            ]
          },
          "metadata": {},
          "execution_count": 35
        }
      ]
    },
    {
      "cell_type": "code",
      "metadata": {
        "colab": {
          "base_uri": "https://localhost:8080/"
        },
        "id": "aajxzGX7s5Ew",
        "outputId": "563fe299-89a1-46b8-f3c3-3d50ac11384a"
      },
      "source": [
        "banksim_df2.age.value_counts()"
      ],
      "execution_count": 36,
      "outputs": [
        {
          "output_type": "execute_result",
          "data": {
            "text/plain": [
              "2    1910\n",
              "3    1428\n",
              "4    1107\n",
              "5     600\n",
              "1     587\n",
              "6     280\n",
              "0      26\n",
              "U       8\n",
              "Name: age, dtype: int64"
            ]
          },
          "metadata": {},
          "execution_count": 36
        }
      ]
    },
    {
      "cell_type": "code",
      "metadata": {
        "id": "82jQfuBks_vo"
      },
      "source": [
        "# Usando estatísticas para definir o comportamento normal\n",
        "\n",
        "# Criando dois dataframes com dados de fraude e não fraude \n",
        "df_fraud = banksim_df2[banksim_df2.fraud == 1] \n",
        "df_non_fraud = banksim_df2[banksim_df2.fraud == 0]"
      ],
      "execution_count": 37,
      "outputs": []
    },
    {
      "cell_type": "code",
      "metadata": {
        "colab": {
          "base_uri": "https://localhost:8080/",
          "height": 204
        },
        "id": "_QKGns1NH69s",
        "outputId": "368aff8d-228b-4220-8cd9-b6c0e52cd5f5"
      },
      "source": [
        "df_non_fraud.head()"
      ],
      "execution_count": 83,
      "outputs": [
        {
          "output_type": "execute_result",
          "data": {
            "text/html": [
              "<div>\n",
              "<style scoped>\n",
              "    .dataframe tbody tr th:only-of-type {\n",
              "        vertical-align: middle;\n",
              "    }\n",
              "\n",
              "    .dataframe tbody tr th {\n",
              "        vertical-align: top;\n",
              "    }\n",
              "\n",
              "    .dataframe thead th {\n",
              "        text-align: right;\n",
              "    }\n",
              "</style>\n",
              "<table border=\"1\" class=\"dataframe\">\n",
              "  <thead>\n",
              "    <tr style=\"text-align: right;\">\n",
              "      <th></th>\n",
              "      <th>amount</th>\n",
              "    </tr>\n",
              "  </thead>\n",
              "  <tbody>\n",
              "    <tr>\n",
              "      <th>0</th>\n",
              "      <td>72</td>\n",
              "    </tr>\n",
              "    <tr>\n",
              "      <th>1</th>\n",
              "      <td>-53</td>\n",
              "    </tr>\n",
              "    <tr>\n",
              "      <th>2</th>\n",
              "      <td>17</td>\n",
              "    </tr>\n",
              "    <tr>\n",
              "      <th>3</th>\n",
              "      <td>92</td>\n",
              "    </tr>\n",
              "    <tr>\n",
              "      <th>4</th>\n",
              "      <td>-33</td>\n",
              "    </tr>\n",
              "  </tbody>\n",
              "</table>\n",
              "</div>"
            ],
            "text/plain": [
              "   amount\n",
              "0      72\n",
              "1     -53\n",
              "2      17\n",
              "3      92\n",
              "4     -33"
            ]
          },
          "metadata": {},
          "execution_count": 83
        }
      ]
    },
    {
      "cell_type": "code",
      "metadata": {
        "colab": {
          "base_uri": "https://localhost:8080/"
        },
        "id": "bMqajH03HbTk",
        "outputId": "99283ea6-c27b-472d-a148-050235fe733e"
      },
      "source": [
        "# Normalizando os dados:\n",
        "\n",
        "np.random.seed(0)\n",
        "\n",
        "df_fraud = pd.DataFrame(np.random.randint(-100,100,size=(50, 1)), columns=['amount'])\n",
        "\n",
        "def mean_norm(df_input):\n",
        "    return df_input.apply(lambda x: (x-x.mean())/ x.std(), axis=0)\n",
        "\n",
        "df_mean_norm_fraud = mean_norm(df_fraud)\n",
        "print(df_mean_norm_fraud)\n"
      ],
      "execution_count": 80,
      "outputs": [
        {
          "output_type": "stream",
          "name": "stdout",
          "text": [
            "      amount\n",
            "0   1.215869\n",
            "1  -0.870386\n",
            "2   0.297917\n",
            "3   1.549670\n",
            "4  -0.536585\n",
            "5   1.599740\n",
            "6   0.064257\n",
            "7  -1.504607\n",
            "8  -1.304327\n",
            "9  -1.053976\n",
            "10 -0.202784\n",
            "11 -0.486515\n",
            "12 -0.186094\n",
            "13  0.681788\n",
            "14 -0.686795\n",
            "15  1.566360\n",
            "16 -1.003906\n",
            "17 -0.202784\n",
            "18  1.249250\n",
            "19 -0.186094\n"
          ]
        }
      ]
    },
    {
      "cell_type": "code",
      "metadata": {
        "colab": {
          "base_uri": "https://localhost:8080/"
        },
        "id": "RyyDtRIuD9Xu",
        "outputId": "558d2bba-43f2-4b0b-d8db-b70bcf1da992"
      },
      "source": [
        "# Normalizando os dados:\n",
        "\n",
        "np.random.seed(0)\n",
        "\n",
        "df_non_fraud = pd.DataFrame(np.random.randint(-100,100,size=(50, 1)), columns=['amount'])\n",
        "\n",
        "def mean_norm(df_input):\n",
        "    return df_input.apply(lambda x: (x-x.mean())/ x.std(), axis=0)\n",
        "\n",
        "df_mean_norm = mean_norm(df_non_fraud)\n",
        "print(df_mean_norm)\n"
      ],
      "execution_count": 94,
      "outputs": [
        {
          "output_type": "stream",
          "name": "stdout",
          "text": [
            "      amount\n",
            "0   1.074870\n",
            "1  -0.989013\n",
            "2   0.166762\n",
            "3   1.405092\n",
            "4  -0.658791\n",
            "5   1.454625\n",
            "6  -0.064393\n",
            "7  -1.616433\n",
            "8  -1.418300\n",
            "9  -1.170634\n",
            "10 -0.328570\n",
            "11 -0.609258\n",
            "12 -0.312059\n",
            "13  0.546516\n",
            "14 -0.807391\n",
            "15  1.421603\n",
            "16 -1.121101\n",
            "17 -0.328570\n",
            "18  1.107892\n",
            "19 -0.312059\n",
            "20 -0.427637\n",
            "21  0.959293\n",
            "22 -1.352256\n",
            "23 -0.493681\n",
            "24 -0.576236\n",
            "25 -1.616433\n",
            "26  0.678605\n",
            "27  0.133740\n",
            "28  1.487647\n",
            "29 -0.460659\n",
            "30  1.124403\n",
            "31  1.405092\n",
            "32 -0.411125\n",
            "33 -0.130437\n",
            "34  1.157426\n",
            "35 -1.286212\n",
            "36  0.662094\n",
            "37  0.662094\n",
            "38  0.579538\n",
            "39  0.992315\n",
            "40 -1.236679\n",
            "41  1.421603\n",
            "42 -1.616433\n",
            "43  1.289514\n",
            "44  0.331872\n",
            "45 -1.236679\n",
            "46 -1.253190\n",
            "47  0.728138\n",
            "48  0.926271\n",
            "49  0.117229\n"
          ]
        }
      ]
    },
    {
      "cell_type": "code",
      "metadata": {
        "colab": {
          "base_uri": "https://localhost:8080/",
          "height": 279
        },
        "id": "2DXTExcFtGod",
        "outputId": "778b4a4c-19e6-4bc3-f967-827ca3052f47"
      },
      "source": [
        "# Plot histogramas das quantidades de dados em fraude and não-fraude \n",
        "plt.hist(df_mean_norm.amount, alpha=0.5, label='nonfraud')\n",
        "plt.hist(df_mean_norm_fraud.amount, alpha=0.5, label='fraud')\n",
        "plt.xlabel('amount')\n",
        "plt.legend()\n",
        "plt.show()\n"
      ],
      "execution_count": 95,
      "outputs": [
        {
          "output_type": "display_data",
          "data": {
            "image/png": "[encoded data removed]",
            "text/plain": [
              "<Figure size 432x288 with 1 Axes>"
            ]
          },
          "metadata": {
            "needs_background": "light"
          }
        }
      ]
    },
    {
      "cell_type": "code",
      "metadata": {
        "id": "aNe0mPL0ChHH"
      },
      "source": [
        ""
      ],
      "execution_count": null,
      "outputs": []
    },
    {
      "cell_type": "code",
      "metadata": {
        "id": "QKQ5fHUctLdD"
      },
      "source": [
        "# Métodos de clusterização para detectar fraude\n",
        "\n",
        "# Importando pacotes\n",
        "from sklearn.preprocessing import MinMaxScaler\n",
        "from sklearn.cluster import KMeans\n",
        "\n",
        "# Transformamando e escalando os dados\n",
        "X = np.array(df4).astype(np.float)\n",
        "scaler = MinMaxScaler()\n",
        "X_scaled = scaler.fit_transform(X)\n",
        "\n",
        "# Define o modelo k-means e ajusta aos dados\n",
        "kmeans = KMeans(n_clusters=6, random_state=42).fit(X_scaled)"
      ],
      "execution_count": 43,
      "outputs": []
    },
    {
      "cell_type": "code",
      "metadata": {
        "colab": {
          "base_uri": "https://localhost:8080/",
          "height": 294
        },
        "id": "Ydx6wpzutj-J",
        "outputId": "b830fed7-3903-45ab-fe26-83911729201d"
      },
      "source": [
        "clust = range(1, 10) \n",
        "kmeans = [KMeans(n_clusters=i) for i in clust]\n",
        "\n",
        "score = [kmeans[i].fit(X_scaled).score(X_scaled) for i in range(len(kmeans))]\n",
        "\n",
        "plt.plot(clust,score)\n",
        "plt.xlabel('Número de Clusters')\n",
        "plt.ylabel('Score')\n",
        "plt.title('Curva de Elbow')\n",
        "plt.show()"
      ],
      "execution_count": 44,
      "outputs": [
        {
          "output_type": "display_data",
          "data": {
            "image/png": "[encoded data removed]",
            "text/plain": [
              "<Figure size 432x288 with 1 Axes>"
            ]
          },
          "metadata": {
            "needs_background": "light"
          }
        }
      ]
    },
    {
      "cell_type": "code",
      "metadata": {
        "id": "f_QEHtS2t0nx"
      },
      "source": [
        "# Escalando os dados\n",
        "\n",
        "labels = banksim_adj_df.fraud"
      ],
      "execution_count": 45,
      "outputs": []
    },
    {
      "cell_type": "code",
      "metadata": {
        "id": "tJyv5-rvw4mI"
      },
      "source": [
        "cols = ['age', 'amount', 'M', 'es_barsandrestaurants', 'es_contents',\n",
        "        'es_fashion', 'es_food', 'es_health', 'es_home', 'es_hotelservices',\n",
        "        'es_hyper', 'es_leisure', 'es_otherservices', 'es_sportsandtoys',\n",
        "        'es_tech', 'es_transportation', 'es_travel']"
      ],
      "execution_count": 46,
      "outputs": []
    },
    {
      "cell_type": "code",
      "metadata": {
        "id": "nNVQWKBhw9MM"
      },
      "source": [
        "# Definindo os valores do df para X como float\n",
        "X = banksim_adj_df[cols].values.astype(np.float)"
      ],
      "execution_count": 47,
      "outputs": []
    },
    {
      "cell_type": "code",
      "metadata": {
        "colab": {
          "base_uri": "https://localhost:8080/"
        },
        "id": "Zv0LRPI1xB-X",
        "outputId": "d04db216-db13-4f28-e92f-522a6124d368"
      },
      "source": [
        "X.shape"
      ],
      "execution_count": 48,
      "outputs": [
        {
          "output_type": "execute_result",
          "data": {
            "text/plain": [
              "(7189, 17)"
            ]
          },
          "metadata": {},
          "execution_count": 48
        }
      ]
    },
    {
      "cell_type": "code",
      "metadata": {
        "id": "IdacJl1sxFcC"
      },
      "source": [
        "# Define a escala e aplica aos dados\n",
        "scaler = MinMaxScaler()\n",
        "X_scaled = scaler.fit_transform(X)"
      ],
      "execution_count": 57,
      "outputs": []
    },
    {
      "cell_type": "code",
      "metadata": {
        "colab": {
          "base_uri": "https://localhost:8080/"
        },
        "id": "tf45P1iIxIfg",
        "outputId": "0958fbb7-234e-4460-884d-5258854937a8"
      },
      "source": [
        "# Clusterização K-mean\n",
        "\n",
        "# Define o modelo\n",
        "kmeans = MiniBatchKMeans(n_clusters=8, random_state=0)\n",
        "\n",
        "# Ajusta o modelo aos dados escalados\n",
        "kmeans.fit(X_scaled)"
      ],
      "execution_count": 58,
      "outputs": [
        {
          "output_type": "execute_result",
          "data": {
            "text/plain": [
              "MiniBatchKMeans(batch_size=100, compute_labels=True, init='k-means++',\n",
              "                init_size=None, max_iter=100, max_no_improvement=10,\n",
              "                n_clusters=8, n_init=3, random_state=0, reassignment_ratio=0.01,\n",
              "                tol=0.0, verbose=0)"
            ]
          },
          "metadata": {},
          "execution_count": 58
        }
      ]
    },
    {
      "cell_type": "code",
      "metadata": {
        "id": "P6ixdDo4xQQt"
      },
      "source": [
        "# Método Elbow\n",
        "\n",
        "# Define o intervalo de clusters para tentar\n",
        "clustno = range(1, 10)\n",
        "\n",
        "# Executa o MiniBatch Kmeans sobre o número de clusters\n",
        "kmeans = [MiniBatchKMeans(n_clusters=i) for i in clustno]\n",
        "\n",
        "# Obtém o score de cada modelo\n",
        "score = [kmeans[i].fit(X_scaled).score(X_scaled) for i in range(len(kmeans))]"
      ],
      "execution_count": 59,
      "outputs": []
    },
    {
      "cell_type": "code",
      "metadata": {
        "colab": {
          "base_uri": "https://localhost:8080/",
          "height": 294
        },
        "id": "GwtvbzJWxai4",
        "outputId": "57d53178-910b-4619-926b-a64e25fc35f2"
      },
      "source": [
        "# Plot o modelo e seus respectivos scores\n",
        "plt.plot(clustno, score)\n",
        "plt.xlabel('Número de Clusters')\n",
        "plt.ylabel('Score')\n",
        "plt.title('Curva de Elbow')\n",
        "plt.show()"
      ],
      "execution_count": 60,
      "outputs": [
        {
          "output_type": "display_data",
          "data": {
            "image/png": "[encoded data removed]",
            "text/plain": [
              "<Figure size 432x288 with 1 Axes>"
            ]
          },
          "metadata": {
            "needs_background": "light"
          }
        }
      ]
    },
    {
      "cell_type": "code",
      "metadata": {
        "id": "5nh2BslDxf2f"
      },
      "source": [
        "# Atribundo fraude x não-fraude\n",
        "\n",
        "\n",
        "# Sinalizando Fraude baseada na distância do Centroid\n",
        "\n",
        "# Executa o modelo kmeans nos dados escalados\n",
        "kmeans = KMeans(n_clusters=6, random_state=42,n_jobs=-1).fit(X_scaled)\n",
        "\n",
        "# Obtém o número de cluster de cada datapoint\n",
        "X_clusters = kmeans.predict(X_scaled)\n",
        "\n",
        "# Salva o cluster centroids\n",
        "X_clusters_centers = kmeans.cluster_centers_\n",
        "\n",
        "# Calcula a distância ao cluster centroid para cada ponto\n",
        "dist = [np.linalg.norm(x-y) for x,y in zip(X_scaled, X_clusters_centers[X_clusters])]\n",
        "\n",
        "# Cria previsão baseada na distância\n",
        "km_y_pred = np.array(dist)\n",
        "km_y_pred[dist>=np.percentile(dist, 93)] = 1\n",
        "km_y_pred[dist<np.percentile(dist, 93)] = 0"
      ],
      "execution_count": 61,
      "outputs": []
    },
    {
      "cell_type": "code",
      "metadata": {
        "id": "GqMd6mH9x2XO"
      },
      "source": [
        "# Detectando outliers (anomalias)\n",
        "\n",
        "# Separando os dados em treino e teste\n",
        "X_train, X_test, y_train, y_test = train_test_split(X_scaled, labels, test_size=0.3, random_state=0)\n",
        "\n",
        "# Define modelo K-means\n",
        "kmeans = MiniBatchKMeans(n_clusters=3, random_state=42).fit(X_train)\n",
        "\n",
        "# Obtém predições e calcula a distância do cluster ao centroid\n",
        "X_test_clusters = kmeans.predict(X_test)\n",
        "X_test_clusters_centers = kmeans.cluster_centers_\n",
        "dist = [np.linalg.norm(x-y) for x, y in zip(X_test, X_test_clusters_centers[X_test_clusters])]\n",
        "\n",
        "# Cria predições de fraude baseado em anomalias no cluster\n",
        "km_y_pred = np.array(dist)\n",
        "km_y_pred[dist >= np.percentile(dist, 95)] = 1\n",
        "km_y_pred[dist < np.percentile(dist, 95)] = 0"
      ],
      "execution_count": null,
      "outputs": []
    },
    {
      "cell_type": "code",
      "metadata": {
        "id": "mNlOYSyyx-K2"
      },
      "source": [
        "# Verificando resultados do modelo\n",
        "\n",
        "def plot_confusion_matrix(cm, classes=['Not Fraud', 'Fraud'],\n",
        "                          normalize=False,\n",
        "                          title='Fraud Confusion matrix',\n",
        "                          cmap=plt.cm.Blues):\n",
        "    \"\"\"\n",
        "    This function prints and plots the confusion matrix.\n",
        "    Normalization can be applied by setting `normalize=True`.\n",
        "    From:\n",
        "        http://scikit-learn.org/stable/auto_examples/model_selection/plot_confusion_matrix.html#sphx-glr-auto-\n",
        "        examples-model-selection-plot-confusion-matrix-py\n",
        "    \"\"\"\n",
        "    if normalize:\n",
        "        cm = cm.astype('float') / cm.sum(axis=1)[:, np.newaxis]\n",
        "        print(\"Normalized confusion matrix\")\n",
        "    else:\n",
        "        print('Confusion matrix, without normalization')\n",
        "\n",
        "    # print(cm)\n",
        "\n",
        "    plt.imshow(cm, interpolation='nearest', cmap=cmap)\n",
        "    plt.title(title)\n",
        "    plt.colorbar()\n",
        "    tick_marks = np.arange(len(classes))\n",
        "    plt.xticks(tick_marks, classes, rotation=45)\n",
        "    plt.yticks(tick_marks, classes)\n",
        "\n",
        "    fmt = '.2f' if normalize else 'd'\n",
        "    thresh = cm.max() / 2.\n",
        "    for i, j in product(range(cm.shape[0]), range(cm.shape[1])):\n",
        "        plt.text(j, i, format(cm[i, j], fmt),\n",
        "                 horizontalalignment=\"center\",\n",
        "                 color=\"white\" if cm[i, j] > thresh else \"black\")\n",
        "\n",
        "    plt.tight_layout()\n",
        "    plt.ylabel('True label')\n",
        "    plt.xlabel('Predicted label')\n",
        "    plt.show()"
      ],
      "execution_count": null,
      "outputs": []
    },
    {
      "cell_type": "code",
      "metadata": {
        "colab": {
          "base_uri": "https://localhost:8080/"
        },
        "id": "MzCsWlkYyP8h",
        "outputId": "95830119-0ece-4399-e42c-ee34dc8e0eee"
      },
      "source": [
        "# Obtém o score ROC\n",
        "roc_auc_score(y_test, km_y_pred)"
      ],
      "execution_count": null,
      "outputs": [
        {
          "output_type": "execute_result",
          "data": {
            "text/plain": [
              "0.8109115999408585"
            ]
          },
          "metadata": {},
          "execution_count": 145
        }
      ]
    },
    {
      "cell_type": "code",
      "metadata": {
        "colab": {
          "base_uri": "https://localhost:8080/",
          "height": 328
        },
        "id": "qNjUNdWTyS1m",
        "outputId": "00cacdfd-d9c7-4324-acf2-da18601aa42d"
      },
      "source": [
        "# Cria a matriz de confusão\n",
        "km_cm = confusion_matrix(y_test, km_y_pred)\n",
        "\n",
        "# Plot a matris de confusão para visualizar o resultado \n",
        "plot_confusion_matrix(km_cm)"
      ],
      "execution_count": null,
      "outputs": [
        {
          "output_type": "stream",
          "name": "stdout",
          "text": [
            "Confusion matrix, without normalization\n"
          ]
        },
        {
          "output_type": "display_data",
          "data": {
            "image/png": "[encoded data removed]",
            "text/plain": [
              "<Figure size 432x288 with 2 Axes>"
            ]
          },
          "metadata": {
            "needs_background": "light"
          }
        }
      ]
    },
    {
      "cell_type": "code",
      "metadata": {
        "id": "lDH9M8xmycrp"
      },
      "source": [
        "# Métodos alternativos de clusterização para detecção de fraude\n",
        "\n",
        "# Implementando o DBSCAN\n",
        "\n",
        "from sklearn.cluster import DBSCAN\n",
        "db = DBSCAN(eps=0.5, min_samples=10, n_jobs=-1).fit(X_scaled)"
      ],
      "execution_count": null,
      "outputs": []
    },
    {
      "cell_type": "code",
      "metadata": {
        "id": "tc1NYV-NypuH"
      },
      "source": [
        "# Obtendo as etiquetas do cluster (aka numbers)\n",
        "pred_labels = db.labels_"
      ],
      "execution_count": null,
      "outputs": []
    },
    {
      "cell_type": "code",
      "metadata": {
        "id": "JnoOebUZyuMF"
      },
      "source": [
        "# Conta o número total de clusters\n",
        "n_clusters_ = len(set(pred_labels)) - (1 if -1 in pred_labels else 0)"
      ],
      "execution_count": null,
      "outputs": []
    },
    {
      "cell_type": "code",
      "metadata": {
        "colab": {
          "base_uri": "https://localhost:8080/"
        },
        "id": "Vmkub-SfyyuN",
        "outputId": "eea364b8-33e8-4ed0-e565-e245d87e9e1e"
      },
      "source": [
        "# Imprime os resultados do modelo\n",
        "print(f'Estimated number of clusters: {n_clusters_}')"
      ],
      "execution_count": null,
      "outputs": [
        {
          "output_type": "stream",
          "name": "stdout",
          "text": [
            "Estimated number of clusters: 22\n"
          ]
        }
      ]
    },
    {
      "cell_type": "code",
      "metadata": {
        "colab": {
          "base_uri": "https://localhost:8080/"
        },
        "id": "WsurP6qpzAIc",
        "outputId": "47f357ff-1885-4aed-a7e0-1df41fdb0d56"
      },
      "source": [
        "# Obtém a amostra de contagem em cada cluster \n",
        "counts = np.bincount(pred_labels[pred_labels>=0])\n",
        "print(counts)"
      ],
      "execution_count": null,
      "outputs": [
        {
          "output_type": "stream",
          "name": "stdout",
          "text": [
            "[3252  145 2714   55  174  119  122   98   54   13   76   43   25   51\n",
            "   47   42   15   15   19   23   18   10]\n"
          ]
        }
      ]
    },
    {
      "cell_type": "code",
      "metadata": {
        "id": "rj0LCSbfzFA1"
      },
      "source": [
        "# DB scan\n",
        "\n",
        "# Initializando e ajustando p modelo DBscan\n",
        "db = DBSCAN(eps=0.9, min_samples=10, n_jobs=-1).fit(X_scaled)\n",
        "\n",
        "# Obtém as etiquetas preditivas e calcula o número de clusters\n",
        "pred_labels = db.labels_\n",
        "n_clusters = len(set(pred_labels)) - (1 if -1 in labels else 0)"
      ],
      "execution_count": null,
      "outputs": []
    },
    {
      "cell_type": "code",
      "metadata": {
        "colab": {
          "base_uri": "https://localhost:8080/"
        },
        "id": "_-ZDteo8zPbN",
        "outputId": "7874ece3-d00c-4b19-f547-5f31ace5e0ce"
      },
      "source": [
        "# Imprime a métrica de perfornance do DBscan\n",
        "print(f'Estimated number of clusters: {n_clusters}')\n",
        "print(f'Homogeneity: {homogeneity_score(labels, pred_labels):0.3f}')\n",
        "print(f'Silhouette Coefficient: {silhouette_score(X_scaled, pred_labels):0.3f}')"
      ],
      "execution_count": null,
      "outputs": [
        {
          "output_type": "stream",
          "name": "stdout",
          "text": [
            "Estimated number of clusters: 23\n",
            "Homogeneity: 0.612\n",
            "Silhouette Coefficient: 0.713\n"
          ]
        }
      ]
    },
    {
      "cell_type": "code",
      "metadata": {
        "colab": {
          "base_uri": "https://localhost:8080/"
        },
        "id": "qKUEf0wRzXvI",
        "outputId": "130ad2ff-36be-4d6c-edfc-c7b3108ad749"
      },
      "source": [
        "# Acessando os menores clusters\n",
        "\n",
        "# Conta observações em cada número do cluster\n",
        "counts = np.bincount(pred_labels[pred_labels >= 0])\n",
        "print(counts)"
      ],
      "execution_count": null,
      "outputs": [
        {
          "output_type": "stream",
          "name": "stdout",
          "text": [
            "[3252  145 2714   55  174  119  122   98   54   15   76   15   43   25\n",
            "   51   47   42   15   25   20   19   10]\n"
          ]
        }
      ]
    },
    {
      "cell_type": "code",
      "metadata": {
        "id": "5ZqeXdsfzhON"
      },
      "source": [
        "# Ordena a amostra de contagem de clusters e obtém as 3 menores\n",
        "smallest_clusters = np.argsort(counts)[:3]"
      ],
      "execution_count": null,
      "outputs": []
    },
    {
      "cell_type": "code",
      "metadata": {
        "colab": {
          "base_uri": "https://localhost:8080/"
        },
        "id": "zcZX1HLWzkNq",
        "outputId": "b55bcefd-6ba5-447b-c938-eca94194769c"
      },
      "source": [
        "print(f'The smallest clusters are clusters: {smallest_clusters}')"
      ],
      "execution_count": null,
      "outputs": [
        {
          "output_type": "stream",
          "name": "stdout",
          "text": [
            "The smallest clusters are clusters: [21 17  9]\n"
          ]
        }
      ]
    },
    {
      "cell_type": "code",
      "metadata": {
        "colab": {
          "base_uri": "https://localhost:8080/"
        },
        "id": "i6e8jBywzq7U",
        "outputId": "0d9cbaab-f015-47d8-a04c-57d3fd158e31"
      },
      "source": [
        "# Imprime a contagem apenas dos menores clusters\n",
        "print(f'Their counts are: {counts[smallest_clusters]}')"
      ],
      "execution_count": null,
      "outputs": [
        {
          "output_type": "stream",
          "name": "stdout",
          "text": [
            "Their counts are: [10 15 15]\n"
          ]
        }
      ]
    },
    {
      "cell_type": "code",
      "metadata": {
        "id": "tBM6QPWaztBu"
      },
      "source": [
        "# Verifica os resultados\n",
        "\n",
        "# Cria um dataframe com a predição de números de clusters e etiqueta de fraude \n",
        "df6 = pd.DataFrame({'clusternr':pred_labels,'fraud':labels})\n",
        "\n",
        "# Cria uma condição de sinalização de fraude para os menores clusters \n",
        "df6['predicted_fraud'] = np.where((df6['clusternr'].isin([21, 17, 9])), 1 , 0)"
      ],
      "execution_count": null,
      "outputs": []
    },
    {
      "cell_type": "code",
      "metadata": {
        "colab": {
          "base_uri": "https://localhost:8080/"
        },
        "id": "9HfRxwl7z28g",
        "outputId": "8c0ff225-764e-4fe3-83f9-3543e98fd3fa"
      },
      "source": [
        "# Executa um crosstab nos resultados ( tabulação cruzada )\n",
        "print(pd.crosstab(df6['fraud'], df6['predicted_fraud'], rownames=['Actual Fraud'], colnames=['Flagged Fraud']))"
      ],
      "execution_count": null,
      "outputs": [
        {
          "output_type": "stream",
          "name": "stdout",
          "text": [
            "Flagged Fraud     0   1\n",
            "Actual Fraud           \n",
            "0              6973  16\n",
            "1               176  24\n"
          ]
        }
      ]
    },
    {
      "cell_type": "markdown",
      "metadata": {
        "id": "VmAk7dFk34Nm"
      },
      "source": [
        "### **Fraud detection using text**"
      ]
    },
    {
      "cell_type": "code",
      "metadata": {
        "id": "Oz5buNka4DUn"
      },
      "source": [
        "# Contagem de palavras para sinalizar fraude com pandas\n",
        "# Usando um operador de strings para encontrar palavras\n",
        "# Busca de palavras em dataframes"
      ],
      "execution_count": null,
      "outputs": []
    },
    {
      "cell_type": "code",
      "metadata": {
        "id": "3jSFgE-70FPS"
      },
      "source": [
        "df5 = pd.read_csv(enron_emails_clean_file)"
      ],
      "execution_count": 180,
      "outputs": []
    },
    {
      "cell_type": "code",
      "metadata": {
        "id": "Z9YAAjEl0RN8"
      },
      "source": [
        "mask = df5['clean_content'].str.contains('sell enron stock', na=False)"
      ],
      "execution_count": 181,
      "outputs": []
    },
    {
      "cell_type": "code",
      "metadata": {
        "colab": {
          "base_uri": "https://localhost:8080/",
          "height": 202
        },
        "id": "21PfXFEq1FpH",
        "outputId": "380e0b86-31f9-4def-dd7d-5e7678dcef34"
      },
      "source": [
        "# Seleciona os dados do df usando mask\n",
        "df5[mask]"
      ],
      "execution_count": 182,
      "outputs": [
        {
          "output_type": "execute_result",
          "data": {
            "text/html": [
              "<div>\n",
              "<style scoped>\n",
              "    .dataframe tbody tr th:only-of-type {\n",
              "        vertical-align: middle;\n",
              "    }\n",
              "\n",
              "    .dataframe tbody tr th {\n",
              "        vertical-align: top;\n",
              "    }\n",
              "\n",
              "    .dataframe thead th {\n",
              "        text-align: right;\n",
              "    }\n",
              "</style>\n",
              "<table border=\"1\" class=\"dataframe\">\n",
              "  <thead>\n",
              "    <tr style=\"text-align: right;\">\n",
              "      <th></th>\n",
              "      <th>Message-ID</th>\n",
              "      <th>From</th>\n",
              "      <th>To</th>\n",
              "      <th>Date</th>\n",
              "      <th>content</th>\n",
              "      <th>clean_content</th>\n",
              "    </tr>\n",
              "  </thead>\n",
              "  <tbody>\n",
              "    <tr>\n",
              "      <th>154</th>\n",
              "      <td>&lt;6336501.1075841154311.JavaMail.evans@thyme&gt;</td>\n",
              "      <td>('sarah.palmer@enron.com')</td>\n",
              "      <td>('sarah.palmer@enron.com')</td>\n",
              "      <td>2002-02-01 14:53:35</td>\n",
              "      <td>\\nJoint Venture: A 1997 Enron Meeting Belies O...</td>\n",
              "      <td>joint venture enron meeting belies officers cl...</td>\n",
              "    </tr>\n",
              "  </tbody>\n",
              "</table>\n",
              "</div>"
            ],
            "text/plain": [
              "                                       Message-ID                        From  \\\n",
              "154  <6336501.1075841154311.JavaMail.evans@thyme>  ('sarah.palmer@enron.com')   \n",
              "\n",
              "                             To                 Date  \\\n",
              "154  ('sarah.palmer@enron.com')  2002-02-01 14:53:35   \n",
              "\n",
              "                                               content  \\\n",
              "154  \\nJoint Venture: A 1997 Enron Meeting Belies O...   \n",
              "\n",
              "                                         clean_content  \n",
              "154  joint venture enron meeting belies officers cl...  "
            ]
          },
          "metadata": {},
          "execution_count": 182
        }
      ]
    },
    {
      "cell_type": "code",
      "metadata": {
        "colab": {
          "base_uri": "https://localhost:8080/",
          "height": 479
        },
        "id": "216ROA2J1O9z",
        "outputId": "56da2e56-cafd-4c54-8ac6-74f72ce842d1"
      },
      "source": [
        "# Usando uma lista de termos\n",
        "\n",
        "# Cria uma lista de termos para pesquisar\n",
        "searchfor = ['enron stock', 'sell stock', 'stock bonus', 'sell enron stock']\n",
        "\n",
        "# Filtra e-mails limpos na lista searchfor e seleciona do df \n",
        "filtered_emails = df5[df5.clean_content.str.contains('|'.join(searchfor), na=False)]\n",
        "filtered_emails.head()"
      ],
      "execution_count": 183,
      "outputs": [
        {
          "output_type": "execute_result",
          "data": {
            "text/html": [
              "<div>\n",
              "<style scoped>\n",
              "    .dataframe tbody tr th:only-of-type {\n",
              "        vertical-align: middle;\n",
              "    }\n",
              "\n",
              "    .dataframe tbody tr th {\n",
              "        vertical-align: top;\n",
              "    }\n",
              "\n",
              "    .dataframe thead th {\n",
              "        text-align: right;\n",
              "    }\n",
              "</style>\n",
              "<table border=\"1\" class=\"dataframe\">\n",
              "  <thead>\n",
              "    <tr style=\"text-align: right;\">\n",
              "      <th></th>\n",
              "      <th>Message-ID</th>\n",
              "      <th>From</th>\n",
              "      <th>To</th>\n",
              "      <th>Date</th>\n",
              "      <th>content</th>\n",
              "      <th>clean_content</th>\n",
              "    </tr>\n",
              "  </thead>\n",
              "  <tbody>\n",
              "    <tr>\n",
              "      <th>0</th>\n",
              "      <td>&lt;8345058.1075840404046.JavaMail.evans@thyme&gt;</td>\n",
              "      <td>('advdfeedback@investools.com')</td>\n",
              "      <td>('advdfeedback@investools.com')</td>\n",
              "      <td>2002-01-29 23:20:55</td>\n",
              "      <td>INVESTools Advisory\\nA Free Digest of Trusted ...</td>\n",
              "      <td>investools advisory free digest trusted invest...</td>\n",
              "    </tr>\n",
              "    <tr>\n",
              "      <th>1</th>\n",
              "      <td>&lt;1512159.1075863666797.JavaMail.evans@thyme&gt;</td>\n",
              "      <td>('richard.sanders@enron.com')</td>\n",
              "      <td>('richard.sanders@enron.com')</td>\n",
              "      <td>2000-09-20 19:07:00</td>\n",
              "      <td>----- Forwarded by Richard B Sanders/HOU/ECT o...</td>\n",
              "      <td>forwarded richard b sanders hou ect pm justin ...</td>\n",
              "    </tr>\n",
              "    <tr>\n",
              "      <th>2</th>\n",
              "      <td>&lt;26118676.1075862176383.JavaMail.evans@thyme&gt;</td>\n",
              "      <td>('m..love@enron.com')</td>\n",
              "      <td>('m..love@enron.com')</td>\n",
              "      <td>2001-10-30 16:15:17</td>\n",
              "      <td>hey you are not wearing your target purple shi...</td>\n",
              "      <td>hey wearing target purple shirt today mine wan...</td>\n",
              "    </tr>\n",
              "    <tr>\n",
              "      <th>3</th>\n",
              "      <td>&lt;10369289.1075860831062.JavaMail.evans@thyme&gt;</td>\n",
              "      <td>('leslie.milosevich@kp.org')</td>\n",
              "      <td>('leslie.milosevich@kp.org')</td>\n",
              "      <td>2002-01-30 17:54:18</td>\n",
              "      <td>Leslie Milosevich\\n1042 Santa Clara Avenue\\nAl...</td>\n",
              "      <td>leslie milosevich santa clara avenue alameda c...</td>\n",
              "    </tr>\n",
              "    <tr>\n",
              "      <th>4</th>\n",
              "      <td>&lt;26728895.1075860815046.JavaMail.evans@thyme&gt;</td>\n",
              "      <td>('rtwait@graphicaljazz.com')</td>\n",
              "      <td>('rtwait@graphicaljazz.com')</td>\n",
              "      <td>2002-01-30 19:36:01</td>\n",
              "      <td>Rini Twait\\n1010 E 5th Ave\\nLongmont, CO 80501...</td>\n",
              "      <td>rini twait e th ave longmont co rtwait graphic...</td>\n",
              "    </tr>\n",
              "  </tbody>\n",
              "</table>\n",
              "</div>"
            ],
            "text/plain": [
              "                                      Message-ID  \\\n",
              "0   <8345058.1075840404046.JavaMail.evans@thyme>   \n",
              "1   <1512159.1075863666797.JavaMail.evans@thyme>   \n",
              "2  <26118676.1075862176383.JavaMail.evans@thyme>   \n",
              "3  <10369289.1075860831062.JavaMail.evans@thyme>   \n",
              "4  <26728895.1075860815046.JavaMail.evans@thyme>   \n",
              "\n",
              "                              From                               To  \\\n",
              "0  ('advdfeedback@investools.com')  ('advdfeedback@investools.com')   \n",
              "1    ('richard.sanders@enron.com')    ('richard.sanders@enron.com')   \n",
              "2            ('m..love@enron.com')            ('m..love@enron.com')   \n",
              "3     ('leslie.milosevich@kp.org')     ('leslie.milosevich@kp.org')   \n",
              "4     ('rtwait@graphicaljazz.com')     ('rtwait@graphicaljazz.com')   \n",
              "\n",
              "                  Date                                            content  \\\n",
              "0  2002-01-29 23:20:55  INVESTools Advisory\\nA Free Digest of Trusted ...   \n",
              "1  2000-09-20 19:07:00  ----- Forwarded by Richard B Sanders/HOU/ECT o...   \n",
              "2  2001-10-30 16:15:17  hey you are not wearing your target purple shi...   \n",
              "3  2002-01-30 17:54:18  Leslie Milosevich\\n1042 Santa Clara Avenue\\nAl...   \n",
              "4  2002-01-30 19:36:01  Rini Twait\\n1010 E 5th Ave\\nLongmont, CO 80501...   \n",
              "\n",
              "                                       clean_content  \n",
              "0  investools advisory free digest trusted invest...  \n",
              "1  forwarded richard b sanders hou ect pm justin ...  \n",
              "2  hey wearing target purple shirt today mine wan...  \n",
              "3  leslie milosevich santa clara avenue alameda c...  \n",
              "4  rini twait e th ave longmont co rtwait graphic...  "
            ]
          },
          "metadata": {},
          "execution_count": 183
        }
      ]
    },
    {
      "cell_type": "code",
      "metadata": {
        "colab": {
          "base_uri": "https://localhost:8080/"
        },
        "id": "FIH6knbK1fHK",
        "outputId": "b99e3cad-2ca9-401d-f15a-cfa6c3f87558"
      },
      "source": [
        "# Cria uma sinalização\n",
        "\n",
        "# Cria uma variável de sinalização quando os e-mails combinam com os termos searchfor\n",
        "df5['flag'] = np.where((df5['clean_content'].str.contains('|'.join(searchfor)) == True), 1, 0)\n",
        "\n",
        "# Count the values of the flag variable\n",
        "count = df5['flag'].value_counts()\n",
        "print(count)"
      ],
      "execution_count": 184,
      "outputs": [
        {
          "output_type": "stream",
          "name": "stdout",
          "text": [
            "0    1776\n",
            "1     314\n",
            "Name: flag, dtype: int64\n"
          ]
        }
      ]
    },
    {
      "cell_type": "code",
      "metadata": {
        "id": "JCy8D4Zb-rn1"
      },
      "source": [
        "from nltk import word_tokenize\n",
        "from nltk.corpus import stopwords \n",
        "import string"
      ],
      "execution_count": 185,
      "outputs": []
    },
    {
      "cell_type": "code",
      "metadata": {
        "colab": {
          "base_uri": "https://localhost:8080/"
        },
        "id": "Hs_rr3F7-0yd",
        "outputId": "865fef4a-f1b6-47cd-d85f-4c7a2ffe8b1f"
      },
      "source": [
        "import nltk\n",
        "nltk.download('stopwords')"
      ],
      "execution_count": 186,
      "outputs": [
        {
          "output_type": "stream",
          "name": "stdout",
          "text": [
            "[nltk_data] Downloading package stopwords to /root/nltk_data...\n",
            "[nltk_data]   Unzipping corpora/stopwords.zip.\n"
          ]
        },
        {
          "output_type": "execute_result",
          "data": {
            "text/plain": [
              "True"
            ]
          },
          "metadata": {},
          "execution_count": 186
        }
      ]
    },
    {
      "cell_type": "code",
      "metadata": {
        "id": "189RsXq--oVc"
      },
      "source": [
        "from nltk.stem.wordnet import WordNetLemmatizer\n",
        "from nltk.stem.porter import PorterStemmer"
      ],
      "execution_count": 187,
      "outputs": []
    },
    {
      "cell_type": "code",
      "metadata": {
        "id": "zewV9l1E2978"
      },
      "source": [
        "# Removendo stopwords\n",
        "# Definindo stopwords para excluír\n",
        "stop = set(stopwords.words('english'))\n",
        "stop.update((\"to\", \"cc\", \"subject\", \"http\", \"from\", \"sent\", \"ect\", \"u\", \"fwd\", \"www\", \"com\", 'html'))\n",
        "\n",
        "# Definindo pontuações a excluir e  lemmatizer (lema de uma palavra depende de seu significado e contexto. análise morfológica de palavras )\n",
        "exclude = set(string.punctuation)"
      ],
      "execution_count": 188,
      "outputs": []
    },
    {
      "cell_type": "code",
      "metadata": {
        "id": "4UqIs2hu3aIM"
      },
      "source": [
        "# Limpando os dados de texto\n",
        "# Imporntando o lemmatizer do nltk\n",
        "lemma = WordNetLemmatizer()\n",
        "\n",
        "def clean(text, stop):\n",
        "    text = str(text).rstrip()\n",
        "    stop_free = \" \".join([i for i in text.lower().split() if((i not in stop) and (not i.isdigit()))])\n",
        "    punc_free = ''.join(i for i in stop_free if i not in exclude)\n",
        "    normalized = \" \".join(lemma.lemmatize(i) for i in punc_free.split())      \n",
        "    return normalized"
      ],
      "execution_count": 189,
      "outputs": []
    },
    {
      "cell_type": "code",
      "metadata": {
        "colab": {
          "base_uri": "https://localhost:8080/"
        },
        "id": "FR_QlvX1_tlE",
        "outputId": "d22e8d60-3c60-4119-a9d4-edbec0990fe5"
      },
      "source": [
        "import nltk\n",
        "nltk.download('wordnet')"
      ],
      "execution_count": 190,
      "outputs": [
        {
          "output_type": "stream",
          "name": "stdout",
          "text": [
            "[nltk_data] Downloading package wordnet to /root/nltk_data...\n",
            "[nltk_data]   Unzipping corpora/wordnet.zip.\n"
          ]
        },
        {
          "output_type": "execute_result",
          "data": {
            "text/plain": [
              "True"
            ]
          },
          "metadata": {},
          "execution_count": 190
        }
      ]
    },
    {
      "cell_type": "code",
      "metadata": {
        "id": "u0bS3hU23deN",
        "colab": {
          "base_uri": "https://localhost:8080/"
        },
        "outputId": "08650cf8-9421-4932-824c-a60f5fa3efd4"
      },
      "source": [
        "# Limpa os e-mails no df e imprime os resutlados\n",
        "text_clean=[]\n",
        "for text in df5['clean_content']:\n",
        "    text_clean.append(clean(text, stop).split()) \n",
        "\n",
        "text_clean[0][:10]"
      ],
      "execution_count": 191,
      "outputs": [
        {
          "output_type": "execute_result",
          "data": {
            "text/plain": [
              "['investools',\n",
              " 'advisory',\n",
              " 'free',\n",
              " 'digest',\n",
              " 'trusted',\n",
              " 'investment',\n",
              " 'advice',\n",
              " 'unsubscribe',\n",
              " 'free',\n",
              " 'newsletter']"
            ]
          },
          "metadata": {},
          "execution_count": 191
        }
      ]
    },
    {
      "cell_type": "code",
      "metadata": {
        "id": "8grDQ2IeAc0Y"
      },
      "source": [
        "# Modelagem de tópico sobre fraude\n",
        "\n",
        "from gensim import corpora\n",
        "import gensim"
      ],
      "execution_count": 193,
      "outputs": []
    },
    {
      "cell_type": "code",
      "metadata": {
        "id": "V23qgIQZAQNI"
      },
      "source": [
        "# Cria o dicionário e a coleção\n",
        "# Define o dicionário\n",
        "dictionary = corpora.Dictionary(text_clean)\n",
        "\n",
        "# Define a coleção \n",
        "corpus = [dictionary.doc2bow(text) for text in text_clean]"
      ],
      "execution_count": 192,
      "outputs": []
    },
    {
      "cell_type": "code",
      "metadata": {
        "colab": {
          "base_uri": "https://localhost:8080/"
        },
        "id": "kllELBOEBW8N",
        "outputId": "3d441abb-426c-4b27-cc31-79ab5c68be04"
      },
      "source": [
        "print(dictionary)"
      ],
      "execution_count": 194,
      "outputs": [
        {
          "output_type": "stream",
          "name": "stdout",
          "text": [
            "Dictionary(33980 unique tokens: ['account', 'accurate', 'acquiring', 'acre', 'address']...)\n"
          ]
        }
      ]
    },
    {
      "cell_type": "code",
      "metadata": {
        "colab": {
          "base_uri": "https://localhost:8080/"
        },
        "id": "Vc1ncVWSBaeB",
        "outputId": "a5649742-f1db-4ee9-f079-deb3b628d68b"
      },
      "source": [
        "corpus[0][:10]"
      ],
      "execution_count": 195,
      "outputs": [
        {
          "output_type": "execute_result",
          "data": {
            "text/plain": [
              "[(0, 2),\n",
              " (1, 1),\n",
              " (2, 1),\n",
              " (3, 1),\n",
              " (4, 1),\n",
              " (5, 6),\n",
              " (6, 1),\n",
              " (7, 2),\n",
              " (8, 4),\n",
              " (9, 1)]"
            ]
          },
          "metadata": {},
          "execution_count": 195
        }
      ]
    },
    {
      "cell_type": "code",
      "metadata": {
        "colab": {
          "base_uri": "https://localhost:8080/"
        },
        "id": "nBJfOXXBBgbT",
        "outputId": "fd182002-2590-4112-bc13-ea0505939bbd"
      },
      "source": [
        "# Modelo LDA\n",
        "\n",
        "# Define o modelo LDA\n",
        "ldamodel = gensim.models.ldamodel.LdaModel(corpus, num_topics=5, id2word=dictionary, passes=5)\n",
        "\n",
        "# Salva os tópicos e as 5 principais palavras\n",
        "topics = ldamodel.print_topics(num_words=5)\n",
        "\n",
        "# Imprime os resultados\n",
        "for topic in topics:\n",
        "    print(topic)"
      ],
      "execution_count": 196,
      "outputs": [
        {
          "output_type": "stream",
          "name": "stdout",
          "text": [
            "(0, '0.012*\"bakernet\" + 0.007*\"mailto\" + 0.005*\"aaaaaaaaaaaaaaaaaaaaaaaaaaaaaaaaaaaaaaaaaaaaaaaaaaaaaaaaaaaaaaaaaaaaaaaaaaaa\" + 0.004*\"date\" + 0.004*\"alert\"')\n",
            "(1, '0.031*\"image\" + 0.009*\"se\" + 0.008*\"ne\" + 0.008*\"sp\" + 0.008*\"wscc\"')\n",
            "(2, '0.035*\"enron\" + 0.008*\"company\" + 0.005*\"message\" + 0.005*\"development\" + 0.004*\"employee\"')\n",
            "(3, '0.029*\"enron\" + 0.013*\"hou\" + 0.010*\"pm\" + 0.008*\"please\" + 0.007*\"e\"')\n",
            "(4, '0.043*\"td\" + 0.031*\"net\" + 0.029*\"money\" + 0.028*\"tr\" + 0.025*\"width\"')\n"
          ]
        }
      ]
    },
    {
      "cell_type": "code",
      "metadata": {
        "colab": {
          "base_uri": "https://localhost:8080/",
          "height": 957
        },
        "id": "qE7hJOPtC-KV",
        "outputId": "5afb6ef5-1089-4af9-af97-4f4eb980c08f"
      },
      "source": [
        "pip install pyLDAvis"
      ],
      "execution_count": 197,
      "outputs": [
        {
          "output_type": "stream",
          "name": "stdout",
          "text": [
            "Collecting pyLDAvis\n",
            "  Downloading pyLDAvis-3.3.1.tar.gz (1.7 MB)\n",
            "\u001b[K     |████████████████████████████████| 1.7 MB 4.1 MB/s \n",
            "\u001b[?25h  Installing build dependencies ... \u001b[?25l\u001b[?25hdone\n",
            "  Getting requirements to build wheel ... \u001b[?25l\u001b[?25hdone\n",
            "  Installing backend dependencies ... \u001b[?25l\u001b[?25hdone\n",
            "    Preparing wheel metadata ... \u001b[?25l\u001b[?25hdone\n",
            "Collecting numpy>=1.20.0\n",
            "  Downloading numpy-1.21.2-cp37-cp37m-manylinux_2_12_x86_64.manylinux2010_x86_64.whl (15.7 MB)\n",
            "\u001b[K     |████████████████████████████████| 15.7 MB 182 kB/s \n",
            "\u001b[?25hRequirement already satisfied: gensim in /usr/local/lib/python3.7/dist-packages (from pyLDAvis) (3.6.0)\n",
            "Collecting pandas>=1.2.0\n",
            "  Downloading pandas-1.3.3-cp37-cp37m-manylinux_2_17_x86_64.manylinux2014_x86_64.whl (11.3 MB)\n",
            "\u001b[K     |████████████████████████████████| 11.3 MB 32.7 MB/s \n",
            "\u001b[?25hRequirement already satisfied: scikit-learn in /usr/local/lib/python3.7/dist-packages (from pyLDAvis) (0.22.2.post1)\n",
            "Requirement already satisfied: numexpr in /usr/local/lib/python3.7/dist-packages (from pyLDAvis) (2.7.3)\n",
            "Requirement already satisfied: jinja2 in /usr/local/lib/python3.7/dist-packages (from pyLDAvis) (2.11.3)\n",
            "Requirement already satisfied: scipy in /usr/local/lib/python3.7/dist-packages (from pyLDAvis) (1.4.1)\n",
            "Requirement already satisfied: sklearn in /usr/local/lib/python3.7/dist-packages (from pyLDAvis) (0.0)\n",
            "Collecting funcy\n",
            "  Downloading funcy-1.16-py2.py3-none-any.whl (32 kB)\n",
            "Requirement already satisfied: joblib in /usr/local/lib/python3.7/dist-packages (from pyLDAvis) (1.0.1)\n",
            "Requirement already satisfied: setuptools in /usr/local/lib/python3.7/dist-packages (from pyLDAvis) (57.4.0)\n",
            "Requirement already satisfied: future in /usr/local/lib/python3.7/dist-packages (from pyLDAvis) (0.16.0)\n",
            "Requirement already satisfied: pytz>=2017.3 in /usr/local/lib/python3.7/dist-packages (from pandas>=1.2.0->pyLDAvis) (2018.9)\n",
            "Requirement already satisfied: python-dateutil>=2.7.3 in /usr/local/lib/python3.7/dist-packages (from pandas>=1.2.0->pyLDAvis) (2.8.2)\n",
            "Requirement already satisfied: six>=1.5 in /usr/local/lib/python3.7/dist-packages (from python-dateutil>=2.7.3->pandas>=1.2.0->pyLDAvis) (1.15.0)\n",
            "Requirement already satisfied: smart-open>=1.2.1 in /usr/local/lib/python3.7/dist-packages (from gensim->pyLDAvis) (5.1.0)\n",
            "Requirement already satisfied: MarkupSafe>=0.23 in /usr/local/lib/python3.7/dist-packages (from jinja2->pyLDAvis) (2.0.1)\n",
            "Building wheels for collected packages: pyLDAvis\n",
            "  Building wheel for pyLDAvis (PEP 517) ... \u001b[?25l\u001b[?25hdone\n",
            "  Created wheel for pyLDAvis: filename=pyLDAvis-3.3.1-py2.py3-none-any.whl size=136897 sha256=9b2582fb94bb5adc495b29a58d76ba6bb27895dd98f3cfb44cf228f3ad4936eb\n",
            "  Stored in directory: /root/.cache/pip/wheels/c9/21/f6/17bcf2667e8a68532ba2fbf6d5c72fdf4c7f7d9abfa4852d2f\n",
            "Successfully built pyLDAvis\n",
            "Installing collected packages: numpy, pandas, funcy, pyLDAvis\n",
            "  Attempting uninstall: numpy\n",
            "    Found existing installation: numpy 1.19.5\n",
            "    Uninstalling numpy-1.19.5:\n",
            "      Successfully uninstalled numpy-1.19.5\n",
            "  Attempting uninstall: pandas\n",
            "    Found existing installation: pandas 1.1.5\n",
            "    Uninstalling pandas-1.1.5:\n",
            "      Successfully uninstalled pandas-1.1.5\n",
            "\u001b[31mERROR: pip's dependency resolver does not currently take into account all the packages that are installed. This behaviour is the source of the following dependency conflicts.\n",
            "tensorflow 2.6.0 requires numpy~=1.19.2, but you have numpy 1.21.2 which is incompatible.\n",
            "google-colab 1.0.0 requires pandas~=1.1.0; python_version >= \"3.0\", but you have pandas 1.3.3 which is incompatible.\n",
            "datascience 0.10.6 requires folium==0.2.1, but you have folium 0.8.3 which is incompatible.\n",
            "albumentations 0.1.12 requires imgaug<0.2.7,>=0.2.5, but you have imgaug 0.2.9 which is incompatible.\u001b[0m\n",
            "Successfully installed funcy-1.16 numpy-1.21.2 pandas-1.3.3 pyLDAvis-3.3.1\n"
          ]
        },
        {
          "output_type": "display_data",
          "data": {
            "application/vnd.colab-display-data+json": {
              "pip_warning": {
                "packages": [
                  "numpy",
                  "pandas"
                ]
              }
            }
          },
          "metadata": {}
        }
      ]
    },
    {
      "cell_type": "code",
      "metadata": {
        "id": "ym1rIbuXD_oE"
      },
      "source": [
        "import pyLDAvis\n",
        "import pyLDAvis.gensim_models as gensimvis\n",
        "from collections import Iterable"
      ],
      "execution_count": 199,
      "outputs": []
    },
    {
      "cell_type": "code",
      "metadata": {
        "id": "4KaR8P-8EF3y"
      },
      "source": [
        "pyLDAvis.enable_notebook()"
      ],
      "execution_count": 200,
      "outputs": []
    },
    {
      "cell_type": "code",
      "metadata": {
        "id": "gwW4P57tBtfq"
      },
      "source": [
        "# Flagging fraud based on topic\n",
        "# Using your LDA model results for fraud detection"
      ],
      "execution_count": 202,
      "outputs": []
    },
    {
      "cell_type": "code",
      "metadata": {
        "id": "bQnEibtvGOK0"
      },
      "source": [
        "# Encontrado fraude por meio de tópicos\n",
        "\n",
        "def get_topic_details(ldamodel, corpus):\n",
        "    topic_details_df = pd.DataFrame()\n",
        "    for i, row in enumerate(ldamodel[corpus]):\n",
        "        row = sorted(row, key=lambda x: (x[1]), reverse=True)\n",
        "        for j, (topic_num, prop_topic) in enumerate(row):\n",
        "            if j == 0:  # => dominant topic\n",
        "                wp = ldamodel.show_topic(topic_num)\n",
        "                topic_details_df = topic_details_df.append(pd.Series([topic_num, prop_topic]), ignore_index=True)\n",
        "    topic_details_df.columns = ['Dominant_Topic', '% Score']\n",
        "    return topic_details_df"
      ],
      "execution_count": 205,
      "outputs": []
    },
    {
      "cell_type": "code",
      "metadata": {
        "id": "0AfKqO6cGaKi"
      },
      "source": [
        "# Executa a função get_topic_details e verifica os resultados\n",
        "topic_details_df = get_topic_details(ldamodel, corpus)"
      ],
      "execution_count": 206,
      "outputs": []
    },
    {
      "cell_type": "code",
      "metadata": {
        "colab": {
          "base_uri": "https://localhost:8080/",
          "height": 204
        },
        "id": "3vQ6NeFeGfN6",
        "outputId": "d2269ff1-c21d-4437-dc2e-cfd0e1510e9f"
      },
      "source": [
        "topic_details_df.head()"
      ],
      "execution_count": 207,
      "outputs": [
        {
          "output_type": "execute_result",
          "data": {
            "text/html": [
              "<div>\n",
              "<style scoped>\n",
              "    .dataframe tbody tr th:only-of-type {\n",
              "        vertical-align: middle;\n",
              "    }\n",
              "\n",
              "    .dataframe tbody tr th {\n",
              "        vertical-align: top;\n",
              "    }\n",
              "\n",
              "    .dataframe thead th {\n",
              "        text-align: right;\n",
              "    }\n",
              "</style>\n",
              "<table border=\"1\" class=\"dataframe\">\n",
              "  <thead>\n",
              "    <tr style=\"text-align: right;\">\n",
              "      <th></th>\n",
              "      <th>Dominant_Topic</th>\n",
              "      <th>% Score</th>\n",
              "    </tr>\n",
              "  </thead>\n",
              "  <tbody>\n",
              "    <tr>\n",
              "      <th>0</th>\n",
              "      <td>0.0</td>\n",
              "      <td>0.597592</td>\n",
              "    </tr>\n",
              "    <tr>\n",
              "      <th>1</th>\n",
              "      <td>3.0</td>\n",
              "      <td>0.614697</td>\n",
              "    </tr>\n",
              "    <tr>\n",
              "      <th>2</th>\n",
              "      <td>2.0</td>\n",
              "      <td>0.994303</td>\n",
              "    </tr>\n",
              "    <tr>\n",
              "      <th>3</th>\n",
              "      <td>2.0</td>\n",
              "      <td>0.993469</td>\n",
              "    </tr>\n",
              "    <tr>\n",
              "      <th>4</th>\n",
              "      <td>2.0</td>\n",
              "      <td>0.993403</td>\n",
              "    </tr>\n",
              "  </tbody>\n",
              "</table>\n",
              "</div>"
            ],
            "text/plain": [
              "   Dominant_Topic   % Score\n",
              "0             0.0  0.597592\n",
              "1             3.0  0.614697\n",
              "2             2.0  0.994303\n",
              "3             2.0  0.993469\n",
              "4             2.0  0.993403"
            ]
          },
          "metadata": {},
          "execution_count": 207
        }
      ]
    },
    {
      "cell_type": "code",
      "metadata": {
        "colab": {
          "base_uri": "https://localhost:8080/",
          "height": 204
        },
        "id": "FpQeKi8IGj7y",
        "outputId": "b575da0e-b094-42e9-d005-1d6b66883965"
      },
      "source": [
        "topic_details_df.tail()"
      ],
      "execution_count": 208,
      "outputs": [
        {
          "output_type": "execute_result",
          "data": {
            "text/html": [
              "<div>\n",
              "<style scoped>\n",
              "    .dataframe tbody tr th:only-of-type {\n",
              "        vertical-align: middle;\n",
              "    }\n",
              "\n",
              "    .dataframe tbody tr th {\n",
              "        vertical-align: top;\n",
              "    }\n",
              "\n",
              "    .dataframe thead th {\n",
              "        text-align: right;\n",
              "    }\n",
              "</style>\n",
              "<table border=\"1\" class=\"dataframe\">\n",
              "  <thead>\n",
              "    <tr style=\"text-align: right;\">\n",
              "      <th></th>\n",
              "      <th>Dominant_Topic</th>\n",
              "      <th>% Score</th>\n",
              "    </tr>\n",
              "  </thead>\n",
              "  <tbody>\n",
              "    <tr>\n",
              "      <th>2085</th>\n",
              "      <td>1.0</td>\n",
              "      <td>0.909563</td>\n",
              "    </tr>\n",
              "    <tr>\n",
              "      <th>2086</th>\n",
              "      <td>2.0</td>\n",
              "      <td>0.599991</td>\n",
              "    </tr>\n",
              "    <tr>\n",
              "      <th>2087</th>\n",
              "      <td>1.0</td>\n",
              "      <td>0.999324</td>\n",
              "    </tr>\n",
              "    <tr>\n",
              "      <th>2088</th>\n",
              "      <td>1.0</td>\n",
              "      <td>0.998140</td>\n",
              "    </tr>\n",
              "    <tr>\n",
              "      <th>2089</th>\n",
              "      <td>2.0</td>\n",
              "      <td>0.808979</td>\n",
              "    </tr>\n",
              "  </tbody>\n",
              "</table>\n",
              "</div>"
            ],
            "text/plain": [
              "      Dominant_Topic   % Score\n",
              "2085             1.0  0.909563\n",
              "2086             2.0  0.599991\n",
              "2087             1.0  0.999324\n",
              "2088             1.0  0.998140\n",
              "2089             2.0  0.808979"
            ]
          },
          "metadata": {},
          "execution_count": 208
        }
      ]
    },
    {
      "cell_type": "code",
      "metadata": {
        "id": "fyGg0d3uGoxA"
      },
      "source": [
        "# Adiciona o texto original aos detalhes do tema em um dataframe\n",
        "contents = pd.DataFrame({'Original text': text_clean})\n",
        "topic_details = pd.concat([get_topic_details(ldamodel, corpus), contents], axis=1)"
      ],
      "execution_count": 209,
      "outputs": []
    },
    {
      "cell_type": "code",
      "metadata": {
        "colab": {
          "base_uri": "https://localhost:8080/",
          "height": 204
        },
        "id": "VUYhaAopGqXT",
        "outputId": "6a63c88d-a1d9-4db0-c04b-16f7b4350c19"
      },
      "source": [
        "topic_details.sort_values(by=['% Score'], ascending=False).head(10).head()"
      ],
      "execution_count": 210,
      "outputs": [
        {
          "output_type": "execute_result",
          "data": {
            "text/html": [
              "<div>\n",
              "<style scoped>\n",
              "    .dataframe tbody tr th:only-of-type {\n",
              "        vertical-align: middle;\n",
              "    }\n",
              "\n",
              "    .dataframe tbody tr th {\n",
              "        vertical-align: top;\n",
              "    }\n",
              "\n",
              "    .dataframe thead th {\n",
              "        text-align: right;\n",
              "    }\n",
              "</style>\n",
              "<table border=\"1\" class=\"dataframe\">\n",
              "  <thead>\n",
              "    <tr style=\"text-align: right;\">\n",
              "      <th></th>\n",
              "      <th>Dominant_Topic</th>\n",
              "      <th>% Score</th>\n",
              "      <th>Original text</th>\n",
              "    </tr>\n",
              "  </thead>\n",
              "  <tbody>\n",
              "    <tr>\n",
              "      <th>154</th>\n",
              "      <td>2.0</td>\n",
              "      <td>0.999957</td>\n",
              "      <td>[joint, venture, enron, meeting, belies, offic...</td>\n",
              "    </tr>\n",
              "    <tr>\n",
              "      <th>135</th>\n",
              "      <td>2.0</td>\n",
              "      <td>0.999953</td>\n",
              "      <td>[lawyer, agree, order, safeguard, document, ho...</td>\n",
              "    </tr>\n",
              "    <tr>\n",
              "      <th>849</th>\n",
              "      <td>0.0</td>\n",
              "      <td>0.999877</td>\n",
              "      <td>[original, message, received, thu, aug, cdt, e...</td>\n",
              "    </tr>\n",
              "    <tr>\n",
              "      <th>263</th>\n",
              "      <td>2.0</td>\n",
              "      <td>0.999808</td>\n",
              "      <td>[original, message, cook, mary, thursday, octo...</td>\n",
              "    </tr>\n",
              "    <tr>\n",
              "      <th>265</th>\n",
              "      <td>2.0</td>\n",
              "      <td>0.999751</td>\n",
              "      <td>[u, based, enron, corp, expands, pulp, paper, ...</td>\n",
              "    </tr>\n",
              "  </tbody>\n",
              "</table>\n",
              "</div>"
            ],
            "text/plain": [
              "     Dominant_Topic   % Score  \\\n",
              "154             2.0  0.999957   \n",
              "135             2.0  0.999953   \n",
              "849             0.0  0.999877   \n",
              "263             2.0  0.999808   \n",
              "265             2.0  0.999751   \n",
              "\n",
              "                                         Original text  \n",
              "154  [joint, venture, enron, meeting, belies, offic...  \n",
              "135  [lawyer, agree, order, safeguard, document, ho...  \n",
              "849  [original, message, received, thu, aug, cdt, e...  \n",
              "263  [original, message, cook, mary, thursday, octo...  \n",
              "265  [u, based, enron, corp, expands, pulp, paper, ...  "
            ]
          },
          "metadata": {},
          "execution_count": 210
        }
      ]
    },
    {
      "cell_type": "code",
      "metadata": {
        "colab": {
          "base_uri": "https://localhost:8080/",
          "height": 204
        },
        "id": "EF-IPwQOGxqz",
        "outputId": "f617e12e-e7d9-42e8-d5a4-bd4bfde1fa47"
      },
      "source": [
        "topic_details.sort_values(by=['% Score'], ascending=False).head(10).tail()"
      ],
      "execution_count": 211,
      "outputs": [
        {
          "output_type": "execute_result",
          "data": {
            "text/html": [
              "<div>\n",
              "<style scoped>\n",
              "    .dataframe tbody tr th:only-of-type {\n",
              "        vertical-align: middle;\n",
              "    }\n",
              "\n",
              "    .dataframe tbody tr th {\n",
              "        vertical-align: top;\n",
              "    }\n",
              "\n",
              "    .dataframe thead th {\n",
              "        text-align: right;\n",
              "    }\n",
              "</style>\n",
              "<table border=\"1\" class=\"dataframe\">\n",
              "  <thead>\n",
              "    <tr style=\"text-align: right;\">\n",
              "      <th></th>\n",
              "      <th>Dominant_Topic</th>\n",
              "      <th>% Score</th>\n",
              "      <th>Original text</th>\n",
              "    </tr>\n",
              "  </thead>\n",
              "  <tbody>\n",
              "    <tr>\n",
              "      <th>2081</th>\n",
              "      <td>4.0</td>\n",
              "      <td>0.999631</td>\n",
              "      <td>[unsubscribe, mailing, please, go, money, net,...</td>\n",
              "    </tr>\n",
              "    <tr>\n",
              "      <th>478</th>\n",
              "      <td>2.0</td>\n",
              "      <td>0.999354</td>\n",
              "      <td>[greeting, jeff, thanks, make, copy, bring, cl...</td>\n",
              "    </tr>\n",
              "    <tr>\n",
              "      <th>175</th>\n",
              "      <td>2.0</td>\n",
              "      <td>0.999331</td>\n",
              "      <td>[thanks, pretty, sure, m, mcfadden, might, int...</td>\n",
              "    </tr>\n",
              "    <tr>\n",
              "      <th>2087</th>\n",
              "      <td>1.0</td>\n",
              "      <td>0.999324</td>\n",
              "      <td>[image, image, image, image, image, image, ima...</td>\n",
              "    </tr>\n",
              "    <tr>\n",
              "      <th>280</th>\n",
              "      <td>2.0</td>\n",
              "      <td>0.999229</td>\n",
              "      <td>[financial, express, wednesday, october, anti,...</td>\n",
              "    </tr>\n",
              "  </tbody>\n",
              "</table>\n",
              "</div>"
            ],
            "text/plain": [
              "      Dominant_Topic   % Score  \\\n",
              "2081             4.0  0.999631   \n",
              "478              2.0  0.999354   \n",
              "175              2.0  0.999331   \n",
              "2087             1.0  0.999324   \n",
              "280              2.0  0.999229   \n",
              "\n",
              "                                          Original text  \n",
              "2081  [unsubscribe, mailing, please, go, money, net,...  \n",
              "478   [greeting, jeff, thanks, make, copy, bring, cl...  \n",
              "175   [thanks, pretty, sure, m, mcfadden, might, int...  \n",
              "2087  [image, image, image, image, image, image, ima...  \n",
              "280   [financial, express, wednesday, october, anti,...  "
            ]
          },
          "metadata": {},
          "execution_count": 211
        }
      ]
    },
    {
      "cell_type": "code",
      "metadata": {
        "id": "7JtcX5NEG4db"
      },
      "source": [
        "# Cria uma sinalização para o texto altamente associado com o topico 3\n",
        "topic_details['flag'] = np.where((topic_details['Dominant_Topic'] == 3.0), 1, 0)"
      ],
      "execution_count": 212,
      "outputs": []
    },
    {
      "cell_type": "code",
      "metadata": {
        "id": "I1mS4DS4G5CQ"
      },
      "source": [
        "topic_details_1 = topic_details[topic_details.flag == 1]"
      ],
      "execution_count": 213,
      "outputs": []
    },
    {
      "cell_type": "code",
      "metadata": {
        "colab": {
          "base_uri": "https://localhost:8080/",
          "height": 359
        },
        "id": "VgHNT2GYG7II",
        "outputId": "e3a83e0b-c782-45c6-d061-d5af9549e850"
      },
      "source": [
        "topic_details_1.sort_values(by=['% Score'], ascending=False).head(10)"
      ],
      "execution_count": 214,
      "outputs": [
        {
          "output_type": "execute_result",
          "data": {
            "text/html": [
              "<div>\n",
              "<style scoped>\n",
              "    .dataframe tbody tr th:only-of-type {\n",
              "        vertical-align: middle;\n",
              "    }\n",
              "\n",
              "    .dataframe tbody tr th {\n",
              "        vertical-align: top;\n",
              "    }\n",
              "\n",
              "    .dataframe thead th {\n",
              "        text-align: right;\n",
              "    }\n",
              "</style>\n",
              "<table border=\"1\" class=\"dataframe\">\n",
              "  <thead>\n",
              "    <tr style=\"text-align: right;\">\n",
              "      <th></th>\n",
              "      <th>Dominant_Topic</th>\n",
              "      <th>% Score</th>\n",
              "      <th>Original text</th>\n",
              "      <th>flag</th>\n",
              "    </tr>\n",
              "  </thead>\n",
              "  <tbody>\n",
              "    <tr>\n",
              "      <th>1211</th>\n",
              "      <td>3.0</td>\n",
              "      <td>0.999059</td>\n",
              "      <td>[start, date, hourahead, hour, hourahead, sche...</td>\n",
              "      <td>1</td>\n",
              "    </tr>\n",
              "    <tr>\n",
              "      <th>2039</th>\n",
              "      <td>3.0</td>\n",
              "      <td>0.997666</td>\n",
              "      <td>[w, e, e, k, e, n, e, v, l, b, l, f, r, decemb...</td>\n",
              "      <td>1</td>\n",
              "    </tr>\n",
              "    <tr>\n",
              "      <th>870</th>\n",
              "      <td>3.0</td>\n",
              "      <td>0.997177</td>\n",
              "      <td>[w, e, e, k, e, n, e, v, l, b, l, f, r, march,...</td>\n",
              "      <td>1</td>\n",
              "    </tr>\n",
              "    <tr>\n",
              "      <th>1921</th>\n",
              "      <td>3.0</td>\n",
              "      <td>0.996410</td>\n",
              "      <td>[w, e, e, k, e, n, e, v, l, b, l, f, r, march,...</td>\n",
              "      <td>1</td>\n",
              "    </tr>\n",
              "    <tr>\n",
              "      <th>2020</th>\n",
              "      <td>3.0</td>\n",
              "      <td>0.995852</td>\n",
              "      <td>[jerry, remove, distribution, nng, outage, rep...</td>\n",
              "      <td>1</td>\n",
              "    </tr>\n",
              "    <tr>\n",
              "      <th>2054</th>\n",
              "      <td>3.0</td>\n",
              "      <td>0.995696</td>\n",
              "      <td>[sound, like, deny, commodity, logic, please, ...</td>\n",
              "      <td>1</td>\n",
              "    </tr>\n",
              "    <tr>\n",
              "      <th>2009</th>\n",
              "      <td>3.0</td>\n",
              "      <td>0.995503</td>\n",
              "      <td>[information, organizational, change, bring, c...</td>\n",
              "      <td>1</td>\n",
              "    </tr>\n",
              "    <tr>\n",
              "      <th>978</th>\n",
              "      <td>3.0</td>\n",
              "      <td>0.995249</td>\n",
              "      <td>[forwarded, vince, j, kaminski, hou, pm, john,...</td>\n",
              "      <td>1</td>\n",
              "    </tr>\n",
              "    <tr>\n",
              "      <th>346</th>\n",
              "      <td>3.0</td>\n",
              "      <td>0.995104</td>\n",
              "      <td>[w, e, e, k, e, n, e, v, l, b, l, f, r, novemb...</td>\n",
              "      <td>1</td>\n",
              "    </tr>\n",
              "    <tr>\n",
              "      <th>2057</th>\n",
              "      <td>3.0</td>\n",
              "      <td>0.994941</td>\n",
              "      <td>[reservation, status, changed, detail, reserva...</td>\n",
              "      <td>1</td>\n",
              "    </tr>\n",
              "  </tbody>\n",
              "</table>\n",
              "</div>"
            ],
            "text/plain": [
              "      Dominant_Topic   % Score  \\\n",
              "1211             3.0  0.999059   \n",
              "2039             3.0  0.997666   \n",
              "870              3.0  0.997177   \n",
              "1921             3.0  0.996410   \n",
              "2020             3.0  0.995852   \n",
              "2054             3.0  0.995696   \n",
              "2009             3.0  0.995503   \n",
              "978              3.0  0.995249   \n",
              "346              3.0  0.995104   \n",
              "2057             3.0  0.994941   \n",
              "\n",
              "                                          Original text  flag  \n",
              "1211  [start, date, hourahead, hour, hourahead, sche...     1  \n",
              "2039  [w, e, e, k, e, n, e, v, l, b, l, f, r, decemb...     1  \n",
              "870   [w, e, e, k, e, n, e, v, l, b, l, f, r, march,...     1  \n",
              "1921  [w, e, e, k, e, n, e, v, l, b, l, f, r, march,...     1  \n",
              "2020  [jerry, remove, distribution, nng, outage, rep...     1  \n",
              "2054  [sound, like, deny, commodity, logic, please, ...     1  \n",
              "2009  [information, organizational, change, bring, c...     1  \n",
              "978   [forwarded, vince, j, kaminski, hou, pm, john,...     1  \n",
              "346   [w, e, e, k, e, n, e, v, l, b, l, f, r, novemb...     1  \n",
              "2057  [reservation, status, changed, detail, reserva...     1  "
            ]
          },
          "metadata": {},
          "execution_count": 214
        }
      ]
    },
    {
      "cell_type": "markdown",
      "metadata": {
        "id": "rUKWZC8MhXFR"
      },
      "source": [
        "### **Referências:**\n",
        "\n",
        "https://www.teses.usp.br/teses/disponiveis/45/45134/tde-01022016-204144/publico/Paulo_Oliveira_Mestrado_PPGCC.pdf\n",
        "\n",
        "https://towardsdatascience.com/understand-and-build-fp-growth-algorithm-in-python-d8b989bab342\n",
        "\n",
        "https://trenton3983.github.io/files/projects/2019-07-19_fraud_detection_python/2019-07-19_fraud_detection_python.html\n",
        "\n",
        "people described by a set of attributes as good or bad credit risks.\n",
        "https://www.openml.org/d/31\n",
        "\n",
        "creditcard fraud  in September 2013 by european cardholders\n",
        "https://www.openml.org/d/42175\n",
        "https://www.openml.org/d/1597\n",
        "\n",
        "https://minerandodados.com.br/tres-tecnicas-de-amostragem-de-dados-utilizando-python/\n",
        "\n",
        "https://www.kaggle.com/vmeh23/general-data-analysis-for-banksim-data-set\n",
        "\n",
        "https://www.kaggle.com/kartik2112/fraud-detection-banksim?select=bs140513_032310.csv"
      ]
    }
  ]
}