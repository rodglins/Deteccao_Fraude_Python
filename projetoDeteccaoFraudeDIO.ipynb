{
  "nbformat": 4,
  "nbformat_minor": 0,
  "metadata": {
    "colab": {
      "name": "projetoDeteccaoFraudeDIO.ipynb",
      "provenance": [],
      "collapsed_sections": [
        "F0w2FlOUyaNQ",
        "oq0AmN_4zw6Y",
        "AKVWM1OotJaD",
        "ZPOsrk0h0FdK",
        "HxnerEBm3J-G",
        "3U4d7OysUgtv",
        "rUKWZC8MhXFR"
      ]
    },
    "kernelspec": {
      "name": "python3",
      "display_name": "Python 3"
    }
  },
  "cells": [
    {
      "cell_type": "markdown",
      "metadata": {
        "id": "F0w2FlOUyaNQ"
      },
      "source": [
        "### **Projeto: Detecção de fraude em cartão de crédito**\n",
        "\n",
        "\n",
        "---\n",
        "\n",
        "\n",
        "Tradução e adaptação do código: Rodrigo da Costa Aglinskas\n",
        "\n",
        "Projeto: Detecção de fraude em cartão de crédito\n",
        "\n",
        "Desafio de projeto: Análise em Python com uso da biblioteca Pandas - DIO\n",
        "\n",
        "Iniciado em 11/09/2021\n",
        "\n"
      ]
    },
    {
      "cell_type": "markdown",
      "metadata": {
        "id": "oq0AmN_4zw6Y"
      },
      "source": [
        "### **Importando arquivos e bibliotecas**"
      ]
    },
    {
      "cell_type": "code",
      "metadata": {
        "id": "G5HpRApza9UR"
      },
      "source": [
        "# Importando as bibliotecas:\n",
        "\n",
        "import pandas as pd\n",
        "import matplotlib.pyplot as plt\n",
        "plt.style.use(\"seaborn\")\n",
        "%matplotlib inline\n",
        "\n",
        "from matplotlib.patches import Rectangle\n",
        "import numpy as np\n",
        "from pprint import pprint as pp\n",
        "import csv\n",
        "from pathlib import Path\n",
        "import seaborn as sns\n",
        "from itertools import product\n",
        "import string\n",
        "\n",
        "import six\n",
        "import sys\n",
        "sys.modules['sklearn.externals.six'] = six\n",
        "\n",
        "import nltk\n",
        "from nltk.corpus import stopwords\n",
        "from nltk.stem.wordnet import WordNetLemmatizer\n",
        "\n",
        "from imblearn.over_sampling import SMOTE\n",
        "from imblearn.over_sampling import BorderlineSMOTE\n",
        "from imblearn.pipeline import Pipeline \n",
        "\n",
        "from sklearn.linear_model import LinearRegression, LogisticRegression\n",
        "from sklearn.model_selection import train_test_split, GridSearchCV\n",
        "from sklearn.tree import DecisionTreeClassifier\n",
        "from sklearn.metrics import r2_score, classification_report, confusion_matrix, accuracy_score, roc_auc_score, roc_curve, precision_recall_curve, average_precision_score\n",
        "from sklearn.metrics import homogeneity_score, silhouette_score\n",
        "from sklearn.ensemble import RandomForestClassifier, VotingClassifier\n",
        "from sklearn.preprocessing import MinMaxScaler\n",
        "from sklearn.cluster import MiniBatchKMeans, DBSCAN\n",
        "\n",
        "import gensim\n",
        "from gensim import corpora\n",
        "\n",
        "import warnings\n",
        "warnings.filterwarnings('ignore')\n",
        "warnings.simplefilter('ignore')"
      ],
      "execution_count": 83,
      "outputs": []
    },
    {
      "cell_type": "code",
      "metadata": {
        "id": "DsbyjIe7goB6"
      },
      "source": [
        "# Configuração Pandas:\n",
        "\n",
        "pd.set_option('display.max_columns', 700)\n",
        "pd.set_option('display.max_rows', 400)\n",
        "pd.set_option('display.min_rows', 10)\n",
        "pd.set_option('display.expand_frame_repr', True)"
      ],
      "execution_count": 84,
      "outputs": []
    },
    {
      "cell_type": "code",
      "metadata": {
        "id": "3qLVp0Z_bUXq"
      },
      "source": [
        "# Leitura de arquivos:\n",
        "\n",
        "cc1_file = 'creditcard_sampledata.csv'\n",
        "# cc1_file = 'creditcard_fraud.csv'\n",
        "\n",
        "banksim_file = 'banksim.csv'\n",
        "banksim_adj_file = 'banksim_adj.csv'\n",
        "# arquivos pickle:\n",
        "db_full_file = 'db_full.pickle'\n",
        "labels_file = 'labels.pickle'\n",
        "labels_full_file = 'labels_full.pickle'\n",
        "x_scaled_file = 'x_scaled.pickle'\n",
        "x_scaled_full_file = 'x_scaled_full.pickle'\n",
        "\n",
        "enron_emails_clean_file = 'enron_emails_clean.csv'\n",
        "# arquivos pickle:\n",
        "cleantext_file = 'cleantext.pickle'\n",
        "corpus_file = 'corpus.pickle'\n",
        "dict_file = 'dict.pickle'\n",
        "ldamodel_file = 'ldamodel.pickle'\n"
      ],
      "execution_count": 85,
      "outputs": []
    },
    {
      "cell_type": "markdown",
      "metadata": {
        "id": "AKVWM1OotJaD"
      },
      "source": [
        "### **Verificando a relação fraude x não fraude**"
      ]
    },
    {
      "cell_type": "code",
      "metadata": {
        "id": "O6ez71rWtI7U"
      },
      "source": [
        "df = pd.read_csv(cc1_file)"
      ],
      "execution_count": 86,
      "outputs": []
    },
    {
      "cell_type": "code",
      "metadata": {
        "colab": {
          "base_uri": "https://localhost:8080/"
        },
        "id": "T01puCbCtRda",
        "outputId": "fb251045-037d-4534-8664-b706d290d91a"
      },
      "source": [
        "# Verificando a estrutura do dataframe\n",
        "df.info()"
      ],
      "execution_count": 87,
      "outputs": [
        {
          "output_type": "stream",
          "name": "stdout",
          "text": [
            "<class 'pandas.core.frame.DataFrame'>\n",
            "RangeIndex: 8000 entries, 0 to 7999\n",
            "Data columns (total 32 columns):\n",
            " #   Column      Non-Null Count  Dtype  \n",
            "---  ------      --------------  -----  \n",
            " 0   Unnamed: 0  8000 non-null   int64  \n",
            " 1   Time        8000 non-null   int64  \n",
            " 2   V1          8000 non-null   float64\n",
            " 3   V2          8000 non-null   float64\n",
            " 4   V3          8000 non-null   float64\n",
            " 5   V4          8000 non-null   float64\n",
            " 6   V5          8000 non-null   float64\n",
            " 7   V6          8000 non-null   float64\n",
            " 8   V7          8000 non-null   float64\n",
            " 9   V8          8000 non-null   float64\n",
            " 10  V9          8000 non-null   float64\n",
            " 11  V10         8000 non-null   float64\n",
            " 12  V11         8000 non-null   float64\n",
            " 13  V12         8000 non-null   float64\n",
            " 14  V13         8000 non-null   float64\n",
            " 15  V14         8000 non-null   float64\n",
            " 16  V15         8000 non-null   float64\n",
            " 17  V16         8000 non-null   float64\n",
            " 18  V17         8000 non-null   float64\n",
            " 19  V18         8000 non-null   float64\n",
            " 20  V19         8000 non-null   float64\n",
            " 21  V20         8000 non-null   float64\n",
            " 22  V21         8000 non-null   float64\n",
            " 23  V22         8000 non-null   float64\n",
            " 24  V23         8000 non-null   float64\n",
            " 25  V24         8000 non-null   float64\n",
            " 26  V25         8000 non-null   float64\n",
            " 27  V26         8000 non-null   float64\n",
            " 28  V27         8000 non-null   float64\n",
            " 29  V28         8000 non-null   float64\n",
            " 30  Amount      8000 non-null   float64\n",
            " 31  Class       8000 non-null   int64  \n",
            "dtypes: float64(29), int64(3)\n",
            "memory usage: 2.0 MB\n"
          ]
        }
      ]
    },
    {
      "cell_type": "code",
      "metadata": {
        "id": "LlPHePtj2oBP"
      },
      "source": [
        "df[\"V4\"] = pd.to_numeric(df[\"V4\"], downcast=\"float\")"
      ],
      "execution_count": 88,
      "outputs": []
    },
    {
      "cell_type": "code",
      "metadata": {
        "colab": {
          "base_uri": "https://localhost:8080/"
        },
        "id": "S3RG1toqV6Uh",
        "outputId": "ec8f73b0-6098-4f6c-8f19-b166669ffe35"
      },
      "source": [
        "df.dtypes"
      ],
      "execution_count": 89,
      "outputs": [
        {
          "output_type": "execute_result",
          "data": {
            "text/plain": [
              "Unnamed: 0      int64\n",
              "Time            int64\n",
              "V1            float64\n",
              "V2            float64\n",
              "V3            float64\n",
              "V4            float32\n",
              "V5            float64\n",
              "V6            float64\n",
              "V7            float64\n",
              "V8            float64\n",
              "V9            float64\n",
              "V10           float64\n",
              "V11           float64\n",
              "V12           float64\n",
              "V13           float64\n",
              "V14           float64\n",
              "V15           float64\n",
              "V16           float64\n",
              "V17           float64\n",
              "V18           float64\n",
              "V19           float64\n",
              "V20           float64\n",
              "V21           float64\n",
              "V22           float64\n",
              "V23           float64\n",
              "V24           float64\n",
              "V25           float64\n",
              "V26           float64\n",
              "V27           float64\n",
              "V28           float64\n",
              "Amount        float64\n",
              "Class           int64\n",
              "dtype: object"
            ]
          },
          "metadata": {},
          "execution_count": 89
        }
      ]
    },
    {
      "cell_type": "code",
      "metadata": {
        "colab": {
          "base_uri": "https://localhost:8080/",
          "height": 0
        },
        "id": "J1cZd00_xOyp",
        "outputId": "c3ef557f-48dc-4693-d36d-b35c9af30f38"
      },
      "source": [
        "df.head()"
      ],
      "execution_count": 90,
      "outputs": [
        {
          "output_type": "execute_result",
          "data": {
            "text/html": [
              "<div>\n",
              "<style scoped>\n",
              "    .dataframe tbody tr th:only-of-type {\n",
              "        vertical-align: middle;\n",
              "    }\n",
              "\n",
              "    .dataframe tbody tr th {\n",
              "        vertical-align: top;\n",
              "    }\n",
              "\n",
              "    .dataframe thead th {\n",
              "        text-align: right;\n",
              "    }\n",
              "</style>\n",
              "<table border=\"1\" class=\"dataframe\">\n",
              "  <thead>\n",
              "    <tr style=\"text-align: right;\">\n",
              "      <th></th>\n",
              "      <th>Unnamed: 0</th>\n",
              "      <th>Time</th>\n",
              "      <th>V1</th>\n",
              "      <th>V2</th>\n",
              "      <th>V3</th>\n",
              "      <th>V4</th>\n",
              "      <th>V5</th>\n",
              "      <th>V6</th>\n",
              "      <th>V7</th>\n",
              "      <th>V8</th>\n",
              "      <th>V9</th>\n",
              "      <th>V10</th>\n",
              "      <th>V11</th>\n",
              "      <th>V12</th>\n",
              "      <th>V13</th>\n",
              "      <th>V14</th>\n",
              "      <th>V15</th>\n",
              "      <th>V16</th>\n",
              "      <th>V17</th>\n",
              "      <th>V18</th>\n",
              "      <th>V19</th>\n",
              "      <th>V20</th>\n",
              "      <th>V21</th>\n",
              "      <th>V22</th>\n",
              "      <th>V23</th>\n",
              "      <th>V24</th>\n",
              "      <th>V25</th>\n",
              "      <th>V26</th>\n",
              "      <th>V27</th>\n",
              "      <th>V28</th>\n",
              "      <th>Amount</th>\n",
              "      <th>Class</th>\n",
              "    </tr>\n",
              "  </thead>\n",
              "  <tbody>\n",
              "    <tr>\n",
              "      <th>0</th>\n",
              "      <td>0</td>\n",
              "      <td>64</td>\n",
              "      <td>1.212511</td>\n",
              "      <td>-0.099054</td>\n",
              "      <td>-1.192094</td>\n",
              "      <td>0.286324</td>\n",
              "      <td>2.160516</td>\n",
              "      <td>3.616314</td>\n",
              "      <td>-0.404207</td>\n",
              "      <td>0.842331</td>\n",
              "      <td>0.169360</td>\n",
              "      <td>-0.030522</td>\n",
              "      <td>-0.541957</td>\n",
              "      <td>0.237212</td>\n",
              "      <td>-0.218130</td>\n",
              "      <td>0.197437</td>\n",
              "      <td>-0.147850</td>\n",
              "      <td>-0.097830</td>\n",
              "      <td>-0.510053</td>\n",
              "      <td>-0.070939</td>\n",
              "      <td>0.355171</td>\n",
              "      <td>0.014777</td>\n",
              "      <td>-0.167496</td>\n",
              "      <td>-0.494695</td>\n",
              "      <td>-0.149785</td>\n",
              "      <td>1.011227</td>\n",
              "      <td>0.883548</td>\n",
              "      <td>-0.329434</td>\n",
              "      <td>0.020370</td>\n",
              "      <td>0.017037</td>\n",
              "      <td>34.70</td>\n",
              "      <td>0</td>\n",
              "    </tr>\n",
              "    <tr>\n",
              "      <th>1</th>\n",
              "      <td>1</td>\n",
              "      <td>64</td>\n",
              "      <td>-0.658305</td>\n",
              "      <td>0.406791</td>\n",
              "      <td>2.037461</td>\n",
              "      <td>-0.291298</td>\n",
              "      <td>0.147910</td>\n",
              "      <td>-0.350857</td>\n",
              "      <td>0.945373</td>\n",
              "      <td>-0.172560</td>\n",
              "      <td>0.025133</td>\n",
              "      <td>-0.778135</td>\n",
              "      <td>-0.196290</td>\n",
              "      <td>0.632955</td>\n",
              "      <td>0.374025</td>\n",
              "      <td>-0.531597</td>\n",
              "      <td>-0.615063</td>\n",
              "      <td>-0.518078</td>\n",
              "      <td>0.003881</td>\n",
              "      <td>-1.288954</td>\n",
              "      <td>-0.797804</td>\n",
              "      <td>0.064133</td>\n",
              "      <td>-0.156096</td>\n",
              "      <td>-0.238805</td>\n",
              "      <td>0.089877</td>\n",
              "      <td>0.421195</td>\n",
              "      <td>-0.352487</td>\n",
              "      <td>0.074783</td>\n",
              "      <td>-0.094192</td>\n",
              "      <td>-0.092493</td>\n",
              "      <td>54.99</td>\n",
              "      <td>0</td>\n",
              "    </tr>\n",
              "    <tr>\n",
              "      <th>2</th>\n",
              "      <td>2</td>\n",
              "      <td>124</td>\n",
              "      <td>1.105253</td>\n",
              "      <td>0.541842</td>\n",
              "      <td>0.839421</td>\n",
              "      <td>2.570933</td>\n",
              "      <td>-0.279517</td>\n",
              "      <td>-0.423062</td>\n",
              "      <td>0.088019</td>\n",
              "      <td>0.011622</td>\n",
              "      <td>-0.715756</td>\n",
              "      <td>0.651379</td>\n",
              "      <td>0.073787</td>\n",
              "      <td>-0.142024</td>\n",
              "      <td>-0.739457</td>\n",
              "      <td>0.502639</td>\n",
              "      <td>0.736688</td>\n",
              "      <td>0.256745</td>\n",
              "      <td>-0.093732</td>\n",
              "      <td>-1.011416</td>\n",
              "      <td>-1.465500</td>\n",
              "      <td>-0.239883</td>\n",
              "      <td>-0.137434</td>\n",
              "      <td>-0.460991</td>\n",
              "      <td>0.189397</td>\n",
              "      <td>0.556329</td>\n",
              "      <td>0.185786</td>\n",
              "      <td>-0.189030</td>\n",
              "      <td>0.000208</td>\n",
              "      <td>0.026167</td>\n",
              "      <td>6.24</td>\n",
              "      <td>0</td>\n",
              "    </tr>\n",
              "    <tr>\n",
              "      <th>3</th>\n",
              "      <td>3</td>\n",
              "      <td>128</td>\n",
              "      <td>1.239495</td>\n",
              "      <td>-0.182609</td>\n",
              "      <td>0.155058</td>\n",
              "      <td>-0.928892</td>\n",
              "      <td>-0.746227</td>\n",
              "      <td>-1.235608</td>\n",
              "      <td>-0.061695</td>\n",
              "      <td>-0.125223</td>\n",
              "      <td>0.984938</td>\n",
              "      <td>-0.746625</td>\n",
              "      <td>1.563459</td>\n",
              "      <td>0.890132</td>\n",
              "      <td>-0.985159</td>\n",
              "      <td>0.778734</td>\n",
              "      <td>1.016974</td>\n",
              "      <td>-0.429490</td>\n",
              "      <td>-0.335787</td>\n",
              "      <td>0.614690</td>\n",
              "      <td>0.703133</td>\n",
              "      <td>-0.160406</td>\n",
              "      <td>0.146077</td>\n",
              "      <td>0.481119</td>\n",
              "      <td>-0.140019</td>\n",
              "      <td>0.538261</td>\n",
              "      <td>0.710720</td>\n",
              "      <td>-0.621382</td>\n",
              "      <td>0.036867</td>\n",
              "      <td>0.010963</td>\n",
              "      <td>8.80</td>\n",
              "      <td>0</td>\n",
              "    </tr>\n",
              "    <tr>\n",
              "      <th>4</th>\n",
              "      <td>4</td>\n",
              "      <td>132</td>\n",
              "      <td>-1.571359</td>\n",
              "      <td>1.687508</td>\n",
              "      <td>0.734670</td>\n",
              "      <td>1.293350</td>\n",
              "      <td>-0.217532</td>\n",
              "      <td>-0.002677</td>\n",
              "      <td>0.147364</td>\n",
              "      <td>0.515362</td>\n",
              "      <td>-0.372442</td>\n",
              "      <td>0.078021</td>\n",
              "      <td>-0.592495</td>\n",
              "      <td>0.997941</td>\n",
              "      <td>1.109328</td>\n",
              "      <td>0.060048</td>\n",
              "      <td>0.086141</td>\n",
              "      <td>-1.149893</td>\n",
              "      <td>0.765198</td>\n",
              "      <td>-0.810589</td>\n",
              "      <td>0.737550</td>\n",
              "      <td>-0.093614</td>\n",
              "      <td>0.048549</td>\n",
              "      <td>0.377256</td>\n",
              "      <td>-0.030436</td>\n",
              "      <td>0.117608</td>\n",
              "      <td>-0.060520</td>\n",
              "      <td>-0.296550</td>\n",
              "      <td>-0.481570</td>\n",
              "      <td>-0.167897</td>\n",
              "      <td>10.00</td>\n",
              "      <td>0</td>\n",
              "    </tr>\n",
              "  </tbody>\n",
              "</table>\n",
              "</div>"
            ],
            "text/plain": [
              "   Unnamed: 0  Time        V1        V2        V3        V4        V5  \\\n",
              "0           0    64  1.212511 -0.099054 -1.192094  0.286324  2.160516   \n",
              "1           1    64 -0.658305  0.406791  2.037461 -0.291298  0.147910   \n",
              "2           2   124  1.105253  0.541842  0.839421  2.570933 -0.279517   \n",
              "3           3   128  1.239495 -0.182609  0.155058 -0.928892 -0.746227   \n",
              "4           4   132 -1.571359  1.687508  0.734670  1.293350 -0.217532   \n",
              "\n",
              "         V6        V7        V8        V9       V10       V11       V12  \\\n",
              "0  3.616314 -0.404207  0.842331  0.169360 -0.030522 -0.541957  0.237212   \n",
              "1 -0.350857  0.945373 -0.172560  0.025133 -0.778135 -0.196290  0.632955   \n",
              "2 -0.423062  0.088019  0.011622 -0.715756  0.651379  0.073787 -0.142024   \n",
              "3 -1.235608 -0.061695 -0.125223  0.984938 -0.746625  1.563459  0.890132   \n",
              "4 -0.002677  0.147364  0.515362 -0.372442  0.078021 -0.592495  0.997941   \n",
              "\n",
              "        V13       V14       V15       V16       V17       V18       V19  \\\n",
              "0 -0.218130  0.197437 -0.147850 -0.097830 -0.510053 -0.070939  0.355171   \n",
              "1  0.374025 -0.531597 -0.615063 -0.518078  0.003881 -1.288954 -0.797804   \n",
              "2 -0.739457  0.502639  0.736688  0.256745 -0.093732 -1.011416 -1.465500   \n",
              "3 -0.985159  0.778734  1.016974 -0.429490 -0.335787  0.614690  0.703133   \n",
              "4  1.109328  0.060048  0.086141 -1.149893  0.765198 -0.810589  0.737550   \n",
              "\n",
              "        V20       V21       V22       V23       V24       V25       V26  \\\n",
              "0  0.014777 -0.167496 -0.494695 -0.149785  1.011227  0.883548 -0.329434   \n",
              "1  0.064133 -0.156096 -0.238805  0.089877  0.421195 -0.352487  0.074783   \n",
              "2 -0.239883 -0.137434 -0.460991  0.189397  0.556329  0.185786 -0.189030   \n",
              "3 -0.160406  0.146077  0.481119 -0.140019  0.538261  0.710720 -0.621382   \n",
              "4 -0.093614  0.048549  0.377256 -0.030436  0.117608 -0.060520 -0.296550   \n",
              "\n",
              "        V27       V28  Amount  Class  \n",
              "0  0.020370  0.017037   34.70      0  \n",
              "1 -0.094192 -0.092493   54.99      0  \n",
              "2  0.000208  0.026167    6.24      0  \n",
              "3  0.036867  0.010963    8.80      0  \n",
              "4 -0.481570 -0.167897   10.00      0  "
            ]
          },
          "metadata": {},
          "execution_count": 90
        }
      ]
    },
    {
      "cell_type": "code",
      "metadata": {
        "colab": {
          "base_uri": "https://localhost:8080/",
          "height": 0
        },
        "id": "vdoREmEO4KK0",
        "outputId": "dbb82841-8c6a-41bc-c080-e6cd07a5f1a8"
      },
      "source": [
        "df.tail()"
      ],
      "execution_count": 91,
      "outputs": [
        {
          "output_type": "execute_result",
          "data": {
            "text/html": [
              "<div>\n",
              "<style scoped>\n",
              "    .dataframe tbody tr th:only-of-type {\n",
              "        vertical-align: middle;\n",
              "    }\n",
              "\n",
              "    .dataframe tbody tr th {\n",
              "        vertical-align: top;\n",
              "    }\n",
              "\n",
              "    .dataframe thead th {\n",
              "        text-align: right;\n",
              "    }\n",
              "</style>\n",
              "<table border=\"1\" class=\"dataframe\">\n",
              "  <thead>\n",
              "    <tr style=\"text-align: right;\">\n",
              "      <th></th>\n",
              "      <th>Unnamed: 0</th>\n",
              "      <th>Time</th>\n",
              "      <th>V1</th>\n",
              "      <th>V2</th>\n",
              "      <th>V3</th>\n",
              "      <th>V4</th>\n",
              "      <th>V5</th>\n",
              "      <th>V6</th>\n",
              "      <th>V7</th>\n",
              "      <th>V8</th>\n",
              "      <th>V9</th>\n",
              "      <th>V10</th>\n",
              "      <th>V11</th>\n",
              "      <th>V12</th>\n",
              "      <th>V13</th>\n",
              "      <th>V14</th>\n",
              "      <th>V15</th>\n",
              "      <th>V16</th>\n",
              "      <th>V17</th>\n",
              "      <th>V18</th>\n",
              "      <th>V19</th>\n",
              "      <th>V20</th>\n",
              "      <th>V21</th>\n",
              "      <th>V22</th>\n",
              "      <th>V23</th>\n",
              "      <th>V24</th>\n",
              "      <th>V25</th>\n",
              "      <th>V26</th>\n",
              "      <th>V27</th>\n",
              "      <th>V28</th>\n",
              "      <th>Amount</th>\n",
              "      <th>Class</th>\n",
              "    </tr>\n",
              "  </thead>\n",
              "  <tbody>\n",
              "    <tr>\n",
              "      <th>7995</th>\n",
              "      <td>7995</td>\n",
              "      <td>172582</td>\n",
              "      <td>-0.942732</td>\n",
              "      <td>0.763164</td>\n",
              "      <td>0.185440</td>\n",
              "      <td>-0.064400</td>\n",
              "      <td>0.519435</td>\n",
              "      <td>-0.824899</td>\n",
              "      <td>0.837716</td>\n",
              "      <td>-0.210690</td>\n",
              "      <td>0.751164</td>\n",
              "      <td>-0.018101</td>\n",
              "      <td>-1.282571</td>\n",
              "      <td>-0.083814</td>\n",
              "      <td>-0.648833</td>\n",
              "      <td>0.032064</td>\n",
              "      <td>-0.235620</td>\n",
              "      <td>-1.311480</td>\n",
              "      <td>0.207468</td>\n",
              "      <td>-0.041811</td>\n",
              "      <td>0.900936</td>\n",
              "      <td>0.020565</td>\n",
              "      <td>0.190588</td>\n",
              "      <td>1.079226</td>\n",
              "      <td>-0.199087</td>\n",
              "      <td>-0.045535</td>\n",
              "      <td>0.181797</td>\n",
              "      <td>-0.293424</td>\n",
              "      <td>0.285188</td>\n",
              "      <td>0.393999</td>\n",
              "      <td>10.00</td>\n",
              "      <td>0</td>\n",
              "    </tr>\n",
              "    <tr>\n",
              "      <th>7996</th>\n",
              "      <td>7996</td>\n",
              "      <td>172599</td>\n",
              "      <td>-0.195044</td>\n",
              "      <td>1.238305</td>\n",
              "      <td>-0.768720</td>\n",
              "      <td>-0.178302</td>\n",
              "      <td>0.582600</td>\n",
              "      <td>-1.282570</td>\n",
              "      <td>0.946855</td>\n",
              "      <td>-0.129767</td>\n",
              "      <td>-0.040571</td>\n",
              "      <td>-0.915827</td>\n",
              "      <td>-0.700535</td>\n",
              "      <td>-0.463585</td>\n",
              "      <td>-0.424763</td>\n",
              "      <td>-0.708648</td>\n",
              "      <td>0.713934</td>\n",
              "      <td>0.029515</td>\n",
              "      <td>0.617882</td>\n",
              "      <td>0.766489</td>\n",
              "      <td>-0.185751</td>\n",
              "      <td>-0.205106</td>\n",
              "      <td>0.365673</td>\n",
              "      <td>1.207021</td>\n",
              "      <td>-0.111128</td>\n",
              "      <td>-0.162594</td>\n",
              "      <td>-0.896012</td>\n",
              "      <td>-0.259841</td>\n",
              "      <td>-0.131265</td>\n",
              "      <td>-0.005010</td>\n",
              "      <td>18.16</td>\n",
              "      <td>0</td>\n",
              "    </tr>\n",
              "    <tr>\n",
              "      <th>7997</th>\n",
              "      <td>7997</td>\n",
              "      <td>172617</td>\n",
              "      <td>2.038001</td>\n",
              "      <td>-0.089042</td>\n",
              "      <td>-2.260703</td>\n",
              "      <td>0.095598</td>\n",
              "      <td>0.697565</td>\n",
              "      <td>-1.111463</td>\n",
              "      <td>0.734825</td>\n",
              "      <td>-0.482797</td>\n",
              "      <td>0.017646</td>\n",
              "      <td>0.176691</td>\n",
              "      <td>-0.918823</td>\n",
              "      <td>0.020991</td>\n",
              "      <td>0.035599</td>\n",
              "      <td>0.707151</td>\n",
              "      <td>0.353104</td>\n",
              "      <td>-0.216797</td>\n",
              "      <td>-0.424495</td>\n",
              "      <td>-0.562745</td>\n",
              "      <td>0.108726</td>\n",
              "      <td>-0.055889</td>\n",
              "      <td>0.084980</td>\n",
              "      <td>0.173524</td>\n",
              "      <td>-0.014877</td>\n",
              "      <td>0.543928</td>\n",
              "      <td>0.249404</td>\n",
              "      <td>0.705467</td>\n",
              "      <td>-0.141402</td>\n",
              "      <td>-0.067495</td>\n",
              "      <td>66.30</td>\n",
              "      <td>0</td>\n",
              "    </tr>\n",
              "    <tr>\n",
              "      <th>7998</th>\n",
              "      <td>7998</td>\n",
              "      <td>172726</td>\n",
              "      <td>-0.484304</td>\n",
              "      <td>0.035673</td>\n",
              "      <td>-0.151704</td>\n",
              "      <td>-2.219867</td>\n",
              "      <td>-0.664752</td>\n",
              "      <td>0.790599</td>\n",
              "      <td>-0.794190</td>\n",
              "      <td>-1.702391</td>\n",
              "      <td>-2.018426</td>\n",
              "      <td>1.810499</td>\n",
              "      <td>0.228083</td>\n",
              "      <td>-0.306278</td>\n",
              "      <td>0.895626</td>\n",
              "      <td>-0.439779</td>\n",
              "      <td>-0.725171</td>\n",
              "      <td>-0.802003</td>\n",
              "      <td>0.481581</td>\n",
              "      <td>0.792651</td>\n",
              "      <td>1.152540</td>\n",
              "      <td>-0.705632</td>\n",
              "      <td>1.631565</td>\n",
              "      <td>0.317559</td>\n",
              "      <td>0.163274</td>\n",
              "      <td>0.227622</td>\n",
              "      <td>-1.011773</td>\n",
              "      <td>-0.094912</td>\n",
              "      <td>0.019251</td>\n",
              "      <td>0.233020</td>\n",
              "      <td>68.00</td>\n",
              "      <td>0</td>\n",
              "    </tr>\n",
              "    <tr>\n",
              "      <th>7999</th>\n",
              "      <td>7999</td>\n",
              "      <td>172766</td>\n",
              "      <td>1.975178</td>\n",
              "      <td>-0.616244</td>\n",
              "      <td>-2.628295</td>\n",
              "      <td>-0.406246</td>\n",
              "      <td>2.327804</td>\n",
              "      <td>3.664740</td>\n",
              "      <td>-0.533297</td>\n",
              "      <td>0.842937</td>\n",
              "      <td>1.128798</td>\n",
              "      <td>-0.220744</td>\n",
              "      <td>-0.590756</td>\n",
              "      <td>0.654596</td>\n",
              "      <td>-0.479779</td>\n",
              "      <td>0.120626</td>\n",
              "      <td>-0.907042</td>\n",
              "      <td>-1.186261</td>\n",
              "      <td>0.146953</td>\n",
              "      <td>-0.681104</td>\n",
              "      <td>0.295402</td>\n",
              "      <td>-0.168378</td>\n",
              "      <td>0.086043</td>\n",
              "      <td>0.543613</td>\n",
              "      <td>-0.032129</td>\n",
              "      <td>0.768379</td>\n",
              "      <td>0.477688</td>\n",
              "      <td>-0.031833</td>\n",
              "      <td>0.014151</td>\n",
              "      <td>-0.066542</td>\n",
              "      <td>25.00</td>\n",
              "      <td>0</td>\n",
              "    </tr>\n",
              "  </tbody>\n",
              "</table>\n",
              "</div>"
            ],
            "text/plain": [
              "      Unnamed: 0    Time        V1        V2        V3        V4        V5  \\\n",
              "7995        7995  172582 -0.942732  0.763164  0.185440 -0.064400  0.519435   \n",
              "7996        7996  172599 -0.195044  1.238305 -0.768720 -0.178302  0.582600   \n",
              "7997        7997  172617  2.038001 -0.089042 -2.260703  0.095598  0.697565   \n",
              "7998        7998  172726 -0.484304  0.035673 -0.151704 -2.219867 -0.664752   \n",
              "7999        7999  172766  1.975178 -0.616244 -2.628295 -0.406246  2.327804   \n",
              "\n",
              "            V6        V7        V8        V9       V10       V11       V12  \\\n",
              "7995 -0.824899  0.837716 -0.210690  0.751164 -0.018101 -1.282571 -0.083814   \n",
              "7996 -1.282570  0.946855 -0.129767 -0.040571 -0.915827 -0.700535 -0.463585   \n",
              "7997 -1.111463  0.734825 -0.482797  0.017646  0.176691 -0.918823  0.020991   \n",
              "7998  0.790599 -0.794190 -1.702391 -2.018426  1.810499  0.228083 -0.306278   \n",
              "7999  3.664740 -0.533297  0.842937  1.128798 -0.220744 -0.590756  0.654596   \n",
              "\n",
              "           V13       V14       V15       V16       V17       V18       V19  \\\n",
              "7995 -0.648833  0.032064 -0.235620 -1.311480  0.207468 -0.041811  0.900936   \n",
              "7996 -0.424763 -0.708648  0.713934  0.029515  0.617882  0.766489 -0.185751   \n",
              "7997  0.035599  0.707151  0.353104 -0.216797 -0.424495 -0.562745  0.108726   \n",
              "7998  0.895626 -0.439779 -0.725171 -0.802003  0.481581  0.792651  1.152540   \n",
              "7999 -0.479779  0.120626 -0.907042 -1.186261  0.146953 -0.681104  0.295402   \n",
              "\n",
              "           V20       V21       V22       V23       V24       V25       V26  \\\n",
              "7995  0.020565  0.190588  1.079226 -0.199087 -0.045535  0.181797 -0.293424   \n",
              "7996 -0.205106  0.365673  1.207021 -0.111128 -0.162594 -0.896012 -0.259841   \n",
              "7997 -0.055889  0.084980  0.173524 -0.014877  0.543928  0.249404  0.705467   \n",
              "7998 -0.705632  1.631565  0.317559  0.163274  0.227622 -1.011773 -0.094912   \n",
              "7999 -0.168378  0.086043  0.543613 -0.032129  0.768379  0.477688 -0.031833   \n",
              "\n",
              "           V27       V28  Amount  Class  \n",
              "7995  0.285188  0.393999   10.00      0  \n",
              "7996 -0.131265 -0.005010   18.16      0  \n",
              "7997 -0.141402 -0.067495   66.30      0  \n",
              "7998  0.019251  0.233020   68.00      0  \n",
              "7999  0.014151 -0.066542   25.00      0  "
            ]
          },
          "metadata": {},
          "execution_count": 91
        }
      ]
    },
    {
      "cell_type": "code",
      "metadata": {
        "colab": {
          "base_uri": "https://localhost:8080/"
        },
        "id": "414Iuy0UxXbk",
        "outputId": "236d06ce-db3c-43f2-b1c9-bd99b4bd109f"
      },
      "source": [
        "# Conta ocorrências de fraude and não fraude e imprime:\n",
        "\n",
        "occ = df['Class'].value_counts()\n",
        "occ"
      ],
      "execution_count": 92,
      "outputs": [
        {
          "output_type": "execute_result",
          "data": {
            "text/plain": [
              "0    7983\n",
              "1      17\n",
              "Name: Class, dtype: int64"
            ]
          },
          "metadata": {},
          "execution_count": 92
        }
      ]
    },
    {
      "cell_type": "code",
      "metadata": {
        "colab": {
          "base_uri": "https://localhost:8080/"
        },
        "id": "lUJb9Atrxs8T",
        "outputId": "915e62a7-db07-4610-e66f-8656b5757b22"
      },
      "source": [
        "# Imprime a Razão de casos de fraude em relação ao total:\n",
        "\n",
        "ratio_cases = occ/len(df.index)\n",
        "print(f'Razão de ocorrências de fraude: {ratio_cases[1]}\\nRazão de ocorrências não fraudulentas: {ratio_cases[0]}')"
      ],
      "execution_count": 93,
      "outputs": [
        {
          "output_type": "stream",
          "name": "stdout",
          "text": [
            "Razão de ocorrências de fraude: 0.002125\n",
            "Razão de ocorrências não fraudulentas: 0.997875\n"
          ]
        }
      ]
    },
    {
      "cell_type": "markdown",
      "metadata": {
        "id": "ZPOsrk0h0FdK"
      },
      "source": [
        "### **Visualização de dados**"
      ]
    },
    {
      "cell_type": "code",
      "metadata": {
        "id": "uEHbnci30I23"
      },
      "source": [
        "# função preparando o df\n",
        "\n",
        "def prep_data(df: pd.DataFrame) -> (np.ndarray, np.ndarray):\n",
        "    \"\"\"\n",
        "    Convert the DataFrame into two variable\n",
        "    X: data columns (V1 - V28)\n",
        "    y: lable column\n",
        "    \"\"\"\n",
        "    X = df.iloc[:, 1:29].values\n",
        "    y = df.Class.values\n",
        "    return X, y"
      ],
      "execution_count": null,
      "outputs": []
    },
    {
      "cell_type": "code",
      "metadata": {
        "id": "5paoUgmM0War"
      },
      "source": [
        "# Função cria um scatter plot dos dados e etiquetas\n",
        "def plot_data(X: np.ndarray, y: np.ndarray):\n",
        "    plt.scatter(X[y == 0, 0], X[y == 0, 1], label=\"Class #0\", alpha=0.5, linewidth=0.15)\n",
        "    plt.scatter(X[y == 1, 0], X[y == 1, 1], label=\"Class #1\", alpha=0.5, linewidth=0.15, c='r')\n",
        "    plt.legend()\n",
        "    return plt.show()"
      ],
      "execution_count": null,
      "outputs": []
    },
    {
      "cell_type": "code",
      "metadata": {
        "id": "KC0UOp3T0rv9"
      },
      "source": [
        "# Cria X e y da função prep_data\n",
        "X, y = prep_data(df)"
      ],
      "execution_count": null,
      "outputs": []
    },
    {
      "cell_type": "code",
      "metadata": {
        "colab": {
          "base_uri": "https://localhost:8080/",
          "height": 265
        },
        "id": "aZkQ66EI1LJs",
        "outputId": "bd29c469-f48c-4944-c1e1-61eaa8d7bbb0"
      },
      "source": [
        "# Gerando gráfico dos dados pela função plot data em X and y\n",
        "plot_data(X, y)"
      ],
      "execution_count": 97,
      "outputs": [
        {
          "output_type": "display_data",
          "data": {
            "image/png": "[encoded data removed]",
            "text/plain": [
              "<Figure size 432x288 with 1 Axes>"
            ]
          },
          "metadata": {
            "needs_background": "light"
          }
        }
      ]
    },
    {
      "cell_type": "markdown",
      "metadata": {
        "id": "HxnerEBm3J-G"
      },
      "source": [
        "### **Aumente as detecções bem-sucedidas com a reamostragem de dados**"
      ]
    },
    {
      "cell_type": "code",
      "metadata": {
        "colab": {
          "base_uri": "https://localhost:8080/"
        },
        "id": "KZRLIIpp29r1",
        "outputId": "e2ff3e9c-e335-4c00-f940-44b0affe03db"
      },
      "source": [
        "# Undersampling  x Oversampling\n",
        "\n",
        "# Implementando métodos de reamostragem usando o módulo Python imblean \n",
        "\n",
        "from imblearn.over_sampling import RandomOverSampler\n",
        "\n",
        "\n",
        "\n",
        "# Define o método de reamostragem em treino e teste\n",
        "method = SMOTE(kind='borderline1')\n",
        "X_train, X_test, y_train, y_test = train_test_split(X, y, train_size=0.8, random_state=0)\n",
        "\n",
        "# Aplica a reamostragem apenas aos dados de treinamento \n",
        "X_resampled, y_resampled = method.fit_sample(X_train, y_train)\n",
        "\n",
        "# Ajusta o modelo e obtém previsões\n",
        "model = LogisticRegression()\n",
        "model.fit(X_resampled, y_resampled)\n",
        "\n",
        "# Obtem métricas de desempenho do modelo\n",
        "predicted = model.predict(X_test)\n",
        "print(classification_report(y_test, predicted))"
      ],
      "execution_count": 98,
      "outputs": [
        {
          "output_type": "stream",
          "name": "stdout",
          "text": [
            "              precision    recall  f1-score   support\n",
            "\n",
            "           0       1.00      1.00      1.00      1594\n",
            "           1       1.00      0.17      0.29         6\n",
            "\n",
            "    accuracy                           1.00      1600\n",
            "   macro avg       1.00      0.58      0.64      1600\n",
            "weighted avg       1.00      1.00      1.00      1600\n",
            "\n"
          ]
        }
      ]
    },
    {
      "cell_type": "code",
      "metadata": {
        "id": "oNp7lJyuLWNz"
      },
      "source": [
        "# Métodos de reamostragem para dados desequilibrados\n",
        "# Aplicando o Synthetic Minority Oversampling Technique (SMOTE)\n",
        "\n",
        "# Executando a função prep_data\n",
        "X, y = prep_data(df)"
      ],
      "execution_count": 99,
      "outputs": []
    },
    {
      "cell_type": "code",
      "metadata": {
        "colab": {
          "base_uri": "https://localhost:8080/"
        },
        "id": "t0uKXx_jLsB8",
        "outputId": "f2f36fb3-1c49-4148-c61b-bd938b1ad894"
      },
      "source": [
        "print(f'X shape: {X.shape}\\ny shape: {y.shape}')"
      ],
      "execution_count": 100,
      "outputs": [
        {
          "output_type": "stream",
          "name": "stdout",
          "text": [
            "X shape: (8000, 28)\n",
            "y shape: (8000,)\n"
          ]
        }
      ]
    },
    {
      "cell_type": "code",
      "metadata": {
        "id": "715h7QSALxVy"
      },
      "source": [
        "# Definindo o método de reamostragem\n",
        "method = SMOTE()"
      ],
      "execution_count": 101,
      "outputs": []
    },
    {
      "cell_type": "code",
      "metadata": {
        "id": "flSiwhcGNamE"
      },
      "source": [
        "# Cria um conjunto de recursos reamostrado \n",
        "X_resampled, y_resampled = method.fit_sample(X, y)"
      ],
      "execution_count": 102,
      "outputs": []
    },
    {
      "cell_type": "code",
      "metadata": {
        "colab": {
          "base_uri": "https://localhost:8080/",
          "height": 0
        },
        "id": "DTFthzXDNpkF",
        "outputId": "c2053d13-d0f6-4a86-9322-ba2b3dffcf4a"
      },
      "source": [
        "# Plotando os dados reamostrados \n",
        "plot_data(X_resampled, y_resampled)"
      ],
      "execution_count": 103,
      "outputs": [
        {
          "output_type": "display_data",
          "data": {
            "image/png": "[encoded data removed]",
            "text/plain": [
              "<Figure size 432x288 with 1 Axes>"
            ]
          },
          "metadata": {
            "needs_background": "light"
          }
        }
      ]
    },
    {
      "cell_type": "code",
      "metadata": {
        "colab": {
          "base_uri": "https://localhost:8080/",
          "height": 0
        },
        "id": "gZaJI556RpN9",
        "outputId": "d8f0171f-635e-4cc2-8113-a67c180a636c"
      },
      "source": [
        "# Reproduzido usando o DataFrame\n",
        "plt.scatter(df.V2[df.Class == 0], df.V3[df.Class == 0], label=\"Class #0\", alpha=0.5, linewidth=0.15)\n",
        "plt.scatter(df.V2[df.Class == 1], df.V3[df.Class == 1], label=\"Class #1\", alpha=0.5, linewidth=0.15, c='r')\n",
        "plt.legend()\n",
        "plt.show()"
      ],
      "execution_count": 104,
      "outputs": [
        {
          "output_type": "display_data",
          "data": {
            "image/png": "[encoded data removed]",
            "text/plain": [
              "<Figure size 432x288 with 1 Axes>"
            ]
          },
          "metadata": {
            "needs_background": "light"
          }
        }
      ]
    },
    {
      "cell_type": "code",
      "metadata": {
        "colab": {
          "base_uri": "https://localhost:8080/"
        },
        "id": "pItYzJ3-R9nD",
        "outputId": "5266ac32-1b8a-4fc1-d34a-e94bb28c2c91"
      },
      "source": [
        "#Compare SMOTE to original data\n",
        "\n",
        "pd.value_counts(pd.Series(y))"
      ],
      "execution_count": 105,
      "outputs": [
        {
          "output_type": "execute_result",
          "data": {
            "text/plain": [
              "0    7983\n",
              "1      17\n",
              "dtype: int64"
            ]
          },
          "metadata": {},
          "execution_count": 105
        }
      ]
    },
    {
      "cell_type": "code",
      "metadata": {
        "colab": {
          "base_uri": "https://localhost:8080/"
        },
        "id": "AT1XpyO5SSCe",
        "outputId": "e309e59a-9a4d-4eed-9c6b-9b642df56027"
      },
      "source": [
        "pd.value_counts(pd.Series(y_resampled))\n",
        "\n"
      ],
      "execution_count": 106,
      "outputs": [
        {
          "output_type": "execute_result",
          "data": {
            "text/plain": [
              "1    7983\n",
              "0    7983\n",
              "dtype: int64"
            ]
          },
          "metadata": {},
          "execution_count": 106
        }
      ]
    },
    {
      "cell_type": "code",
      "metadata": {
        "id": "6NcHdKbNUOcX"
      },
      "source": [
        "# Função compara o df original com o de reamostragem:\n",
        "\n",
        "def compare_plot(X: np.ndarray, y: np.ndarray, X_resampled: np.ndarray, y_resampled: np.ndarray, method: str):\n",
        "    plt.subplot(1, 2, 1)\n",
        "    plt.scatter(X[y == 0, 0], X[y == 0, 1], label=\"Class #0\", alpha=0.5, linewidth=0.15)\n",
        "    plt.scatter(X[y == 1, 0], X[y == 1, 1], label=\"Class #1\", alpha=0.5, linewidth=0.15, c='r')\n",
        "    plt.title('Original Set')\n",
        "    plt.subplot(1, 2, 2)\n",
        "    plt.scatter(X_resampled[y_resampled == 0, 0], X_resampled[y_resampled == 0, 1], label=\"Class #0\", alpha=0.5, linewidth=0.15)\n",
        "    plt.scatter(X_resampled[y_resampled == 1, 0], X_resampled[y_resampled == 1, 1], label=\"Class #1\", alpha=0.5, linewidth=0.15, c='r')\n",
        "    plt.title(method)\n",
        "    plt.legend()\n",
        "    plt.show()"
      ],
      "execution_count": 107,
      "outputs": []
    },
    {
      "cell_type": "code",
      "metadata": {
        "colab": {
          "base_uri": "https://localhost:8080/",
          "height": 0
        },
        "id": "AXBTiqgDUYs3",
        "outputId": "15cfee79-b34b-4c3c-e41e-c75a93b0ec61"
      },
      "source": [
        "compare_plot(X, y, X_resampled, y_resampled, method='SMOTE')"
      ],
      "execution_count": 108,
      "outputs": [
        {
          "output_type": "display_data",
          "data": {
            "image/png": "[encoded data removed]",
            "text/plain": [
              "<Figure size 432x288 with 2 Axes>"
            ]
          },
          "metadata": {
            "needs_background": "light"
          }
        }
      ]
    },
    {
      "cell_type": "markdown",
      "metadata": {
        "id": "3U4d7OysUgtv"
      },
      "source": [
        "### **Fraud detection algorithms in action**"
      ]
    },
    {
      "cell_type": "code",
      "metadata": {
        "id": "6T2N7rACUiKV"
      },
      "source": [
        "# Sistemas baseados em Machine Learning\n",
        "\n",
        "# 1: divide os recursos e rótulos em dados de treinamento e teste\n",
        "X_train, X_test, y_train, y_test = train_test_split(X, y, test_size=0.2)"
      ],
      "execution_count": 109,
      "outputs": []
    },
    {
      "cell_type": "code",
      "metadata": {
        "id": "Jm12mgQ5nql6"
      },
      "source": [
        "X_train, X_test, y_train, y_test = train_test_split(X, y, random_state=0)\n",
        "clf = LinearRegression().fit(X_train, y_train)"
      ],
      "execution_count": 110,
      "outputs": []
    },
    {
      "cell_type": "code",
      "metadata": {
        "id": "kcOYGkOfU9RJ"
      },
      "source": [
        "# 2: Define o modelo a usar\n",
        "model = LinearRegression()"
      ],
      "execution_count": 111,
      "outputs": []
    },
    {
      "cell_type": "code",
      "metadata": {
        "colab": {
          "base_uri": "https://localhost:8080/"
        },
        "id": "d0Vana0XVHho",
        "outputId": "90b65a2e-af03-46d8-d570-08cd969a62e1"
      },
      "source": [
        "# 3: Ajusta o modelo aos dados de treino\n",
        "model.fit(X_train, y_train)"
      ],
      "execution_count": 112,
      "outputs": [
        {
          "output_type": "execute_result",
          "data": {
            "text/plain": [
              "LinearRegression(copy_X=True, fit_intercept=True, n_jobs=None, normalize=False)"
            ]
          },
          "metadata": {},
          "execution_count": 112
        }
      ]
    },
    {
      "cell_type": "code",
      "metadata": {
        "id": "Dzl8dhIIVNWt"
      },
      "source": [
        "# 4: Obtém o modelo preditivo para os dados de teste\n",
        "y_predicted = model.predict(X_test)"
      ],
      "execution_count": 113,
      "outputs": []
    },
    {
      "cell_type": "code",
      "metadata": {
        "colab": {
          "base_uri": "https://localhost:8080/"
        },
        "id": "tCT_qjJSVXUO",
        "outputId": "5b14d648-525a-4aa0-83f0-861c37fef9cd"
      },
      "source": [
        "# 5: Compare y_test to predictions and obtain performance metrics (r^2 score)\n",
        "r2_score(y_test, y_predicted)"
      ],
      "execution_count": 114,
      "outputs": [
        {
          "output_type": "execute_result",
          "data": {
            "text/plain": [
              "0.3120535831886888"
            ]
          },
          "metadata": {},
          "execution_count": 114
        }
      ]
    },
    {
      "cell_type": "code",
      "metadata": {
        "id": "FI8MIXIHbAxA"
      },
      "source": [
        "# Exploring the traditional method of fraud detection\n",
        "\n",
        "df.drop(['Unnamed: 0'], axis=1, inplace=True)"
      ],
      "execution_count": 115,
      "outputs": []
    },
    {
      "cell_type": "code",
      "metadata": {
        "colab": {
          "base_uri": "https://localhost:8080/",
          "height": 162
        },
        "id": "9Urbes94cKJE",
        "outputId": "5dbe8f58-0e98-40c5-f0a2-13f25b2d2b67"
      },
      "source": [
        "df.groupby('Class').mean()"
      ],
      "execution_count": 116,
      "outputs": [
        {
          "output_type": "execute_result",
          "data": {
            "text/html": [
              "<div>\n",
              "<style scoped>\n",
              "    .dataframe tbody tr th:only-of-type {\n",
              "        vertical-align: middle;\n",
              "    }\n",
              "\n",
              "    .dataframe tbody tr th {\n",
              "        vertical-align: top;\n",
              "    }\n",
              "\n",
              "    .dataframe thead th {\n",
              "        text-align: right;\n",
              "    }\n",
              "</style>\n",
              "<table border=\"1\" class=\"dataframe\">\n",
              "  <thead>\n",
              "    <tr style=\"text-align: right;\">\n",
              "      <th></th>\n",
              "      <th>Time</th>\n",
              "      <th>V1</th>\n",
              "      <th>V2</th>\n",
              "      <th>V3</th>\n",
              "      <th>V4</th>\n",
              "      <th>V5</th>\n",
              "      <th>V6</th>\n",
              "      <th>V7</th>\n",
              "      <th>V8</th>\n",
              "      <th>V9</th>\n",
              "      <th>V10</th>\n",
              "      <th>V11</th>\n",
              "      <th>V12</th>\n",
              "      <th>V13</th>\n",
              "      <th>V14</th>\n",
              "      <th>V15</th>\n",
              "      <th>V16</th>\n",
              "      <th>V17</th>\n",
              "      <th>V18</th>\n",
              "      <th>V19</th>\n",
              "      <th>V20</th>\n",
              "      <th>V21</th>\n",
              "      <th>V22</th>\n",
              "      <th>V23</th>\n",
              "      <th>V24</th>\n",
              "      <th>V25</th>\n",
              "      <th>V26</th>\n",
              "      <th>V27</th>\n",
              "      <th>V28</th>\n",
              "      <th>Amount</th>\n",
              "    </tr>\n",
              "    <tr>\n",
              "      <th>Class</th>\n",
              "      <th></th>\n",
              "      <th></th>\n",
              "      <th></th>\n",
              "      <th></th>\n",
              "      <th></th>\n",
              "      <th></th>\n",
              "      <th></th>\n",
              "      <th></th>\n",
              "      <th></th>\n",
              "      <th></th>\n",
              "      <th></th>\n",
              "      <th></th>\n",
              "      <th></th>\n",
              "      <th></th>\n",
              "      <th></th>\n",
              "      <th></th>\n",
              "      <th></th>\n",
              "      <th></th>\n",
              "      <th></th>\n",
              "      <th></th>\n",
              "      <th></th>\n",
              "      <th></th>\n",
              "      <th></th>\n",
              "      <th></th>\n",
              "      <th></th>\n",
              "      <th></th>\n",
              "      <th></th>\n",
              "      <th></th>\n",
              "      <th></th>\n",
              "      <th></th>\n",
              "    </tr>\n",
              "  </thead>\n",
              "  <tbody>\n",
              "    <tr>\n",
              "      <th>0</th>\n",
              "      <td>95383.605161</td>\n",
              "      <td>0.023553</td>\n",
              "      <td>-0.008543</td>\n",
              "      <td>-0.002408</td>\n",
              "      <td>-0.034757</td>\n",
              "      <td>-0.020108</td>\n",
              "      <td>0.003264</td>\n",
              "      <td>0.023668</td>\n",
              "      <td>-0.004720</td>\n",
              "      <td>-0.010660</td>\n",
              "      <td>0.012242</td>\n",
              "      <td>0.005628</td>\n",
              "      <td>0.007979</td>\n",
              "      <td>-0.003281</td>\n",
              "      <td>0.018215</td>\n",
              "      <td>-0.012515</td>\n",
              "      <td>-0.000099</td>\n",
              "      <td>0.005028</td>\n",
              "      <td>0.002325</td>\n",
              "      <td>-0.012212</td>\n",
              "      <td>-0.00692</td>\n",
              "      <td>-0.004279</td>\n",
              "      <td>0.027999</td>\n",
              "      <td>0.006689</td>\n",
              "      <td>-0.000550</td>\n",
              "      <td>-0.000616</td>\n",
              "      <td>0.000659</td>\n",
              "      <td>-0.006740</td>\n",
              "      <td>0.005625</td>\n",
              "      <td>89.721167</td>\n",
              "    </tr>\n",
              "    <tr>\n",
              "      <th>1</th>\n",
              "      <td>83000.176471</td>\n",
              "      <td>-3.235382</td>\n",
              "      <td>1.317054</td>\n",
              "      <td>-3.762234</td>\n",
              "      <td>2.801140</td>\n",
              "      <td>-0.941354</td>\n",
              "      <td>-1.184692</td>\n",
              "      <td>-3.527826</td>\n",
              "      <td>-0.108892</td>\n",
              "      <td>-1.546536</td>\n",
              "      <td>-4.112638</td>\n",
              "      <td>2.697962</td>\n",
              "      <td>-4.649967</td>\n",
              "      <td>-0.597431</td>\n",
              "      <td>-5.104228</td>\n",
              "      <td>-0.137424</td>\n",
              "      <td>-3.176719</td>\n",
              "      <td>-5.237885</td>\n",
              "      <td>-1.630226</td>\n",
              "      <td>0.428150</td>\n",
              "      <td>-0.29245</td>\n",
              "      <td>0.361582</td>\n",
              "      <td>0.159210</td>\n",
              "      <td>-0.119366</td>\n",
              "      <td>-0.144082</td>\n",
              "      <td>0.155552</td>\n",
              "      <td>0.038765</td>\n",
              "      <td>0.265996</td>\n",
              "      <td>0.131853</td>\n",
              "      <td>65.287647</td>\n",
              "    </tr>\n",
              "  </tbody>\n",
              "</table>\n",
              "</div>"
            ],
            "text/plain": [
              "               Time        V1        V2        V3        V4        V5  \\\n",
              "Class                                                                   \n",
              "0      95383.605161  0.023553 -0.008543 -0.002408 -0.034757 -0.020108   \n",
              "1      83000.176471 -3.235382  1.317054 -3.762234  2.801140 -0.941354   \n",
              "\n",
              "             V6        V7        V8        V9       V10       V11       V12  \\\n",
              "Class                                                                         \n",
              "0      0.003264  0.023668 -0.004720 -0.010660  0.012242  0.005628  0.007979   \n",
              "1     -1.184692 -3.527826 -0.108892 -1.546536 -4.112638  2.697962 -4.649967   \n",
              "\n",
              "            V13       V14       V15       V16       V17       V18       V19  \\\n",
              "Class                                                                         \n",
              "0     -0.003281  0.018215 -0.012515 -0.000099  0.005028  0.002325 -0.012212   \n",
              "1     -0.597431 -5.104228 -0.137424 -3.176719 -5.237885 -1.630226  0.428150   \n",
              "\n",
              "           V20       V21       V22       V23       V24       V25       V26  \\\n",
              "Class                                                                        \n",
              "0     -0.00692 -0.004279  0.027999  0.006689 -0.000550 -0.000616  0.000659   \n",
              "1     -0.29245  0.361582  0.159210 -0.119366 -0.144082  0.155552  0.038765   \n",
              "\n",
              "            V27       V28     Amount  \n",
              "Class                                 \n",
              "0     -0.006740  0.005625  89.721167  \n",
              "1      0.265996  0.131853  65.287647  "
            ]
          },
          "metadata": {},
          "execution_count": 116
        }
      ]
    },
    {
      "cell_type": "code",
      "metadata": {
        "id": "z9E-tcn1cxOY"
      },
      "source": [
        "df['flag_as_fraud'] = np.where(np.logical_and(df.V1 < -3, df.V3 < -5), 1, 0)"
      ],
      "execution_count": 117,
      "outputs": []
    },
    {
      "cell_type": "markdown",
      "metadata": {
        "id": "rUKWZC8MhXFR"
      },
      "source": [
        "### **Referências:**\n",
        "\n",
        "https://www.teses.usp.br/teses/disponiveis/45/45134/tde-01022016-204144/publico/Paulo_Oliveira_Mestrado_PPGCC.pdf\n",
        "\n",
        "https://towardsdatascience.com/understand-and-build-fp-growth-algorithm-in-python-d8b989bab342\n",
        "\n",
        "https://trenton3983.github.io/files/projects/2019-07-19_fraud_detection_python/2019-07-19_fraud_detection_python.html\n",
        "\n",
        "people described by a set of attributes as good or bad credit risks.\n",
        "https://www.openml.org/d/31\n",
        "\n",
        "creditcard fraud  in September 2013 by european cardholders\n",
        "https://www.openml.org/d/42175\n",
        "https://www.openml.org/d/1597"
      ]
    }
  ]
}